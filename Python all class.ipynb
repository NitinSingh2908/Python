{
 "cells": [
  {
   "cell_type": "markdown",
   "id": "b6eb439f",
   "metadata": {},
   "source": [
    "\n",
    "# Python"
   ]
  },
  {
   "cell_type": "markdown",
   "id": "69e7d116",
   "metadata": {},
   "source": [
    "**23 Dec**"
   ]
  },
  {
   "cell_type": "code",
   "execution_count": 1,
   "id": "95d55e9a",
   "metadata": {},
   "outputs": [],
   "source": [
    "# for i in range (1,10);\n",
    "# print (i)"
   ]
  },
  {
   "cell_type": "code",
   "execution_count": 2,
   "id": "f8b2b8b2",
   "metadata": {},
   "outputs": [
    {
     "name": "stdout",
     "output_type": "stream",
     "text": [
      "Hello world\n"
     ]
    }
   ],
   "source": [
    "print (\"Hello world\")"
   ]
  },
  {
   "cell_type": "code",
   "execution_count": 3,
   "id": "9a03769f",
   "metadata": {},
   "outputs": [],
   "source": [
    "# #Operators\n",
    "\n",
    "# 1. Airthmatic Operators = [+, -, /, %, //, **]\n",
    "# 2. Assignment Operators \n",
    "# 3. Logical Operators\n",
    "# 4. Comperision Operators\n",
    "# 5. Identity Operators\n",
    "# 6. Membership Operator\n",
    "# 7. Bitwise Operator"
   ]
  },
  {
   "cell_type": "code",
   "execution_count": 4,
   "id": "9775cd30",
   "metadata": {},
   "outputs": [
    {
     "ename": "NameError",
     "evalue": "name 'x' is not defined",
     "output_type": "error",
     "traceback": [
      "\u001b[1;31m---------------------------------------------------------------------------\u001b[0m",
      "\u001b[1;31mNameError\u001b[0m                                 Traceback (most recent call last)",
      "Cell \u001b[1;32mIn[4], line 2\u001b[0m\n\u001b[0;32m      1\u001b[0m \u001b[38;5;66;03m# Addition\u001b[39;00m\n\u001b[1;32m----> 2\u001b[0m add \u001b[38;5;241m=\u001b[39m x\u001b[38;5;241m+\u001b[39my\u001b[38;5;241m+\u001b[39mz\n\u001b[0;32m      3\u001b[0m \u001b[38;5;28mprint\u001b[39m(add)\n",
      "\u001b[1;31mNameError\u001b[0m: name 'x' is not defined"
     ]
    }
   ],
   "source": [
    "# Addition\n",
    "add = x+y+z\n",
    "print(add)"
   ]
  },
  {
   "cell_type": "code",
   "execution_count": null,
   "id": "1f13a4c0",
   "metadata": {},
   "outputs": [],
   "source": [
    "x,y,z = 12,45,78\n",
    "add = x+y+z\n",
    "print(add)"
   ]
  },
  {
   "cell_type": "code",
   "execution_count": null,
   "id": "6ce96960",
   "metadata": {},
   "outputs": [],
   "source": [
    "# Modules : its show the reminder\n",
    "x = 19\n",
    "y = 5\n",
    "print(x%y)"
   ]
  },
  {
   "cell_type": "code",
   "execution_count": null,
   "id": "b15891f2",
   "metadata": {},
   "outputs": [],
   "source": [
    "# floor division its round up the output with minimum value\n",
    "x=27\n",
    "y=4\n",
    "d = x/y\n",
    "print(d)"
   ]
  },
  {
   "cell_type": "code",
   "execution_count": null,
   "id": "19b3313e",
   "metadata": {},
   "outputs": [],
   "source": [
    "x//y # its remove the value after the decimal"
   ]
  },
  {
   "cell_type": "markdown",
   "id": "4c579c66",
   "metadata": {},
   "source": [
    "# Exponets\n",
    "x = 4\n",
    "y = 6\n",
    "z = x**y\n",
    "print(z)"
   ]
  },
  {
   "cell_type": "code",
   "execution_count": null,
   "id": "16f9d3e1",
   "metadata": {},
   "outputs": [],
   "source": [
    "4*4*4*4*4*4"
   ]
  },
  {
   "cell_type": "markdown",
   "id": "2e9150c0",
   "metadata": {},
   "source": [
    "# Data Type\n",
    "\n",
    "1. Numerical = integar (int) float comples\n",
    "2. Text type = string (str)\n",
    "3. Sequence - List [], tuple (), range()\n",
    "4. set = {}\n",
    "5. Mapping = Dictionary {key + value}\n",
    "6. Boolen = True , False\n",
    "7. None = None"
   ]
  },
  {
   "cell_type": "code",
   "execution_count": null,
   "id": "de6f7a12",
   "metadata": {},
   "outputs": [],
   "source": [
    "x = \"Hello world\"\n",
    "print(x)\n",
    "print(type(x))   # show data type\n",
    "print(len(x))   # to identify length of string"
   ]
  },
  {
   "cell_type": "code",
   "execution_count": null,
   "id": "771cc636",
   "metadata": {},
   "outputs": [],
   "source": [
    "x = \"\"\"There may be times when you want to specify a type on to a variable. This can be done with casting. Python is an object-orientated language, and as such it uses classes to define data types, including its primitive types.'''\n",
    "\"\"\"\n",
    "print(x)\n",
    "\n",
    "# use \"\"\" to print multiple string at start & end of the sentances\n"
   ]
  },
  {
   "cell_type": "code",
   "execution_count": null,
   "id": "fab0836b",
   "metadata": {},
   "outputs": [],
   "source": [
    "x = 400\n",
    "print(type(x))"
   ]
  },
  {
   "cell_type": "code",
   "execution_count": null,
   "id": "19f6f1f8",
   "metadata": {},
   "outputs": [],
   "source": [
    "x = 100.0\n",
    "print(type(x))"
   ]
  },
  {
   "cell_type": "code",
   "execution_count": null,
   "id": "810503c3",
   "metadata": {},
   "outputs": [],
   "source": [
    "x= 21j\n",
    "print(type(x))"
   ]
  },
  {
   "cell_type": "code",
   "execution_count": null,
   "id": "77a1b93a",
   "metadata": {},
   "outputs": [],
   "source": [
    "# string\n",
    "x= 'Brillica'\n",
    "print(x)\n",
    "print(type(x))\n",
    "print(len(x))"
   ]
  },
  {
   "cell_type": "code",
   "execution_count": null,
   "id": "02126adb",
   "metadata": {},
   "outputs": [],
   "source": [
    "# Forcasting\n",
    "\n",
    "#we cannot check length for integar, for that we need to change variable in string format\n",
    "\n",
    "x = 10\n",
    "print (type(x))\n",
    "print(x)\n",
    "\n",
    "y=str(x)  # convert to string\n",
    "print(y)\n",
    "print(type(y))\n",
    "print(len(y))"
   ]
  },
  {
   "cell_type": "code",
   "execution_count": null,
   "id": "075f02d0",
   "metadata": {},
   "outputs": [],
   "source": [
    "# str() It's convert in String\n",
    "# Float It's convert in Float\n",
    "# int() It's convert in Integer\n",
    "# Complex () It's convert in complex"
   ]
  },
  {
   "cell_type": "code",
   "execution_count": null,
   "id": "9f199523",
   "metadata": {},
   "outputs": [],
   "source": [
    "#convert the 789 to float and string and check the length and data type\n",
    "\n",
    "x = 789\n",
    "y = float(x)\n",
    "print(type(y))\n",
    "\n",
    "x = 789\n",
    "y = str(x)\n",
    "print(len(y))"
   ]
  },
  {
   "cell_type": "code",
   "execution_count": null,
   "id": "5b68a3e4",
   "metadata": {},
   "outputs": [],
   "source": [
    "x = \"45\"\n",
    "y = \"10\"\n",
    "print(x+y)\n"
   ]
  },
  {
   "cell_type": "code",
   "execution_count": null,
   "id": "133e85a9",
   "metadata": {},
   "outputs": [],
   "source": [
    "x =\"45\"\n",
    "y = \"10\"\n",
    "x=int(x)\n",
    "y=int(y)\n",
    "print(x+y)"
   ]
  },
  {
   "cell_type": "code",
   "execution_count": null,
   "id": "adccc140",
   "metadata": {},
   "outputs": [],
   "source": [
    "# ## comeprision operators\n",
    "\n",
    "# >  Greater than\n",
    "# <  less than\n",
    "# == equal \n",
    "# !=  Not equal\n",
    "# >=  Greater than equal\n",
    "# <=  Less than equal"
   ]
  },
  {
   "cell_type": "code",
   "execution_count": null,
   "id": "68da7c7a",
   "metadata": {},
   "outputs": [],
   "source": [
    "x = 10\n",
    "y = 20\n",
    "\n",
    "print(x<y)\n",
    "print(x>y)\n",
    "print(x==y)"
   ]
  },
  {
   "cell_type": "code",
   "execution_count": null,
   "id": "7b92b193",
   "metadata": {},
   "outputs": [],
   "source": [
    "x= 10\n",
    "y = 20\n",
    "\n",
    "if x >= 20:\n",
    "    print(\"x is greater than y\")\n",
    "else:\n",
    "    print(\"X is less than y\")"
   ]
  },
  {
   "cell_type": "code",
   "execution_count": null,
   "id": "95663eeb",
   "metadata": {},
   "outputs": [],
   "source": [
    "x = 200 \n",
    "if x != 200:\n",
    "    print(\"Right\")\n",
    "else :\n",
    "    print(\"Wrong\")"
   ]
  },
  {
   "cell_type": "code",
   "execution_count": null,
   "id": "f61a79a4",
   "metadata": {},
   "outputs": [],
   "source": [
    "#Find out type & Length\n",
    "x = 450\n",
    "y = \"Brillica\"\n",
    "a=str(x)\n",
    "print(type(x))\n",
    "print(type(y))\n",
    "print(len(y))\n",
    "print(len(a))"
   ]
  },
  {
   "cell_type": "code",
   "execution_count": null,
   "id": "6f9b68e8",
   "metadata": {},
   "outputs": [],
   "source": [
    "# Write a python program to check the NUmber is Odd or Even ?\n",
    "\n",
    "x = int(input(\"Enter the Number :-\"))\n",
    "if x%2==0:\n",
    "    print(\"Even\")\n",
    "else:\n",
    "    print(\"Odd\")"
   ]
  },
  {
   "cell_type": "code",
   "execution_count": null,
   "id": "0c6a4de5",
   "metadata": {},
   "outputs": [],
   "source": [
    "#write a python program to check the NUmber is Greater than 50 or Not ?\n",
    "\n",
    "x= int(input(\"Enter the Number\"))\n",
    "if x>50:\n",
    "    print(\"Greater than 50\")\n",
    "else:\n",
    "    print(\"Less than 50\")\n",
    "    "
   ]
  },
  {
   "cell_type": "code",
   "execution_count": null,
   "id": "c17e3b2e",
   "metadata": {},
   "outputs": [],
   "source": [
    "# write a python program to check the Number is Divisible of 5 or Not ?\n",
    "\n",
    "x=int(input(\"Enter the Number\"))\n",
    "if x%5==0:\n",
    "    print(\"Divisible\")\n",
    "else:\n",
    "    print(\"Not Divisible\")"
   ]
  },
  {
   "cell_type": "code",
   "execution_count": null,
   "id": "e970b233",
   "metadata": {},
   "outputs": [],
   "source": [
    "# Write a python program to check who is eligible for vote ?\n",
    "\n",
    "age=int(input(\"Enter the age\"))\n",
    "if age>=18:\n",
    "    print(\"Eleigible for vote\")\n",
    "else:\n",
    "    print(\"Not Elegible for vote\")"
   ]
  },
  {
   "cell_type": "code",
   "execution_count": null,
   "id": "7edda4c1",
   "metadata": {},
   "outputs": [],
   "source": [
    "\n",
    "# if per is greater than 60 \t\t\t\t\t====    First div\n",
    "# if per is greater than 45 and less than 60  ====    second div\n",
    "# if per is greater than 33 and Less than 45 =====    third div\n",
    "# if per is less than 33                      ====    fail\n",
    "\n",
    "Per = int(input(\"enter the percentage of student :-\"))\n",
    "\n",
    "if Per >=60:\n",
    "    print(\"First Divistion\")\n",
    "elif Per>=45:\n",
    "    print(\"Second Division\")\n",
    "elif Per>=33:\n",
    "    print(\"Third Division\")\n",
    "elif Per<33:\n",
    "    print(\"Fail\")"
   ]
  },
  {
   "cell_type": "code",
   "execution_count": null,
   "id": "b3989260",
   "metadata": {},
   "outputs": [],
   "source": [
    "# And Operator\n",
    "\n",
    "x = int(input(\"enter number\"))\n",
    "if x>30 and x<50:\n",
    "    print(\"True\")\n",
    "else:\n",
    "    print(\"False\")"
   ]
  },
  {
   "cell_type": "code",
   "execution_count": null,
   "id": "6615b93f",
   "metadata": {},
   "outputs": [],
   "source": [
    "# Or Operator\n",
    "\n",
    "x= int(input(\"enter number\"))\n",
    "if x<=50 or x<=75:\n",
    "    print(\"True\")\n",
    "else:\n",
    "    print(\"False\")"
   ]
  },
  {
   "cell_type": "code",
   "execution_count": null,
   "id": "f90ebdfa",
   "metadata": {},
   "outputs": [],
   "source": [
    "#30 Dec 2023"
   ]
  },
  {
   "cell_type": "code",
   "execution_count": null,
   "id": "2faadab0",
   "metadata": {},
   "outputs": [],
   "source": [
    "# Write a python program to compare the three number which is the highest number\n",
    "#take input with help of user input.\n",
    "\n",
    "x=int(input(\"enter the first number\"))\n",
    "y=int(input(\"enter the scond number\"))\n",
    "z=int(input(\"enter the third number\"))\n",
    "if x>y and x>z:\n",
    "    print(x,\"highest number\")\n",
    "elif y>x and y>z:\n",
    "    print(y,\"highest number\")\n",
    "elif z>x and z>y:\n",
    "    print(z,\"highest number\")\n"
   ]
  },
  {
   "cell_type": "code",
   "execution_count": null,
   "id": "ac25ece5",
   "metadata": {},
   "outputs": [],
   "source": [
    "# Write a python program to wether a number is divisible by 2 and 3 both\n",
    "\n",
    "x=int(input(\"enter the number\"))\n",
    "if x%2==0 and x%3==0:\n",
    "    print(\"Divisible\")\n",
    "else:\n",
    "    print(\"not divisible\")\n",
    "    \n",
    "\n"
   ]
  },
  {
   "cell_type": "code",
   "execution_count": null,
   "id": "9453492c",
   "metadata": {},
   "outputs": [],
   "source": [
    "# Write a python program to wether a number is divisible by 2 and 3 both \n",
    "# show the number which is divisible\n",
    "\n",
    "x=int(input(\"enter the number\"))\n",
    "if x%2==0 or x%3==0:\n",
    "    print(x,\" is Divisible\")\n",
    "    if x%2==0:\n",
    "        print(x,\"is divisible with 2\")\n",
    "    else:\n",
    "        print(x,\"is divisible with 3\")\n",
    "\n"
   ]
  },
  {
   "cell_type": "code",
   "execution_count": null,
   "id": "ddf739f1",
   "metadata": {},
   "outputs": [],
   "source": [
    "# identity Operator\n",
    "\n",
    "# is\n",
    "# is not\n",
    "\n",
    "x= 10\n",
    "y = 10\n",
    "print (x is y)\n"
   ]
  },
  {
   "cell_type": "code",
   "execution_count": null,
   "id": "0281c4dc",
   "metadata": {},
   "outputs": [],
   "source": [
    "x=10\n",
    "y =15\n",
    "print (x is y)"
   ]
  },
  {
   "cell_type": "code",
   "execution_count": null,
   "id": "3abb6a7c",
   "metadata": {},
   "outputs": [],
   "source": [
    "# Membership Operator\n",
    "\n",
    "# in , not In\n",
    "\n",
    "x = \"Nitin Singh\"\n",
    "if \"z\"in x:\n",
    "    print(\"present\")\n",
    "else:\n",
    "    print(\"not present\")\n"
   ]
  },
  {
   "cell_type": "code",
   "execution_count": null,
   "id": "5727e7d3",
   "metadata": {},
   "outputs": [],
   "source": [
    "## Bitwise operator\n",
    "# & and\n",
    "# | or\n",
    "\n",
    "x=15\n",
    "if x==15 & x>10:\n",
    "    print(\"Correct\")"
   ]
  },
  {
   "cell_type": "markdown",
   "id": "f127247a",
   "metadata": {},
   "source": [
    "# Casting\n",
    "\n",
    "x= 10   # int\n",
    "y = str(x)\n",
    "type(y)"
   ]
  },
  {
   "cell_type": "code",
   "execution_count": null,
   "id": "84854771",
   "metadata": {},
   "outputs": [],
   "source": [
    "# int()\n",
    "# str()\n",
    "# float()\n",
    "\n",
    "#list()\n",
    "#tupe()\n",
    "#dict()\n",
    "#set()\n"
   ]
  },
  {
   "cell_type": "code",
   "execution_count": null,
   "id": "212ba6ba",
   "metadata": {},
   "outputs": [],
   "source": [
    "x=\"12\"\n",
    "y=\"10\"\n",
    "print(type(x))\n",
    "print(type(y))"
   ]
  },
  {
   "cell_type": "code",
   "execution_count": null,
   "id": "c2e0da71",
   "metadata": {},
   "outputs": [],
   "source": [
    "a=int(x)\n",
    "b=int(y)\n",
    "z = a+b\n",
    "print(type(z))\n",
    "print (z)"
   ]
  },
  {
   "cell_type": "markdown",
   "id": "f33bf1f6",
   "metadata": {},
   "source": [
    "# Swapping\n",
    "\n"
   ]
  },
  {
   "cell_type": "code",
   "execution_count": null,
   "id": "08afa8b2",
   "metadata": {},
   "outputs": [],
   "source": [
    "x,y = 10,12\n",
    "print(\"x :\", x)\n",
    "print(\"y :\", y)"
   ]
  },
  {
   "cell_type": "code",
   "execution_count": null,
   "id": "2cc44d13",
   "metadata": {},
   "outputs": [],
   "source": [
    "x,y = y,x     # Swapping\n",
    "print(\"x :\", x)\n",
    "print(\"y :\", y)"
   ]
  },
  {
   "cell_type": "markdown",
   "id": "1125e72f",
   "metadata": {},
   "source": [
    "# Loop"
   ]
  },
  {
   "cell_type": "code",
   "execution_count": null,
   "id": "e995f5b3",
   "metadata": {},
   "outputs": [],
   "source": [
    "# 1. while Loop\n",
    "# 2. For Loop"
   ]
  },
  {
   "cell_type": "code",
   "execution_count": null,
   "id": "0a57a263",
   "metadata": {},
   "outputs": [],
   "source": [
    "x= 10\n",
    "y=0\n",
    "while x>=y:\n",
    "    print(\"Number\",y)\n",
    "    y = y+1"
   ]
  },
  {
   "cell_type": "code",
   "execution_count": null,
   "id": "b67904fc",
   "metadata": {},
   "outputs": [],
   "source": [
    "# print 10 to 1  with the help of while loop\n",
    "\n",
    "x=10\n",
    "y = 1\n",
    "while x>=y:\n",
    "    print(x)\n",
    "    x=x-1"
   ]
  },
  {
   "cell_type": "code",
   "execution_count": null,
   "id": "407efa6d",
   "metadata": {},
   "outputs": [],
   "source": [
    "x=10\n",
    "y = 1\n",
    "while x>=y:\n",
    "    print(y)\n",
    "    y=y+1"
   ]
  },
  {
   "cell_type": "code",
   "execution_count": null,
   "id": "4372b184",
   "metadata": {},
   "outputs": [],
   "source": []
  },
  {
   "cell_type": "code",
   "execution_count": null,
   "id": "02c3ca1f",
   "metadata": {},
   "outputs": [],
   "source": [
    "# print all evern number from 1 to 20\n",
    "\n",
    "x=20\n",
    "y=1\n",
    "while x>=y:\n",
    "    if y%2==0:\n",
    "        print(\"Even Number :\", y)\n",
    "    y+=1"
   ]
  },
  {
   "cell_type": "code",
   "execution_count": null,
   "id": "2c24df28",
   "metadata": {},
   "outputs": [],
   "source": [
    "# Print odd number from 1 to 25 ?\n",
    "\n",
    "x=25\n",
    "y=1\n",
    "while x>=y:\n",
    "    if y%2!=0:\n",
    "        print(\"odd number :\", y)\n",
    "    y+=1"
   ]
  },
  {
   "cell_type": "code",
   "execution_count": null,
   "id": "17d9885b",
   "metadata": {},
   "outputs": [],
   "source": [
    "# write 5 table\n",
    "x=50\n",
    "y=5\n",
    "while x>=y:\n",
    "    print(y)\n",
    "    y+=5"
   ]
  },
  {
   "cell_type": "code",
   "execution_count": null,
   "id": "13bbf326",
   "metadata": {},
   "outputs": [],
   "source": [
    "# Enter any decenemic table\n",
    "\n",
    "a=int(input(\"Enter the table name\"))\n",
    "x=10\n",
    "y=1\n",
    "while x>=y:\n",
    "    print(y*a)\n",
    "    y= y+1"
   ]
  },
  {
   "cell_type": "code",
   "execution_count": null,
   "id": "8ad40386",
   "metadata": {},
   "outputs": [],
   "source": [
    "# # print like below\n",
    "# 5 x 1 = 5\n",
    "# 5 x 2 = 10\n",
    "\n",
    "a=int(input(\"Enter the table name\"))\n",
    "x=10\n",
    "y=1\n",
    "while x>=y:\n",
    "    print(a,\"X\",y,\"=\", a*y)\n",
    "    y= y+1\n"
   ]
  },
  {
   "cell_type": "code",
   "execution_count": null,
   "id": "4cf3008f",
   "metadata": {},
   "outputs": [],
   "source": [
    "# # Break - it is used to stop the loop\n",
    "# Continue - skip the text or number"
   ]
  },
  {
   "cell_type": "code",
   "execution_count": null,
   "id": "eac47a7b",
   "metadata": {},
   "outputs": [],
   "source": [
    "# Print the number 1 to 10 but break the look at 5\n",
    "\n",
    "x=10\n",
    "y=1\n",
    "while x>=y:\n",
    "    if y==5:\n",
    "        break\n",
    "    print(y)\n",
    "    y = y + 1\n"
   ]
  },
  {
   "cell_type": "code",
   "execution_count": null,
   "id": "380fda95",
   "metadata": {},
   "outputs": [],
   "source": [
    "# # Print the number 1 to 10 but continue after 5\n",
    "\n",
    "x=10\n",
    "y=0\n",
    "while x>=y:\n",
    "    y+=1\n",
    "    if y==5 or y==7:\n",
    "        continue\n",
    "    print(y)\n"
   ]
  },
  {
   "cell_type": "code",
   "execution_count": null,
   "id": "c4a470aa",
   "metadata": {},
   "outputs": [],
   "source": [
    "# to print Horizontal counting\n",
    "\n",
    "x=10\n",
    "y=1\n",
    "while x>=y:\n",
    "    print(y, end=\",\")        # end is use for print value in Horizontal \n",
    "    y"
   ]
  },
  {
   "cell_type": "code",
   "execution_count": null,
   "id": "f12ff297",
   "metadata": {},
   "outputs": [],
   "source": [
    "# Write a programe to extract the all even number from 1 to 30\n",
    "\n",
    "x=30\n",
    "y=1\n",
    "while x>=y:\n",
    "    if y%2==0:\n",
    "        print(y)\n",
    "    y+=1"
   ]
  },
  {
   "cell_type": "code",
   "execution_count": null,
   "id": "5986a86d",
   "metadata": {},
   "outputs": [],
   "source": [
    "# Write a programe to count the all even number from 1 to 30\n",
    "\n",
    "c=0\n",
    "x=30\n",
    "y=1\n",
    "while x>=y:\n",
    "    if y%2==0:\n",
    "        c=c+1\n",
    "    y+=1\n",
    "print(\"total even number is :\", c)"
   ]
  },
  {
   "cell_type": "code",
   "execution_count": null,
   "id": "86996ea4",
   "metadata": {},
   "outputs": [],
   "source": [
    "# Write the programe to add first 6 values with the help of while loop.\n",
    "# 1,2,3,4,5,6 = 21\n",
    "\n",
    "a=0\n",
    "x=6\n",
    "y=1\n",
    "while x>=y:\n",
    "    a=a+y\n",
    "    y+=1\n",
    "print(\"Addition :-\", a)\n",
    "    \n",
    "    "
   ]
  },
  {
   "cell_type": "code",
   "execution_count": null,
   "id": "9162d437",
   "metadata": {},
   "outputs": [],
   "source": [
    "# write a program to skip the 13,15 and 19 fromm 10 to 40 and print the number Horizontally\n",
    "\n",
    "x=40\n",
    "y=9\n",
    "while x>y:\n",
    "    y+=1\n",
    "    if y==13 or y==15 or y==19:\n",
    "        continue\n",
    "    else:\n",
    "        print(y,end=\"  \")\n",
    "    \n"
   ]
  },
  {
   "cell_type": "markdown",
   "id": "3c6b3d67",
   "metadata": {},
   "source": [
    "For Loop"
   ]
  },
  {
   "cell_type": "markdown",
   "id": "baba7ece",
   "metadata": {},
   "source": [
    "# Sequence data type : list, tupple, range()"
   ]
  },
  {
   "cell_type": "markdown",
   "id": "bdce3a73",
   "metadata": {},
   "source": [
    "# range (starting point, Ending Point, step size)"
   ]
  },
  {
   "cell_type": "code",
   "execution_count": null,
   "id": "7975a62a",
   "metadata": {},
   "outputs": [],
   "source": [
    "# write query to print 1 to 10 number\n",
    "# range (starting point, ending point, step size)\n",
    "\n",
    "for a in range(1,11):\n",
    "    print(a)"
   ]
  },
  {
   "cell_type": "code",
   "execution_count": null,
   "id": "ec19f930",
   "metadata": {},
   "outputs": [],
   "source": [
    "# write a program to print the back counting from 10 to 1\n",
    "# with the help of for loop\n",
    "\n",
    "for a in range(10,0,-1):\n",
    "    print(a)"
   ]
  },
  {
   "cell_type": "code",
   "execution_count": null,
   "id": "6098ce53",
   "metadata": {},
   "outputs": [],
   "source": [
    "# print even number with for Loop from 1 to 21\n",
    "\n",
    "c = 0\n",
    "for a in range(1,21):\n",
    "    if a%2==0:\n",
    "        print(a)\n",
    "        c+=1\n",
    "print(\"total even number :\", c)"
   ]
  },
  {
   "cell_type": "code",
   "execution_count": null,
   "id": "8f4175e4",
   "metadata": {},
   "outputs": [],
   "source": [
    "\n",
    "\n",
    "\n",
    "\n"
   ]
  },
  {
   "cell_type": "code",
   "execution_count": null,
   "id": "3c34bcaf",
   "metadata": {},
   "outputs": [],
   "source": [
    "# find factorial of any number with the help of user input\n",
    "\n",
    "x=int(input(\"enter the number\"))\n",
    "\n",
    "fact = 1\n",
    "for i in range (1,x+1):\n",
    "    fact = fact*i\n",
    "print(\"Factorial : -\", fact)"
   ]
  },
  {
   "cell_type": "code",
   "execution_count": null,
   "id": "97227005",
   "metadata": {},
   "outputs": [],
   "source": [
    "# Break & Continue Statement\n",
    "\n",
    "for i in range (10):\n",
    "    if i==5 or i==7:\n",
    "        continue\n",
    "    else:\n",
    "        print(i)\n",
    "\n"
   ]
  },
  {
   "cell_type": "code",
   "execution_count": null,
   "id": "e0a5f134",
   "metadata": {},
   "outputs": [],
   "source": [
    "# Break\n",
    "\n",
    "for i in range(10):\n",
    "    if i==5:\n",
    "        break\n",
    "    print(i)\n"
   ]
  },
  {
   "cell_type": "code",
   "execution_count": null,
   "id": "02d40ba4",
   "metadata": {},
   "outputs": [],
   "source": [
    "##\n",
    "\n",
    "x=\"Data Science\"\n",
    "\n",
    "for i in x:\n",
    "    if i==\" \":\n",
    "        break\n",
    "    else:\n",
    "        print(i,end=\"\")"
   ]
  },
  {
   "cell_type": "code",
   "execution_count": null,
   "id": "1b2ccca6",
   "metadata": {},
   "outputs": [],
   "source": [
    "# count the total number of odd number from 10 to 30?\n",
    "\n",
    "c = 0\n",
    "for a in range(10,31):\n",
    "    if a%2!=0:\n",
    "        c+=1\n",
    "print(\"total even number :\", c)"
   ]
  },
  {
   "cell_type": "markdown",
   "id": "c2ea7787",
   "metadata": {},
   "source": [
    "# Nested Loop"
   ]
  },
  {
   "cell_type": "code",
   "execution_count": null,
   "id": "a02e8b8b",
   "metadata": {},
   "outputs": [],
   "source": [
    "#Nested Loop : Loop inside the another Loop\n",
    "\n",
    "for i in range(5):\n",
    "    print(\"Hello World\")\n",
    "    for j in range(5):\n",
    "        print(j)\n",
    "    \n",
    "    "
   ]
  },
  {
   "cell_type": "code",
   "execution_count": null,
   "id": "1f8f934c",
   "metadata": {},
   "outputs": [],
   "source": [
    "# Print pattern\n",
    "\n",
    "for i in range(10):\n",
    "    for j in range(0,i):\n",
    "        print(\"*\", end=\"\")\n",
    "    print()"
   ]
  },
  {
   "cell_type": "markdown",
   "id": "b22b9d47",
   "metadata": {},
   "source": [
    "String\n"
   ]
  },
  {
   "cell_type": "markdown",
   "id": "dd914036",
   "metadata": {},
   "source": [
    "String - It always written in single quatation or double quatation\n",
    "\n",
    "x= \"data\" o 'data'"
   ]
  },
  {
   "cell_type": "code",
   "execution_count": null,
   "id": "ddb2504b",
   "metadata": {},
   "outputs": [],
   "source": [
    "x = \"data science\"\n",
    "x = x.upper()     # upper convert into capital letter\n",
    "print(x)"
   ]
  },
  {
   "cell_type": "code",
   "execution_count": null,
   "id": "5a412b47",
   "metadata": {},
   "outputs": [],
   "source": [
    "x = \"DATA SCIENCE\"\n",
    "x = x.lower()  #Lower convert into Lower letter\n",
    "print(x)\n"
   ]
  },
  {
   "cell_type": "code",
   "execution_count": null,
   "id": "33781eb8",
   "metadata": {},
   "outputs": [],
   "source": [
    "x = \"data science\"\n",
    "x = x.title()  # Title convert into 1st letter in capital letter and other letter in small letter.\n",
    "print(x)"
   ]
  },
  {
   "cell_type": "code",
   "execution_count": null,
   "id": "5749c000",
   "metadata": {},
   "outputs": [],
   "source": [
    "# Capitalize() : - it convert only first caracter to upper case\n",
    "\n",
    "x= \"data science\"\n",
    "x=x.capitalize()\n",
    "print(x)"
   ]
  },
  {
   "cell_type": "markdown",
   "id": "b92fad6b",
   "metadata": {},
   "source": [
    "# Strip ()"
   ]
  },
  {
   "cell_type": "code",
   "execution_count": null,
   "id": "c2f9e416",
   "metadata": {},
   "outputs": [],
   "source": [
    "#Strip - it's remove the extra space starting and ending of the  text.\n",
    "\n",
    "x = \"    Data Science   \"\n",
    "print(x)\n",
    "x=x.strip()\n",
    "print(x)"
   ]
  },
  {
   "cell_type": "markdown",
   "id": "31fdc3c2",
   "metadata": {},
   "source": [
    "#Count()"
   ]
  },
  {
   "cell_type": "code",
   "execution_count": null,
   "id": "b0be4939",
   "metadata": {},
   "outputs": [],
   "source": [
    "#Count - it count the number of alphabets or number or special caracter\n",
    "\n",
    "x=\"data scince\"\n",
    "y=x.count(\"a\")\n",
    "print(y)"
   ]
  },
  {
   "cell_type": "markdown",
   "id": "d26aa92c",
   "metadata": {},
   "source": [
    "Find"
   ]
  },
  {
   "cell_type": "code",
   "execution_count": null,
   "id": "c8dfb87b",
   "metadata": {},
   "outputs": [],
   "source": [
    "# it shows the number of Index\n",
    "\n",
    "x=\"Science\"\n",
    "y=x.find(\"i\")\n",
    "print(\"index of i :\", y)"
   ]
  },
  {
   "cell_type": "code",
   "execution_count": null,
   "id": "3beb830f",
   "metadata": {},
   "outputs": [],
   "source": [
    "# -7 -6 -5 -4 -3 -2 -1  Negative Indexing\n",
    "# S   C  I  E  N  C  E\n",
    "# 0   1  2  3  4  5  6  Positive Indexing"
   ]
  },
  {
   "cell_type": "markdown",
   "id": "c48dba0e",
   "metadata": {},
   "source": [
    "#Replace"
   ]
  },
  {
   "cell_type": "code",
   "execution_count": null,
   "id": "5829243a",
   "metadata": {},
   "outputs": [],
   "source": [
    "# Replace - it replace the text at place of old text\n",
    "\n",
    "x = \"Data Science\"\n",
    "y = x.replace(\" \",\"*\")\n",
    "print(y)"
   ]
  },
  {
   "cell_type": "code",
   "execution_count": null,
   "id": "fe4eaa29",
   "metadata": {},
   "outputs": [],
   "source": [
    "x= \"Arunachal Pradesh\"\n",
    "x=x.lower()\n",
    "y=x.replace(\"a\",\"*\")\n",
    "print(y)"
   ]
  },
  {
   "cell_type": "markdown",
   "id": "074650f5",
   "metadata": {},
   "source": [
    "# Format()"
   ]
  },
  {
   "cell_type": "code",
   "execution_count": null,
   "id": "9e217a38",
   "metadata": {},
   "outputs": [],
   "source": [
    "#Formats specified values in a string\n",
    "\n",
    "x = \"Hi my name is {}\"\n",
    "y = x.format(\"Nitin Singh\")\n",
    "print(y)"
   ]
  },
  {
   "cell_type": "code",
   "execution_count": null,
   "id": "5b20d692",
   "metadata": {},
   "outputs": [],
   "source": [
    "x= \"Hi {} welcome to {}\"\n",
    "y = x.format(\"Nitin\", \"Delhi\")\n",
    "print(y)"
   ]
  },
  {
   "cell_type": "markdown",
   "id": "97389eaa",
   "metadata": {},
   "source": [
    "Split"
   ]
  },
  {
   "cell_type": "code",
   "execution_count": null,
   "id": "5c13b1cb",
   "metadata": {},
   "outputs": [],
   "source": [
    "#Split() : it convert the string into list\n",
    "\n",
    "x = \"Python is a programing language\"\n",
    "y = x.split()\n",
    "print(y)"
   ]
  },
  {
   "cell_type": "code",
   "execution_count": null,
   "id": "3e085774",
   "metadata": {},
   "outputs": [],
   "source": [
    "x = \"apple,mango,banana\"\n",
    "print(x)\n",
    "y = x.split()\n",
    "print(y)\n"
   ]
  },
  {
   "cell_type": "markdown",
   "id": "fd62c892",
   "metadata": {},
   "source": [
    "# Join"
   ]
  },
  {
   "cell_type": "code",
   "execution_count": null,
   "id": "fe71f2ba",
   "metadata": {},
   "outputs": [],
   "source": [
    "# Join Function : it's join the multiple values from list to string\n",
    "\n",
    "x=[\"hi\",\"how\",\"are\",\"you\"]\n",
    "print(x)\n",
    "print(type(x))\n",
    "\n",
    "y = \" \".join(x)\n",
    "print(y)\n",
    "print(type(y))"
   ]
  },
  {
   "cell_type": "markdown",
   "id": "596ee868",
   "metadata": {},
   "source": [
    "# Swapcase"
   ]
  },
  {
   "cell_type": "code",
   "execution_count": null,
   "id": "4ff1e537",
   "metadata": {},
   "outputs": [],
   "source": [
    "x = \"Data Science\"\n",
    "y=x.swapcase()\n",
    "print(y)"
   ]
  },
  {
   "cell_type": "code",
   "execution_count": null,
   "id": "447c9c27",
   "metadata": {},
   "outputs": [],
   "source": [
    "#isalpha () : its check if value is alphabetic\n",
    "#isdigit () : its check if string is number\n",
    "#isspace () : its check if string have any space \n",
    "#islower () : check if have any lower letter value \n",
    "#isuper () : cehck if have any capital letter value \n",
    "#isalnum () : its check the string is mix character of text and strings value"
   ]
  },
  {
   "cell_type": "code",
   "execution_count": null,
   "id": "64d28e6a",
   "metadata": {},
   "outputs": [],
   "source": [
    "#isalpha () \n",
    "x=\"delhi\"\n",
    "x.isalpha()"
   ]
  },
  {
   "cell_type": "code",
   "execution_count": null,
   "id": "192f9a5c",
   "metadata": {},
   "outputs": [],
   "source": [
    "#isalnum ()\n",
    "x=\"delhi110059\"\n",
    "x.isalnum()"
   ]
  },
  {
   "cell_type": "code",
   "execution_count": null,
   "id": "7bda0769",
   "metadata": {},
   "outputs": [],
   "source": [
    "#isdigit () \n",
    "x=\"305001\"\n",
    "x.isdigit()"
   ]
  },
  {
   "cell_type": "code",
   "execution_count": null,
   "id": "8158c658",
   "metadata": {
    "scrolled": true
   },
   "outputs": [],
   "source": [
    "#isspace ()\n",
    "x=\" \"\n",
    "x.isspace()"
   ]
  },
  {
   "cell_type": "markdown",
   "id": "5a33cc10",
   "metadata": {},
   "source": [
    "# 07 Jan 2024"
   ]
  },
  {
   "cell_type": "code",
   "execution_count": null,
   "id": "67fdc098",
   "metadata": {},
   "outputs": [],
   "source": [
    "#x = \"Himachal Pradesh\"\n",
    "\n",
    "#extract the text given Below\n",
    "#1. chal\n",
    "##2. desh\n",
    "#3. ma\n",
    "#4. him\n",
    "#5. reverse the Text\n",
    "#6. print the all text and step size should be 3\n",
    "#7. join the first and last text\n",
    "#8. count \"t\" how many times repeated\n",
    "#9. find the index of the space\n",
    "#10. convert into a list"
   ]
  },
  {
   "cell_type": "code",
   "execution_count": null,
   "id": "7aa87cb4",
   "metadata": {},
   "outputs": [],
   "source": [
    "# x = \"Himachal Pradesh\"\n",
    "\n",
    "# 1. count the total number of r\n",
    "# 2. count the total number of a\n",
    "# 3. show the index of space\n",
    "# 4. replace the value \"*\" at the place of \"d\"\n",
    "# 5. convert the string in upper case"
   ]
  },
  {
   "cell_type": "code",
   "execution_count": null,
   "id": "7a6f6238",
   "metadata": {},
   "outputs": [],
   "source": [
    "x =\"Himachal Pradesh\"\n",
    "print(len(x))"
   ]
  },
  {
   "cell_type": "code",
   "execution_count": null,
   "id": "f7e894c5",
   "metadata": {},
   "outputs": [],
   "source": [
    "#Question 4 :  replace the value \"*\" at the place of \"d\"\n",
    "x=\"Himachal Pradesh\"\n",
    "y = x.replace(\"d\",\"*\")\n",
    "print(y)"
   ]
  },
  {
   "cell_type": "code",
   "execution_count": null,
   "id": "23c4094c",
   "metadata": {},
   "outputs": [],
   "source": [
    "#5. convert the string in upper case"
   ]
  },
  {
   "cell_type": "code",
   "execution_count": null,
   "id": "2499a290",
   "metadata": {},
   "outputs": [],
   "source": []
  },
  {
   "cell_type": "code",
   "execution_count": null,
   "id": "15d360b7",
   "metadata": {},
   "outputs": [],
   "source": []
  },
  {
   "cell_type": "code",
   "execution_count": null,
   "id": "1f31a6f1",
   "metadata": {},
   "outputs": [],
   "source": []
  },
  {
   "cell_type": "code",
   "execution_count": null,
   "id": "0a0b0fdf",
   "metadata": {},
   "outputs": [],
   "source": []
  },
  {
   "cell_type": "code",
   "execution_count": null,
   "id": "f47e9b67",
   "metadata": {},
   "outputs": [],
   "source": []
  },
  {
   "cell_type": "code",
   "execution_count": null,
   "id": "5a13e647",
   "metadata": {},
   "outputs": [],
   "source": []
  },
  {
   "cell_type": "markdown",
   "id": "33d514d2",
   "metadata": {},
   "source": [
    "# Indexing & Slicing   # 13 Jan 2024\n",
    " #its extract the single number of the caracter from the text."
   ]
  },
  {
   "cell_type": "code",
   "execution_count": null,
   "id": "c674ab9b",
   "metadata": {},
   "outputs": [],
   "source": [
    "# Indexing"
   ]
  },
  {
   "cell_type": "code",
   "execution_count": null,
   "id": "14ff0b0a",
   "metadata": {},
   "outputs": [],
   "source": [
    "#Find c under Data Science\n",
    "x = \"Data Science\"\n",
    "x[6]"
   ]
  },
  {
   "cell_type": "code",
   "execution_count": null,
   "id": "5ec057da",
   "metadata": {},
   "outputs": [],
   "source": [
    "# \"Arunachal  P  r  a  d  e  s  h\n",
    "#  0123456789 10 11 12 13 14 15 16\"\n",
    "# Extract - r, l, e, h, p\n",
    "\n",
    "#Positive Indexing\n",
    "x = \"Arunachal Pradesh\"\n",
    "print(x[1])\n",
    "print(x[6])\n",
    "print(x[8])\n",
    "print(x[10])\n",
    "print(x[11])\n",
    "print(x[14])\n",
    "print(x[16])\n"
   ]
  },
  {
   "cell_type": "code",
   "execution_count": null,
   "id": "7faab225",
   "metadata": {},
   "outputs": [],
   "source": [
    "# \"Arunachal     P  r  a  d  e  s  h\n",
    "#            -8 -7 -6 -5 -4 -3 -2 -1\"\n",
    "# Extract -e, h\n",
    "\n",
    "#Negative Indexing\n",
    "x = \"Arunachal Pradesh\"\n",
    "print(x[-1])\n",
    "print(x[-3])\n"
   ]
  },
  {
   "cell_type": "markdown",
   "id": "873046d8",
   "metadata": {},
   "source": [
    "#Slicing"
   ]
  },
  {
   "cell_type": "code",
   "execution_count": null,
   "id": "0116e8f9",
   "metadata": {},
   "outputs": [],
   "source": [
    "#Slicing - it's extract the range of caracter from the text\n",
    "#Slicing  = x[starting index : end index : step size]"
   ]
  },
  {
   "cell_type": "code",
   "execution_count": null,
   "id": "0fc7d096",
   "metadata": {},
   "outputs": [],
   "source": [
    "# \"Arunachal Pradesh\"\n",
    "# extract starting 3 alphabet\n",
    "\n",
    "x[0:3]"
   ]
  },
  {
   "cell_type": "code",
   "execution_count": null,
   "id": "9fe078d2",
   "metadata": {},
   "outputs": [],
   "source": [
    "# end 3 alphabet\n",
    "x[-3:]"
   ]
  },
  {
   "cell_type": "code",
   "execution_count": null,
   "id": "a546e0de",
   "metadata": {},
   "outputs": [],
   "source": [
    "#x = \"Arunachal Pradesh\"\n",
    "\n",
    "\n",
    "# extract these text from x\n",
    "# Aruncachal\n",
    "#Pradesh\n",
    "#runa\n",
    "#desh\n",
    "# Auahl\n",
    "# last five alphabet from text"
   ]
  },
  {
   "cell_type": "code",
   "execution_count": null,
   "id": "0a48b87b",
   "metadata": {},
   "outputs": [],
   "source": [
    "# Aruncachal\n",
    "\n",
    "x = \"Arunachal Pradesh\"\n",
    "x[0:9]"
   ]
  },
  {
   "cell_type": "code",
   "execution_count": null,
   "id": "21c553c6",
   "metadata": {},
   "outputs": [],
   "source": [
    "#Pradesh\n",
    "x = \"Arunachal Pradesh\"\n",
    "x[-7:]"
   ]
  },
  {
   "cell_type": "code",
   "execution_count": null,
   "id": "d445c383",
   "metadata": {},
   "outputs": [],
   "source": [
    "#runa\n",
    "x = \"Arunachal Pradesh\"\n",
    "x[1:5]"
   ]
  },
  {
   "cell_type": "code",
   "execution_count": null,
   "id": "46178b6d",
   "metadata": {},
   "outputs": [],
   "source": [
    "#desh\n",
    "x = \"Arunachal Pradesh\"\n",
    "x[-4:]"
   ]
  },
  {
   "cell_type": "code",
   "execution_count": null,
   "id": "ab590e20",
   "metadata": {},
   "outputs": [],
   "source": [
    "# Auahl\n",
    "x = \"Arunachal Pradesh\"  \n",
    "x[0:9:2]    # [starting index (0) : end index (9) : step size (-2)]"
   ]
  },
  {
   "cell_type": "code",
   "execution_count": null,
   "id": "95350bf7",
   "metadata": {},
   "outputs": [],
   "source": [
    "# last five alphabet from text\n",
    "x = \"Arunachal Pradesh\"\n",
    "x[-5:]"
   ]
  },
  {
   "cell_type": "markdown",
   "id": "b244df67",
   "metadata": {},
   "source": [
    "# Reverse the string"
   ]
  },
  {
   "cell_type": "code",
   "execution_count": null,
   "id": "1d8a6270",
   "metadata": {},
   "outputs": [],
   "source": [
    "# Reverse string\n",
    "x = \"Arunachal Pradesh\"\n",
    "x[-1: :-1]"
   ]
  },
  {
   "cell_type": "code",
   "execution_count": null,
   "id": "2760fad1",
   "metadata": {},
   "outputs": [],
   "source": [
    "# ARUnacHAL PrAdeSH\n",
    "# count all a\n",
    "\n",
    "# 1st we need to convert all test in lower format\n",
    "\n",
    "x =\"ARUnacHAL PrAdeSH\"\n",
    "x = x.lower()\n",
    "print(x)\n",
    "x.count(\"a\")\n",
    "\n"
   ]
  },
  {
   "cell_type": "code",
   "execution_count": null,
   "id": "3ba32da8",
   "metadata": {},
   "outputs": [],
   "source": [
    "# x = \"prince1234324@$%%sharma\"\n",
    "# extract the Text from x\n",
    "# extraxt the Number form x\n",
    "# count the Total number in x\n",
    "# extract special caracter"
   ]
  },
  {
   "cell_type": "code",
   "execution_count": null,
   "id": "c2b7f7fe",
   "metadata": {},
   "outputs": [],
   "source": [
    "# x = \"prince1234324@$%%sharma\"\n",
    "# extract the Text from x\n",
    "\n",
    "x = \"prince1234324@$%%sharma\"\n",
    "for i in x:\n",
    "    if i.isalpha():\n",
    "        print(i,end=\"\")\n"
   ]
  },
  {
   "cell_type": "code",
   "execution_count": null,
   "id": "def0fd79",
   "metadata": {},
   "outputs": [],
   "source": [
    "# extraxt the Number form x\n",
    "x = \"prince1234324@$%%sharma\"\n",
    "for i in x: \n",
    "    if i.isdigit():\n",
    "        print(i,end=\"\")"
   ]
  },
  {
   "cell_type": "code",
   "execution_count": null,
   "id": "58b9a800",
   "metadata": {},
   "outputs": [],
   "source": [
    "# count the Total number in x\n",
    "c = 0\n",
    "x = \"prince1234324@$%%sharma\"\n",
    "for i in x:\n",
    "    if i.isdigit():\n",
    "        c+=1\n",
    "print(c,end=\"\")\n",
    "       \n",
    "    "
   ]
  },
  {
   "cell_type": "code",
   "execution_count": null,
   "id": "144630b4",
   "metadata": {},
   "outputs": [],
   "source": [
    "# extract special caracter\n",
    "\n",
    "x = \"prince1234324@$%%sharma\"\n",
    "for i in x:\n",
    "    if i.isdigit():\n",
    "        continue\n",
    "    elif i.isalpha():\n",
    "        continue\n",
    "    else:\n",
    "        print(i,end=\"\")\n",
    "        \n"
   ]
  },
  {
   "cell_type": "code",
   "execution_count": null,
   "id": "bf21a690",
   "metadata": {},
   "outputs": [],
   "source": [
    "# \"datascienceclient\" - print only C & T\n",
    "\n",
    "x = \"datascienceclient\"\n",
    "for i in x:\n",
    "    if i==\"c\" or i==\"t\":\n",
    "        print(i,end=\"\")\n",
    "    "
   ]
  },
  {
   "cell_type": "code",
   "execution_count": null,
   "id": "5366ad50",
   "metadata": {},
   "outputs": [],
   "source": [
    "# x = \"Arunachal Pradesh\"\n",
    "# find the positive and negative index of each alphabet\n",
    "# from x\n"
   ]
  },
  {
   "cell_type": "code",
   "execution_count": null,
   "id": "76e539db",
   "metadata": {},
   "outputs": [],
   "source": [
    "# positive index\n",
    "x = \"Arunachal Pradesh\"\n",
    "y = len(x)  # 16\n",
    "for i in range(y):\n",
    "    print(x[i],\"-: positive index :-\",i)"
   ]
  },
  {
   "cell_type": "code",
   "execution_count": null,
   "id": "6fc8defb",
   "metadata": {},
   "outputs": [],
   "source": [
    "# negative index\n",
    "x = \"Arunachal Pradesh\"\n",
    "y = len(x)  # 16\n",
    "for i in range(y):\n",
    "    print(x[i],\"-: negative index :-\",i-y)"
   ]
  },
  {
   "cell_type": "markdown",
   "id": "c29de38c",
   "metadata": {},
   "source": [
    "LIST"
   ]
  },
  {
   "cell_type": "markdown",
   "id": "33fe3eee",
   "metadata": {},
   "source": [
    "Sequence Data Type : List, Tupple, Range()"
   ]
  },
  {
   "cell_type": "markdown",
   "id": "2ff47784",
   "metadata": {},
   "source": [
    "List :\n",
    "1. Always written in [] braket.\n",
    "2. List is mutable or changable\n",
    "3. List are orderded\n",
    "4. List are indexed\n",
    "5. List allow duplicate values\n",
    "6. In List we can add multiple type of data"
   ]
  },
  {
   "cell_type": "code",
   "execution_count": null,
   "id": "04df3556",
   "metadata": {},
   "outputs": [],
   "source": [
    "# List can pick any data type\n",
    "x = [20, 45.50, 20j, True, None, \"Data\"]\n",
    "print(x)"
   ]
  },
  {
   "cell_type": "code",
   "execution_count": null,
   "id": "b0dd4feb",
   "metadata": {},
   "outputs": [],
   "source": [
    "# List can pick cuplicate value\n",
    "x = [20, 45.50, 20j, True, None, \"Data\", 20, 20, 20, \"Data\"]\n",
    "print(x)"
   ]
  },
  {
   "cell_type": "code",
   "execution_count": null,
   "id": "012a15dd",
   "metadata": {},
   "outputs": [],
   "source": [
    "# Indexing in List\n",
    "\n",
    "x=[12,45,45.45,\"data\",21j]\n",
    "print(x)\n",
    "print(type(x))\n",
    "print(len(x))"
   ]
  },
  {
   "cell_type": "code",
   "execution_count": null,
   "id": "0fdaa4d5",
   "metadata": {},
   "outputs": [],
   "source": [
    "x=[12,45,45.45,\"data\",21j]\n",
    "print(x[0])   # always use [] braket for indexing , # 0 shows 1st index number which is 12\n",
    "print(type(x))"
   ]
  },
  {
   "cell_type": "code",
   "execution_count": null,
   "id": "75c973aa",
   "metadata": {},
   "outputs": [],
   "source": [
    "# find data type for all \n",
    "x=[12,45,45.45,\"data\",21j]\n",
    "for i in x:\n",
    "    t=(type(i))\n",
    "    print(t,\";\",i)"
   ]
  },
  {
   "cell_type": "code",
   "execution_count": null,
   "id": "860c1d81",
   "metadata": {},
   "outputs": [],
   "source": [
    "# Indexing & Slicing in List\n",
    "\n",
    "#print Science through positive indexing\n",
    "x= [\"data\", \"Science\", \"nitin\", \"jatin\", \"prince\"]\n",
    "\n",
    "print(x[1])"
   ]
  },
  {
   "cell_type": "code",
   "execution_count": null,
   "id": "d0151a2a",
   "metadata": {},
   "outputs": [],
   "source": [
    "# Indexing & Slicing in List\n",
    "\n",
    "#print Science through Negative indexing\n",
    "x= [\"data\", \"Science\", \"nitin\", \"jatin\", \"prince\"]\n",
    "\n",
    "print(x[-2])"
   ]
  },
  {
   "cell_type": "code",
   "execution_count": null,
   "id": "a25c4978",
   "metadata": {},
   "outputs": [],
   "source": [
    "#Slicing - print next to next text\n",
    "x= [\"data\", \"Science\", \"nitin\", \"jatin\", \"prince\"]\n",
    "print(x[0: :2])"
   ]
  },
  {
   "cell_type": "code",
   "execution_count": null,
   "id": "28979e32",
   "metadata": {},
   "outputs": [],
   "source": [
    "#Slicing - Reverse the list\n",
    "x= [\"data\", \"Science\", \"nitin\", \"jatin\", \"prince\"]\n",
    "print(x[-1::-1])"
   ]
  },
  {
   "cell_type": "markdown",
   "id": "aa600250",
   "metadata": {},
   "source": [
    "FORMULA'S"
   ]
  },
  {
   "cell_type": "markdown",
   "id": "f522f26c",
   "metadata": {},
   "source": [
    "1. Insert\n",
    "2. Append\n",
    "3. Extend"
   ]
  },
  {
   "cell_type": "code",
   "execution_count": null,
   "id": "ea6de16c",
   "metadata": {},
   "outputs": [],
   "source": [
    "# Insert - It add value under given index but can't add value at last\n",
    "x = [\"Sunday\", \"Monday\", \"Tuesday\", \"Wednesday\"]\n",
    "x.insert(0,\"Friday\")\n",
    "print(x)"
   ]
  },
  {
   "cell_type": "code",
   "execution_count": null,
   "id": "a172e3e0",
   "metadata": {},
   "outputs": [],
   "source": [
    "# Append - it add value by default at last place\n",
    "x = [\"Sunday\", \"Monday\", \"Tuesday\", \"Wednesday\"]\n",
    "x.append(\"Friday\")\n",
    "print(x)"
   ]
  },
  {
   "cell_type": "code",
   "execution_count": null,
   "id": "556611c6",
   "metadata": {},
   "outputs": [],
   "source": [
    "# Extend - it add Multiple value in the list by default at last place\n",
    "# it merge 2 list in single list\n",
    "# 1st Methord\n",
    "x = [\"Sunday\", \"Monday\", \"Tuesday\", \"Wednesday\"]\n",
    "y = [\"Data Science Class\"]\n",
    "x.extend(y)\n",
    "print(x)"
   ]
  },
  {
   "cell_type": "code",
   "execution_count": null,
   "id": "2808b2f1",
   "metadata": {},
   "outputs": [],
   "source": [
    "#2nd Method:\n",
    "x = [\"Sunday\", \"Monday\", \"Tuesday\", \"Wednesday\"]\n",
    "y = [\"Data Science Class\"]\n",
    "print(x+y)"
   ]
  },
  {
   "cell_type": "code",
   "execution_count": null,
   "id": "05f54065",
   "metadata": {},
   "outputs": [],
   "source": [
    "#3rd Method:\n",
    "x = [\"Sunday\", \"Monday\", \"Tuesday\", \"Wednesday\"]\n",
    "y = [\"Data Science Class\"]\n",
    "for i in y:\n",
    "    x.append(i)\n",
    "print(x)"
   ]
  },
  {
   "cell_type": "markdown",
   "id": "da94307d",
   "metadata": {},
   "source": [
    "# How to remove value from list."
   ]
  },
  {
   "cell_type": "markdown",
   "id": "60181c4e",
   "metadata": {},
   "source": [
    "1. Pop\n",
    "2. Remove\n",
    "3. Del\n",
    "4. Clear"
   ]
  },
  {
   "cell_type": "code",
   "execution_count": null,
   "id": "70f88bff",
   "metadata": {},
   "outputs": [],
   "source": [
    "#Pop : it's remove the value according indexing/ no. of position and by default remove the value of last index\n",
    "\n",
    "x= [\"One\", \"Two\", \"Three\", \"Four\"]\n",
    "x.pop()  # by default delet last value\n",
    "print(x)"
   ]
  },
  {
   "cell_type": "code",
   "execution_count": null,
   "id": "005873bd",
   "metadata": {},
   "outputs": [],
   "source": [
    " #Pop : by provide index\n",
    "x= [\"One\", \"Two\", \"Three\", \"Four\"]\n",
    "x.pop(2)\n",
    "print(x)"
   ]
  },
  {
   "cell_type": "markdown",
   "id": "f9e67916",
   "metadata": {},
   "source": [
    "#Remove"
   ]
  },
  {
   "cell_type": "code",
   "execution_count": null,
   "id": "45751c90",
   "metadata": {},
   "outputs": [],
   "source": [
    "# Remove - it remove text through provided value\n",
    "x= [\"One\", \"Two\", \"Three\", \"Four\"]\n",
    "x.remove(\"Two\")\n",
    "print(x)"
   ]
  },
  {
   "cell_type": "markdown",
   "id": "157667c2",
   "metadata": {},
   "source": [
    "# Clear"
   ]
  },
  {
   "cell_type": "code",
   "execution_count": null,
   "id": "8621fe9c",
   "metadata": {},
   "outputs": [],
   "source": [
    "# Clear - it remove complete value from list\n",
    "x= [\"One\", \"Two\", \"Three\", \"Four\"]\n",
    "x.clear()\n",
    "print(x)"
   ]
  },
  {
   "cell_type": "markdown",
   "id": "9aa2daa0",
   "metadata": {},
   "source": [
    "# Del"
   ]
  },
  {
   "cell_type": "code",
   "execution_count": null,
   "id": "66d97568",
   "metadata": {},
   "outputs": [],
   "source": [
    "# Del (Delete) - it deletes the vlues through indexing/slicing or complete delete"
   ]
  },
  {
   "cell_type": "code",
   "execution_count": null,
   "id": "ef39da42",
   "metadata": {},
   "outputs": [],
   "source": [
    "# del through index\n",
    "x= [\"One\", \"Two\", \"Three\", \"Four\"]\n",
    "del x[0: : 2]\n",
    "print(x)"
   ]
  },
  {
   "cell_type": "code",
   "execution_count": null,
   "id": "785a72e8",
   "metadata": {},
   "outputs": [],
   "source": [
    "x = [1,2,3,4]\n",
    "del x[0 :]\n",
    "print(x)"
   ]
  },
  {
   "cell_type": "markdown",
   "id": "dcac0770",
   "metadata": {},
   "source": [
    "Useful Formula's\n",
    "# Count\n",
    "# copy\n",
    "# sort\n",
    "# reverse"
   ]
  },
  {
   "cell_type": "code",
   "execution_count": null,
   "id": "4db19757",
   "metadata": {},
   "outputs": [],
   "source": [
    "# count\n",
    "\n",
    "x = [1,2,3,1,1,2,1]\n",
    "x.count(1)\n"
   ]
  },
  {
   "cell_type": "markdown",
   "id": "0b02cbe1",
   "metadata": {},
   "source": [
    "# Copy"
   ]
  },
  {
   "cell_type": "code",
   "execution_count": null,
   "id": "683a57bf",
   "metadata": {},
   "outputs": [],
   "source": [
    "x =[1,2,3,1,1,4,5,7,10]\n",
    "y = x.copy()\n",
    "x.clear()\n",
    "print(y)"
   ]
  },
  {
   "cell_type": "markdown",
   "id": "d50ab113",
   "metadata": {},
   "source": [
    "# Sort"
   ]
  },
  {
   "cell_type": "code",
   "execution_count": null,
   "id": "257417b4",
   "metadata": {},
   "outputs": [],
   "source": [
    "# Sort : \n",
    "x = [1,2,7,5,2,3,1,1,10]\n",
    "x.sort()  # Sort at assending order\n",
    "print(x)"
   ]
  },
  {
   "cell_type": "code",
   "execution_count": null,
   "id": "f100d2f0",
   "metadata": {},
   "outputs": [],
   "source": [
    "x = [1,2,7,5,2,3,1,1,10]\n",
    "x.sort(reverse=True)  # Sort at Dessending order\n",
    "print(x)"
   ]
  },
  {
   "cell_type": "markdown",
   "id": "98353625",
   "metadata": {},
   "source": [
    "20th Jan 2024\n",
    "\n",
    "#x = [12,45,89,78,56.8,\"data science\",True]\n",
    "\n",
    "# Remove data science from the list\n",
    "# 2. Replace the value 500 at the place of 89\n",
    "# 3. insert new value in this list given below\n",
    "#y = [741,852,963]\n",
    "\n",
    "#4. find the sum of all the integar and float value\n",
    "#5. count the total number of  Integar value in this list\n",
    "# 6. delete all the value from the list\n",
    "\n",
    "\n",
    "\n",
    "#x = [12,45,89,78,56.8,\"data science\",True]\n",
    "# Remove data science from the list\n",
    "\n",
    "x = [12,45,89,78,56.8,\"data science\",True]\n",
    "x.remove(\"data science\")\n",
    "print(x)\n",
    "\n",
    "\n",
    "# 2. Replace the value 500 at the place of 89\n",
    "\n",
    "x = [12,45,89,78,56.8,\"data science\",True]\n",
    "x[2] = 500\n",
    "print(x)\n",
    "\n",
    "\n",
    "# 3. insert new value in this list given below\n",
    "#y = [741,852,963]\n",
    "x = [12,45,89,78,56.8,\"data science\",True]\n",
    "y = [741,852,963]\n",
    "x.extend(y)\n",
    "print(x)\n",
    "\n",
    "\n",
    "#4. find the sum of all the integar and float value\n",
    "x = [12,45,89,78,56.8,\"data science\",True]\n",
    "y = sum(x[0:5])\n",
    "print(y)\n",
    "\n",
    "#5. count the total number of  Integar value in this list\n",
    "\n",
    "c = 0\n",
    "x = [12,45,89,78,56.8,\"data science\",True]\n",
    "for i in x:\n",
    "    if type (i)==int:\n",
    "        c = c+1\n",
    "print(\"Total number of integar value : -\", c)\n",
    "\n",
    "\n",
    "#x = [[12,56,78,[96,85,[14,89,100],63,200],300],500]\n",
    "\n",
    "# indexing\n",
    "# Extract the Number\n",
    "#14\n",
    "#300\n",
    "#56\n",
    "#89\n",
    "#200\n",
    "#100\n",
    "#500\n",
    "#85\n",
    "\n",
    "x = [[12,56,78,[96,85,[14,89,100],63,200],300],500]\n",
    "print (x[0][3][2][0])\n",
    "print(x[0][4])\n",
    "print(x[0][1])\n",
    "print(x[0][3][2][1])\n",
    "print(x[0][3][4])\n",
    "print(x[0][3][2][2])\n",
    "print(x[1])\n",
    "print(x[0][3][1])\n"
   ]
  },
  {
   "cell_type": "markdown",
   "id": "4999dbc3",
   "metadata": {},
   "source": [
    "#Nested List "
   ]
  },
  {
   "cell_type": "code",
   "execution_count": null,
   "id": "afa6aa6d",
   "metadata": {},
   "outputs": [],
   "source": [
    "#Nested List - List is used inside the another list."
   ]
  },
  {
   "cell_type": "code",
   "execution_count": null,
   "id": "29aae8b6",
   "metadata": {},
   "outputs": [],
   "source": [
    "#x = [[12,56,78,[96,85,[14,89,100],63,200],300],500]\n",
    "# slicing\n",
    "# extract these text from the list\n",
    "\n",
    "#12,78\n",
    "#14,100\n",
    "#63,200\n",
    "#96,85,[14,89,100],63\n",
    "#56,78,[96,85,[14,89,100],63\n",
    "\n",
    "x = [[12,56,78,[96,85,[14,89,100],63,200],300],500]"
   ]
  },
  {
   "cell_type": "code",
   "execution_count": null,
   "id": "31e80c8d",
   "metadata": {},
   "outputs": [],
   "source": [
    "\n",
    "# 12, 78\n",
    "x[0][0:3:2]"
   ]
  },
  {
   "cell_type": "code",
   "execution_count": null,
   "id": "bbc5915d",
   "metadata": {},
   "outputs": [],
   "source": [
    "#14,100\n",
    "x[0][3][2][0::2]"
   ]
  },
  {
   "cell_type": "code",
   "execution_count": null,
   "id": "84ce43e8",
   "metadata": {},
   "outputs": [],
   "source": [
    "#63,200\n",
    "x[0][3][-2]\n"
   ]
  },
  {
   "cell_type": "code",
   "execution_count": null,
   "id": "5425eee3",
   "metadata": {},
   "outputs": [],
   "source": [
    "#56,78,[96,85,[14,89,100],63\n",
    "\n",
    "a= x[0][1:3]\n",
    "b = x[0][3][0:4]\n",
    "a+b"
   ]
  },
  {
   "cell_type": "code",
   "execution_count": null,
   "id": "9489a325",
   "metadata": {},
   "outputs": [],
   "source": [
    "# x=[\"jan\",\"feb\",\"march\",\"april\",\"june\",\"july\",\"aug\",\"sep\",\"oct\",\"nov\",\"dec\"]\n",
    "#conver the all text in capital letter in this list.\n",
    "#print all the even number of the month\n",
    "# add in new list all odd number of the month in given list."
   ]
  },
  {
   "cell_type": "code",
   "execution_count": null,
   "id": "6c27837a",
   "metadata": {},
   "outputs": [],
   "source": [
    "#conver the all text in capital letter in this list.\n",
    "x=[\"jan\",\"feb\",\"march\",\"april\",\"june\",\"july\",\"aug\",\"sep\",\"oct\",\"nov\",\"dec\"]\n",
    "for i in x:\n",
    "    i = i.upper()\n",
    "    print(i,end=\",\")"
   ]
  },
  {
   "cell_type": "code",
   "execution_count": null,
   "id": "04e6680a",
   "metadata": {},
   "outputs": [],
   "source": [
    "#print all the even number of the month\n",
    "x=[\"jan\",\"feb\",\"march\",\"april\",\"june\",\"july\",\"aug\",\"sep\",\"oct\",\"nov\",\"dec\"]\n",
    "x[1: :2]"
   ]
  },
  {
   "cell_type": "code",
   "execution_count": null,
   "id": "183a9371",
   "metadata": {},
   "outputs": [],
   "source": [
    "# add in new list all odd number of the month in given list.\n",
    "x=[\"jan\",\"feb\",\"march\",\"april\",\"june\",\"july\",\"aug\",\"sep\",\"oct\",\"nov\",\"dec\"]\n",
    "x[0: :2]"
   ]
  },
  {
   "cell_type": "code",
   "execution_count": null,
   "id": "146ee75e",
   "metadata": {},
   "outputs": [],
   "source": []
  },
  {
   "cell_type": "code",
   "execution_count": null,
   "id": "834f29a4",
   "metadata": {},
   "outputs": [],
   "source": [
    "#x = [12,45,7,9,56,23,25,45,78,89,56,23,25,24,26]\n",
    "\n",
    "# print the Numebr that is divisible by 9\n",
    "# find the Number who is repeated more than one time\n",
    "# show positive and negative index of the Number\n",
    "# show the index Number of the even number elements\n",
    "# show the Negative index of odd Elements"
   ]
  },
  {
   "cell_type": "code",
   "execution_count": null,
   "id": "f920ea75",
   "metadata": {},
   "outputs": [],
   "source": [
    "# print the NUmebr that is divisible by 9\n",
    "\n",
    "x = [12,45,7,9,56,23,25,45,78,89,56,23,25,24,26]\n",
    "for i in x:\n",
    "    if i%9==0:\n",
    "        print(i,end=\" \")"
   ]
  },
  {
   "cell_type": "code",
   "execution_count": null,
   "id": "3d147ca2",
   "metadata": {},
   "outputs": [],
   "source": [
    "# find the Number who is repeated more than one time\n",
    "\n",
    "for i in x:\n",
    "    if x.count(i)>1:\n",
    "        print(i,end=\" \")"
   ]
  },
  {
   "cell_type": "code",
   "execution_count": null,
   "id": "0cf8135d",
   "metadata": {},
   "outputs": [],
   "source": [
    "# show positive and negative index of the Number\n",
    "x = [12,45,7,9,56,23,25,45,78,89,56,23,25,24,26]\n",
    "y=len(x)\n",
    "for i in range(y):\n",
    "    print(x[i], \"positive index is : \", i)\n"
   ]
  },
  {
   "cell_type": "code",
   "execution_count": null,
   "id": "8c9e32f5",
   "metadata": {},
   "outputs": [],
   "source": [
    "# show the index Number of the even number elements\n",
    "\n",
    "x = [12,45,7,9,56,23,25,45,78,89,56,23,25,24,26]\n",
    "y=len(x)\n",
    "for i in range(y):\n",
    "    if x[i]%2==0:\n",
    "        print(x[i],\"index :\", i)"
   ]
  },
  {
   "cell_type": "code",
   "execution_count": null,
   "id": "c6a4fc59",
   "metadata": {},
   "outputs": [],
   "source": [
    "# show the Negative index of odd Elements\n",
    "x = [12,45,7,9,56,23,25,45,78,89,56,23,25,24,26]\n",
    "y=len(x)\n",
    "for i in range(y):\n",
    "    if x[i]%2!=0:\n",
    "        print(x[i],\"index :\", i-y)"
   ]
  },
  {
   "cell_type": "code",
   "execution_count": null,
   "id": "e3969444",
   "metadata": {},
   "outputs": [],
   "source": [
    "#create a new list and add the all number that is devisible of 5 from 40,100\n",
    "# create a new list and add the all odd number from 15 to 30.\n",
    "# x = [\"data\",45.8,9.1,21j,True,\"science\",96,85,74,41,52]\n",
    "# 3. print the all the text that given in this list\n",
    "# 4. print all integer value in list\n",
    "# 5. print string and Boolen value in list"
   ]
  },
  {
   "cell_type": "code",
   "execution_count": null,
   "id": "8ea6fe4f",
   "metadata": {},
   "outputs": [],
   "source": [
    "#create a new list and add the all number that is devisible of 5 from 40,100\n",
    "x = []\n",
    "for i in range(40,100):\n",
    "    if i%5==0:\n",
    "        x.append(i)\n",
    "print(x)"
   ]
  },
  {
   "cell_type": "code",
   "execution_count": null,
   "id": "8d631c3f",
   "metadata": {},
   "outputs": [],
   "source": [
    "# create a new list and add the all odd number from 15 to 30.\n",
    "x=[]\n",
    "for i in range(15,30):\n",
    "    if i%2!=0:\n",
    "        x.append(i)\n",
    "print(x)"
   ]
  },
  {
   "cell_type": "code",
   "execution_count": null,
   "id": "6ae0a137",
   "metadata": {},
   "outputs": [],
   "source": [
    "# 3. print the all the text that given in this list\n",
    "x = [\"data\",45.8,9.1,21j,True,\"science\",96,85,74,41,52]\n",
    "for i in x:\n",
    "    if type(i)==str:\n",
    "        print(i)\n",
    "        \n",
    "    "
   ]
  },
  {
   "cell_type": "code",
   "execution_count": 5,
   "id": "7bcead2a",
   "metadata": {},
   "outputs": [
    {
     "name": "stdout",
     "output_type": "stream",
     "text": [
      "96 85 74 41 52 "
     ]
    }
   ],
   "source": [
    "# 4. print all integer value in list\n",
    "x = [\"data\",45.8,9.1,21j,True,\"science\",96,85,74,41,52]\n",
    "for i in x:\n",
    "    if type(i)==int:\n",
    "        print(i, end=\" \")\n",
    "        \n"
   ]
  },
  {
   "cell_type": "code",
   "execution_count": 6,
   "id": "596fb281",
   "metadata": {},
   "outputs": [
    {
     "name": "stdout",
     "output_type": "stream",
     "text": [
      "data True science "
     ]
    }
   ],
   "source": [
    "# 5. print string and Boolen value in list\n",
    "\n",
    "x = [\"data\",45.8,9.1,21j,True,\"science\",96,85,74,41,52]\n",
    "for i in x:\n",
    "    if type(i)==str or type(i) ==bool:\n",
    "        print(i, end=\" \")\n",
    "        "
   ]
  },
  {
   "cell_type": "code",
   "execution_count": 7,
   "id": "a194e20e",
   "metadata": {},
   "outputs": [
    {
     "name": "stdout",
     "output_type": "stream",
     "text": [
      "[45, 78, 45, 56, 23, 45, 89, 10, 15, 14, 20]\n"
     ]
    }
   ],
   "source": [
    "\n",
    "# remove all 12 from this list\n",
    "\n",
    "x = [12,12,12,12,45,78,45,12,56,23,45,12,89,10,12,15,14,20]\n",
    "while 12 in x:\n",
    "    x.remove(12)\n",
    "print(x)"
   ]
  },
  {
   "cell_type": "code",
   "execution_count": 8,
   "id": "33da932b",
   "metadata": {},
   "outputs": [
    {
     "name": "stdout",
     "output_type": "stream",
     "text": [
      "[45, 45, 23, 45, 89, 15]\n"
     ]
    }
   ],
   "source": [
    "# remove all the even number from the list\n",
    "\n",
    "x = [12,12,12,12,45,78,45,12,56,23,45,12,89,10,12,15,14,20]\n",
    "# Copy, Clear , Append - \n",
    "y = x.copy()\n",
    "x.clear()\n",
    "for i in y:\n",
    "    if i%2!=0:\n",
    "        x.append(i)\n",
    "print(x)\n",
    "\n"
   ]
  },
  {
   "cell_type": "markdown",
   "id": "9e0b2962",
   "metadata": {},
   "source": [
    "# Tupple"
   ]
  },
  {
   "cell_type": "markdown",
   "id": "b36d83a0",
   "metadata": {},
   "source": [
    "* 1. Written in round braket (...)\n",
    "* 2. Tuple is unchanageble or immutable\n",
    "* 3. tuple allow duplicate values\n",
    "* 4. Tuple are ordered.\n",
    "* 5. we can write multiple type of data in a tuple.\n",
    "* 6. Tuple are indexed."
   ]
  },
  {
   "cell_type": "code",
   "execution_count": 9,
   "id": "6a86776a",
   "metadata": {},
   "outputs": [
    {
     "name": "stdout",
     "output_type": "stream",
     "text": [
      "()\n"
     ]
    }
   ],
   "source": [
    "#How to create blank tuple\n",
    "x = tuple()\n",
    "print(x)"
   ]
  },
  {
   "cell_type": "code",
   "execution_count": 10,
   "id": "c03e0252",
   "metadata": {},
   "outputs": [
    {
     "name": "stdout",
     "output_type": "stream",
     "text": [
      "(12, 45, 78, 5.1, 2.2, 'Apple', 'mango', True, 21j)\n",
      "<class 'tuple'>\n",
      "9\n"
     ]
    }
   ],
   "source": [
    "x=(12,45,78,5.1,2.2,\"Apple\",\"mango\", True,21j)\n",
    "print(x)\n",
    "print(type(x))\n",
    "print(len(x))"
   ]
  },
  {
   "cell_type": "code",
   "execution_count": 11,
   "id": "07d9a775",
   "metadata": {},
   "outputs": [
    {
     "data": {
      "text/plain": [
       "(12, 45, 78, 5.1)"
      ]
     },
     "execution_count": 11,
     "metadata": {},
     "output_type": "execute_result"
    }
   ],
   "source": [
    "#Slicing\n",
    "x[0:4]"
   ]
  },
  {
   "cell_type": "code",
   "execution_count": 12,
   "id": "f87463c6",
   "metadata": {},
   "outputs": [
    {
     "data": {
      "text/plain": [
       "'Apple'"
      ]
     },
     "execution_count": 12,
     "metadata": {},
     "output_type": "execute_result"
    }
   ],
   "source": [
    "#Indexing\n",
    "x[5]"
   ]
  },
  {
   "cell_type": "code",
   "execution_count": 13,
   "id": "f1a9d798",
   "metadata": {},
   "outputs": [
    {
     "name": "stdout",
     "output_type": "stream",
     "text": [
      "[500, 'mon', 1, 3]\n"
     ]
    }
   ],
   "source": [
    "# how to change value in Tuple - need to change in list first\n",
    "# replace 500 at the value of sun\n",
    "\n",
    "x =(\"sun\",\"mon\",1,3)\n",
    "x = list(x)\n",
    "x[0]=500\n",
    "print(x)"
   ]
  },
  {
   "cell_type": "markdown",
   "id": "d50d2400",
   "metadata": {},
   "source": [
    "# Packing & Unpacking"
   ]
  },
  {
   "cell_type": "markdown",
   "id": "b70db282",
   "metadata": {},
   "source": [
    "# Packing a Tuple\n",
    "#when we create a tuple, we normally assign values to it. This is called Packing a tuple."
   ]
  },
  {
   "cell_type": "markdown",
   "id": "9f6c2d16",
   "metadata": {},
   "source": [
    "# Unpacking a Tuple\n",
    "#when we create a tuple, we normally assign values to multiple variable from a tuple."
   ]
  },
  {
   "cell_type": "code",
   "execution_count": 14,
   "id": "bb5ec1d0",
   "metadata": {},
   "outputs": [
    {
     "name": "stdout",
     "output_type": "stream",
     "text": [
      "12\n"
     ]
    }
   ],
   "source": [
    "# Packing\n",
    "x = (12,45,78)\n",
    "(a,b,c) = x\n",
    "print (a)"
   ]
  },
  {
   "cell_type": "code",
   "execution_count": 15,
   "id": "dcc075ed",
   "metadata": {},
   "outputs": [
    {
     "name": "stdout",
     "output_type": "stream",
     "text": [
      "45\n"
     ]
    }
   ],
   "source": [
    "print(b)"
   ]
  },
  {
   "cell_type": "code",
   "execution_count": 16,
   "id": "c8967e34",
   "metadata": {},
   "outputs": [
    {
     "name": "stdout",
     "output_type": "stream",
     "text": [
      "78\n"
     ]
    }
   ],
   "source": [
    "print(c)"
   ]
  },
  {
   "cell_type": "code",
   "execution_count": 17,
   "id": "89ece2ac",
   "metadata": {},
   "outputs": [
    {
     "name": "stdout",
     "output_type": "stream",
     "text": [
      "[45, 78, 88]\n"
     ]
    }
   ],
   "source": [
    "# Unpacking:\n",
    "\n",
    "x= (45,78,88,56,233)\n",
    "(*a,b,c) = x\n",
    "print(a)"
   ]
  },
  {
   "cell_type": "code",
   "execution_count": 18,
   "id": "5d8ed0f2",
   "metadata": {},
   "outputs": [
    {
     "name": "stdout",
     "output_type": "stream",
     "text": [
      "[78, 88, 56]\n"
     ]
    }
   ],
   "source": [
    "x= (45,78,88,56,233)\n",
    "(a,*b,c) = x\n",
    "print(b)"
   ]
  },
  {
   "cell_type": "code",
   "execution_count": 19,
   "id": "ed3234c3",
   "metadata": {},
   "outputs": [
    {
     "name": "stdout",
     "output_type": "stream",
     "text": [
      "[88, 56, 233]\n"
     ]
    }
   ],
   "source": [
    "x= (45,78,88,56,233)\n",
    "(a,b,*c) = x\n",
    "print(c)"
   ]
  },
  {
   "cell_type": "code",
   "execution_count": null,
   "id": "c5bd3f30",
   "metadata": {},
   "outputs": [],
   "source": []
  },
  {
   "cell_type": "markdown",
   "id": "d726a309",
   "metadata": {},
   "source": [
    "# List example"
   ]
  },
  {
   "cell_type": "code",
   "execution_count": 20,
   "id": "54b405e2",
   "metadata": {},
   "outputs": [
    {
     "name": "stdout",
     "output_type": "stream",
     "text": [
      "[12, 78, 56, 12, 20, 22, 24, 26, 28, 30]\n"
     ]
    }
   ],
   "source": [
    "# Create a blank list and add all even number in next list.\n",
    "x = [12,45,78,89,56,12,20,22,24,26,28,30]\n",
    "y =[]\n",
    "for i in x:\n",
    "    if i%2==0:\n",
    "        y.append(i)\n",
    "print(y)\n",
    "\n"
   ]
  },
  {
   "cell_type": "markdown",
   "id": "efaa0f93",
   "metadata": {},
   "source": [
    "27 Jan 2024"
   ]
  },
  {
   "cell_type": "markdown",
   "id": "d6644578",
   "metadata": {},
   "source": [
    "Difference in List & Tupple"
   ]
  },
  {
   "cell_type": "markdown",
   "id": "ad4d4b9b",
   "metadata": {},
   "source": [
    "# # List\n",
    "# 1. written in square braket\n",
    "# 2. List is changable or Mutable\n",
    "# 3. List allow duplicate values\n",
    "# 4. List are ordered\n",
    "\n",
    "# Tupple\n",
    "1. Written in round braket (...)\n",
    "2 .Tuple is unchanageble or immutable\n",
    "3. tuple allow duplicate values\n",
    "4. Tuple are ordered.\n",
    "5. we can write multiple type of data in a tuple.\n",
    "6. Tuple are indexed."
   ]
  },
  {
   "cell_type": "code",
   "execution_count": null,
   "id": "908f3847",
   "metadata": {},
   "outputs": [],
   "source": []
  },
  {
   "cell_type": "code",
   "execution_count": 21,
   "id": "1db0cf8e",
   "metadata": {},
   "outputs": [
    {
     "name": "stdout",
     "output_type": "stream",
     "text": [
      "65 10 15\n"
     ]
    }
   ],
   "source": [
    "#x=10,y=15,z=65\n",
    "#x=65, y=10, z=15 - Exchange value\n",
    "x=10\n",
    "y=15\n",
    "z=65\n",
    "x,y,z=z,x,y\n",
    "\n",
    "print(x,y,z)"
   ]
  },
  {
   "cell_type": "code",
   "execution_count": 22,
   "id": "78ddbe24",
   "metadata": {},
   "outputs": [
    {
     "name": "stdout",
     "output_type": "stream",
     "text": [
      "12 12 45\n"
     ]
    }
   ],
   "source": [
    "#x,y,z=12,45,78\n",
    "#Y = 12\n",
    "#y =12\n",
    "#z = 45\n",
    "\n",
    "x,y,z = 12,45,78\n",
    "z=y\n",
    "y=x\n",
    "print(x,y,z)\n",
    "\n"
   ]
  },
  {
   "cell_type": "markdown",
   "id": "0435dd97",
   "metadata": {},
   "source": [
    "# Tuple formula and its use"
   ]
  },
  {
   "cell_type": "code",
   "execution_count": 23,
   "id": "6b5750fb",
   "metadata": {},
   "outputs": [],
   "source": [
    "#x = (12,45,12,12,12,78,8,56,23,20)"
   ]
  },
  {
   "cell_type": "code",
   "execution_count": 24,
   "id": "ca4fbaad",
   "metadata": {},
   "outputs": [],
   "source": [
    "# count the total number of 12\n",
    "# show the index number of 78\n",
    "# sort the Tuple in Descending order\n",
    "# add the total values in tuple"
   ]
  },
  {
   "cell_type": "code",
   "execution_count": 25,
   "id": "e8d84482",
   "metadata": {},
   "outputs": [],
   "source": [
    "# 1. count()\n",
    "# 2. find() or index()\n",
    "# 3. sorted\n",
    "# 4. min\n",
    "# 5. max\n",
    "# 6. sum\n"
   ]
  },
  {
   "cell_type": "code",
   "execution_count": 26,
   "id": "2e6ddcf1",
   "metadata": {},
   "outputs": [
    {
     "data": {
      "text/plain": [
       "4"
      ]
     },
     "execution_count": 26,
     "metadata": {},
     "output_type": "execute_result"
    }
   ],
   "source": [
    "# count the total number of 12\n",
    "x = (12,45,12,12,12,78,8,56,23,20)\n",
    "x.count(12)"
   ]
  },
  {
   "cell_type": "code",
   "execution_count": 27,
   "id": "978aa8f2",
   "metadata": {},
   "outputs": [
    {
     "data": {
      "text/plain": [
       "5"
      ]
     },
     "execution_count": 27,
     "metadata": {},
     "output_type": "execute_result"
    }
   ],
   "source": [
    "# show the index number of 78\n",
    "x.index(78)"
   ]
  },
  {
   "cell_type": "code",
   "execution_count": 28,
   "id": "ebc7f686",
   "metadata": {},
   "outputs": [
    {
     "name": "stdout",
     "output_type": "stream",
     "text": [
      "[78, 56, 45, 23, 20, 12, 12, 12, 12, 8]\n"
     ]
    }
   ],
   "source": [
    "# sort the Tuple in Descending order\n",
    "# Sort = It works only in List\n",
    "#Sorted = It works in List, Tuple, Dic. need to take new variable\n",
    "x = (12,45,12,12,12,78,8,56,23,20) \n",
    "y=sorted(x,reverse=True)\n",
    "print(y)"
   ]
  },
  {
   "cell_type": "code",
   "execution_count": 29,
   "id": "bd63194d",
   "metadata": {},
   "outputs": [
    {
     "name": "stdout",
     "output_type": "stream",
     "text": [
      "Addition of tuple : 278\n"
     ]
    }
   ],
   "source": [
    "# add the total values in tuple\n",
    "x = (12,45,12,12,12,78,8,56,23,20) \n",
    "a=sum(x)\n",
    "print(\"Addition of tuple :\",a)"
   ]
  },
  {
   "cell_type": "code",
   "execution_count": 30,
   "id": "45eaeb29",
   "metadata": {},
   "outputs": [
    {
     "data": {
      "text/plain": [
       "8"
      ]
     },
     "execution_count": 30,
     "metadata": {},
     "output_type": "execute_result"
    }
   ],
   "source": [
    "# Minimum value\n",
    "x = (12,45,12,12,12,78,8,56,23,20)\n",
    "min(x)"
   ]
  },
  {
   "cell_type": "code",
   "execution_count": null,
   "id": "03f153e3",
   "metadata": {},
   "outputs": [],
   "source": []
  },
  {
   "cell_type": "code",
   "execution_count": 31,
   "id": "581ef14d",
   "metadata": {},
   "outputs": [
    {
     "data": {
      "text/plain": [
       "78"
      ]
     },
     "execution_count": 31,
     "metadata": {},
     "output_type": "execute_result"
    }
   ],
   "source": [
    "# Max value\n",
    "x = (12,45,12,12,12,78,8,56,23,20)\n",
    "max(x)"
   ]
  },
  {
   "cell_type": "code",
   "execution_count": 32,
   "id": "906798e7",
   "metadata": {},
   "outputs": [
    {
     "name": "stdout",
     "output_type": "stream",
     "text": [
      "['IND', 'PAK', 'ENG', 'AUS', 'SRI']\n"
     ]
    }
   ],
   "source": [
    "#x=(\"India\",\"Pakistan\",\"England\",\"Australia\",\"Srilanka\")\n",
    "# show the sort name tuple like Below\n",
    "#X=(IND,PAK,ENG,AUS,SRI)\n",
    "\n",
    "x=(\"India\",\"Pakistan\",\"England\",\"Australia\",\"Srilanka\")\n",
    "y=[]\n",
    "for i in x:\n",
    "    i=i[0:3].upper()\n",
    "    y.append(i)\n",
    "print(y)\n",
    "    \n"
   ]
  },
  {
   "cell_type": "code",
   "execution_count": 33,
   "id": "2454184c",
   "metadata": {},
   "outputs": [
    {
     "name": "stdout",
     "output_type": "stream",
     "text": [
      "India\n",
      "England\n",
      "Australia\n"
     ]
    }
   ],
   "source": [
    "# Print the name whose first alphabet start with vowel\n",
    "x=(\"India\",\"Pakistan\",\"England\",\"Australia\",\"Srilanka\")\n",
    "for i in x:\n",
    "    if i[0].lower() in (\"a\",\"e\",\"i\",\"o\",\"u\"):\n",
    "        print(i)"
   ]
  },
  {
   "cell_type": "code",
   "execution_count": 34,
   "id": "aba0e37d",
   "metadata": {},
   "outputs": [
    {
     "name": "stdout",
     "output_type": "stream",
     "text": [
      "['India', 'England', 'Australia']\n"
     ]
    }
   ],
   "source": [
    "# Print the name whose first alphabet start with vowel\n",
    "x=(\"India\",\"Pakistan\",\"England\",\"Australia\",\"Srilanka\")\n",
    "y=[]\n",
    "for i in x:\n",
    "    if i[0].lower() in \"aeiou\":\n",
    "        y.append(i)\n",
    "print(y)\n"
   ]
  },
  {
   "cell_type": "code",
   "execution_count": 35,
   "id": "a8e7b22f",
   "metadata": {},
   "outputs": [
    {
     "data": {
      "text/plain": [
       "[45, 78, 89, 500, 500]"
      ]
     },
     "execution_count": 35,
     "metadata": {},
     "output_type": "execute_result"
    }
   ],
   "source": [
    "# replace the value 500 at the place of 56 and 23\n",
    "x=(45,78,89,56,23)\n",
    "x=list(x) # convert into list\n",
    "x[-2] = 500\n",
    "x[-1] = 500\n",
    "x\n",
    "\n"
   ]
  },
  {
   "cell_type": "code",
   "execution_count": 36,
   "id": "19c44d74",
   "metadata": {},
   "outputs": [
    {
     "data": {
      "text/plain": [
       "24"
      ]
     },
     "execution_count": 36,
     "metadata": {},
     "output_type": "execute_result"
    }
   ],
   "source": [
    "# add the total numerical values from this string\n",
    "#  1st Method\n",
    "y=[]\n",
    "x =\"pri234n5c45@e%$1e\"\n",
    "for i in x:\n",
    "    if i.isdigit():\n",
    "        y.append(int(i))\n",
    "sum(y)\n",
    "\n",
    "        "
   ]
  },
  {
   "cell_type": "markdown",
   "id": "8bd53f1f",
   "metadata": {},
   "source": [
    "28th Jan 2024"
   ]
  },
  {
   "cell_type": "code",
   "execution_count": 37,
   "id": "165e9da0",
   "metadata": {},
   "outputs": [],
   "source": [
    "# Python Assignments"
   ]
  },
  {
   "cell_type": "code",
   "execution_count": 38,
   "id": "5a06bd9c",
   "metadata": {},
   "outputs": [
    {
     "name": "stdout",
     "output_type": "stream",
     "text": [
      "Hello World\n",
      "Hello World\n",
      "Hello World\n",
      "Hello World\n",
      "Hello World\n",
      "Hello World\n",
      "Hello World\n",
      "Hello World\n",
      "Hello World\n",
      "Hello World\n",
      "Hello World\n",
      "Hello World\n"
     ]
    }
   ],
   "source": [
    "#print the hello world 10 times with the help of While loop\n",
    "\n",
    "x=0\n",
    "y=11\n",
    "while y>=x:\n",
    "    print(\"Hello World\")\n",
    "    x=x+1\n"
   ]
  },
  {
   "cell_type": "code",
   "execution_count": 39,
   "id": "85c76dfe",
   "metadata": {},
   "outputs": [
    {
     "name": "stdout",
     "output_type": "stream",
     "text": [
      "63\n"
     ]
    }
   ],
   "source": [
    "#find the all Number from 50 to 100 that is divisibe of 7 and 9. \n",
    "\n",
    "x=100\n",
    "y=50\n",
    "while x>=y:\n",
    "    if y%7==0 and y%9==0:\n",
    "        print(y)\n",
    "    y=y+1"
   ]
  },
  {
   "cell_type": "code",
   "execution_count": 40,
   "id": "d1e77838",
   "metadata": {},
   "outputs": [
    {
     "name": "stdout",
     "output_type": "stream",
     "text": [
      "48\n",
      "72\n",
      "Total count : 120\n"
     ]
    }
   ],
   "source": [
    "# Count the all number form 30 to 80 that is divisible of 6 and 8\n",
    "\n",
    "a=0\n",
    "for i in range(30,81):\n",
    "    if i%6==0 and i%8==0:\n",
    "        a=a+i\n",
    "        print(i)\n",
    "print(\"Total count :\",a)\n"
   ]
  },
  {
   "cell_type": "code",
   "execution_count": 41,
   "id": "98f206e2",
   "metadata": {},
   "outputs": [
    {
     "name": "stdout",
     "output_type": "stream",
     "text": [
      "20\n",
      "22\n",
      "24\n",
      "26\n",
      "28\n",
      "30\n",
      "32\n",
      "34\n",
      "36\n",
      "38\n",
      "40\n",
      "all even number : 11\n"
     ]
    }
   ],
   "source": [
    "#  Write a python program to count the all even Number from 20 to 40.\n",
    "\n",
    "a=0\n",
    "for i in range(20,41):\n",
    "    if i%2==0:\n",
    "        a=a+1\n",
    "        print(i)\n",
    "print(\"all even number :\", a)"
   ]
  },
  {
   "cell_type": "code",
   "execution_count": 42,
   "id": "443a1020",
   "metadata": {},
   "outputs": [
    {
     "name": "stdout",
     "output_type": "stream",
     "text": [
      "sum : 165\n"
     ]
    }
   ],
   "source": [
    "# Write a python program to sum the total value from 10 to 20 ?\n",
    "\n",
    "a=0\n",
    "for i in range(10,21):\n",
    "    a=a+i\n",
    "print(\"sum :\", a)\n"
   ]
  },
  {
   "cell_type": "code",
   "execution_count": 43,
   "id": "d846eb59",
   "metadata": {},
   "outputs": [
    {
     "name": "stdout",
     "output_type": "stream",
     "text": [
      "Even no.: 13\n",
      "odd no : 13\n"
     ]
    }
   ],
   "source": [
    "# write a python program to count the all even and Odd Number from 10 to 35\n",
    "\n",
    "a=0\n",
    "b=0\n",
    "for i in range(10,36):\n",
    "    if i%2==0:\n",
    "        a=a+1\n",
    "    else:\n",
    "        b=b+1\n",
    "print(\"Even no.:\",a)\n",
    "print(\"odd no :\",b)"
   ]
  },
  {
   "cell_type": "code",
   "execution_count": null,
   "id": "6a8554d2",
   "metadata": {},
   "outputs": [],
   "source": [
    "# Write a python Program to show the factorial of Any number according to the help of user input.\n",
    "\n",
    "x=int(input(\"enter the number\"))\n",
    "\n",
    "fact = 1\n",
    "for i in range (1,x+1):\n",
    "    fact = fact*i\n",
    "print(\"Factorial : -\", fact)\n"
   ]
  },
  {
   "cell_type": "code",
   "execution_count": null,
   "id": "fa103e7b",
   "metadata": {},
   "outputs": [],
   "source": [
    "# . find the Average of the first 10 Number with the help of while loop\n",
    "\n",
    "a=0\n",
    "x=10\n",
    "b=0\n",
    "while x>a:\n",
    "    a = a+1\n",
    "    b=b+a\n",
    "avg=b/x\n",
    "print(\"average : -\", avg)"
   ]
  },
  {
   "cell_type": "code",
   "execution_count": null,
   "id": "6b22900a",
   "metadata": {},
   "outputs": [],
   "source": [
    "#  Reverse the Number from 80 to 50 with help of for and while Loop\n",
    "c=0\n",
    "for i in range(80,50,-1):\n",
    "    print(i)\n"
   ]
  },
  {
   "cell_type": "code",
   "execution_count": null,
   "id": "aaa059a3",
   "metadata": {},
   "outputs": [],
   "source": [
    "# print your name of alphabet with the help of while loop\n",
    "x=\"Nitin Singh\"\n",
    "y=len(x)\n",
    "z=0\n",
    "while y>z:\n",
    "    print(x[z],end=\" \")\n",
    "    z=z+1"
   ]
  },
  {
   "cell_type": "code",
   "execution_count": null,
   "id": "704fb513",
   "metadata": {},
   "outputs": [],
   "source": [
    " # print the reverse name with the help of while loop.\n",
    "\n",
    "x=\"Nitin Singh\"\n",
    "y=len(x)\n",
    "z=0\n",
    "while z<y:\n",
    "    y-=1\n",
    "    print(x[y],end=\" \")\n",
    "    "
   ]
  },
  {
   "cell_type": "code",
   "execution_count": null,
   "id": "1a960270",
   "metadata": {},
   "outputs": [],
   "source": [
    "# write a python program to show the number between 100 to 150 that is divisible of 5 and 9 and 3\n",
    "\n",
    "x=0\n",
    "for i in range(100,151):\n",
    "    if i%5==0 and i%9==0 and i%3==0:\n",
    "        print(i)\n",
    "        x=x+1\n",
    "print(\"total no.:\",x)"
   ]
  },
  {
   "cell_type": "code",
   "execution_count": null,
   "id": "122c4e6a",
   "metadata": {},
   "outputs": [],
   "source": [
    "# Write a python program to show the all leap year from 1947 to 2024 and also show how Many years is a leap year\n",
    "x=0\n",
    "for i in range(1947,2025):\n",
    "    if i%4==0:\n",
    "        print(i)\n",
    "        x=x+1\n",
    "print(\"Total no of leap year :\",x)"
   ]
  },
  {
   "cell_type": "markdown",
   "id": "f02caaf7",
   "metadata": {},
   "source": [
    "# Sets :"
   ]
  },
  {
   "cell_type": "markdown",
   "id": "4b3bd0f3",
   "metadata": {},
   "source": [
    "# List : [] Changable, Orderded, Allow Duplicates\n",
    "# Tuple : () Unchangable, Orderded, Allow Duplicates\n",
    "# Sets : {} Unchangable, Un-Orderded, Don't Allow Duplicates"
   ]
  },
  {
   "cell_type": "code",
   "execution_count": null,
   "id": "e688af13",
   "metadata": {},
   "outputs": [],
   "source": [
    "x={\"PRINCE\",\"NITIN\",\"JATIN\"}\n",
    "print(x)"
   ]
  },
  {
   "cell_type": "code",
   "execution_count": null,
   "id": "d2ac1b0a",
   "metadata": {},
   "outputs": [],
   "source": [
    "x"
   ]
  },
  {
   "cell_type": "code",
   "execution_count": null,
   "id": "25d08065",
   "metadata": {},
   "outputs": [],
   "source": [
    "x={12,3,12,12,45,58,45}\n",
    "x"
   ]
  },
  {
   "cell_type": "markdown",
   "id": "01abaf1a",
   "metadata": {},
   "source": [
    "4 Feb 2024"
   ]
  },
  {
   "cell_type": "markdown",
   "id": "50d5999a",
   "metadata": {},
   "source": [
    "#Set"
   ]
  },
  {
   "cell_type": "code",
   "execution_count": null,
   "id": "bf93bd9a",
   "metadata": {},
   "outputs": [],
   "source": [
    "x={12,11,13,15,25,12,13,15,20,80}\n",
    "print(type(x))\n",
    "print(x)  # It don't show the duplicate value"
   ]
  },
  {
   "cell_type": "code",
   "execution_count": null,
   "id": "c123b291",
   "metadata": {},
   "outputs": [],
   "source": [
    "# Convert list to set to remove duplicate value\n",
    "x=[12,11,13,15,25,12,13,15,20,80]\n",
    "print(type(x))\n",
    "x=set(x)\n",
    "list(x)\n",
    "\n"
   ]
  },
  {
   "cell_type": "code",
   "execution_count": null,
   "id": "609c62f1",
   "metadata": {},
   "outputs": [],
   "source": [
    "# How to create blank Sets\n",
    "\n",
    "x=set()\n",
    "print(x)"
   ]
  },
  {
   "cell_type": "code",
   "execution_count": null,
   "id": "73e3b116",
   "metadata": {},
   "outputs": [],
   "source": [
    "# this will create dictionary not a set.\n",
    "x={}   \n",
    "print(type(x))"
   ]
  },
  {
   "cell_type": "code",
   "execution_count": null,
   "id": "a05b0d74",
   "metadata": {},
   "outputs": [],
   "source": [
    "# How to create blank list\n",
    "x=[]\n",
    "print(type(x))"
   ]
  },
  {
   "cell_type": "code",
   "execution_count": null,
   "id": "181b5b83",
   "metadata": {},
   "outputs": [],
   "source": [
    "# How to create blank tuple\n",
    "\n",
    "x=()\n",
    "print(type(x))"
   ]
  },
  {
   "cell_type": "code",
   "execution_count": null,
   "id": "92188a07",
   "metadata": {},
   "outputs": [],
   "source": [
    "# convert into uppper letter in sets.\n",
    "\n",
    "x ={\"Jan\",\"Feb\",\"Mar\"}\n",
    "y=[]\n",
    "for i in x:\n",
    "    i=i.upper()\n",
    "    y.append(i)\n",
    "set(y)"
   ]
  },
  {
   "cell_type": "code",
   "execution_count": null,
   "id": "30dd12cf",
   "metadata": {},
   "outputs": [],
   "source": [
    "# How to add value in sets\n",
    "# add() - with the help of this function you can add single value\n",
    "# Update() - through this function we can add multiple value at a time.\n"
   ]
  },
  {
   "cell_type": "code",
   "execution_count": null,
   "id": "a8ad2ad1",
   "metadata": {},
   "outputs": [],
   "source": [
    "x"
   ]
  },
  {
   "cell_type": "code",
   "execution_count": null,
   "id": "16347670",
   "metadata": {},
   "outputs": [],
   "source": [
    "x.add(\"Jul\")\n",
    "x"
   ]
  },
  {
   "cell_type": "code",
   "execution_count": null,
   "id": "cfa849d0",
   "metadata": {},
   "outputs": [],
   "source": [
    "x.update({\"Aug\",\"Sep\"})  # always use{} to update multiple value with function\n",
    "x"
   ]
  },
  {
   "cell_type": "markdown",
   "id": "48a07cbe",
   "metadata": {},
   "source": [
    " # How to delete value from sets."
   ]
  },
  {
   "cell_type": "markdown",
   "id": "83096dfc",
   "metadata": {},
   "source": [
    "# Remove - delete any value\n",
    "# Discard - delete any value\n",
    "# Pop - It delete random value"
   ]
  },
  {
   "cell_type": "code",
   "execution_count": null,
   "id": "21a22a73",
   "metadata": {},
   "outputs": [],
   "source": [
    "#Remove\n",
    "x={\"a\",\"b\",\"c\",\"d\"}\n",
    "x.remove(\"c\")\n",
    "x"
   ]
  },
  {
   "cell_type": "code",
   "execution_count": null,
   "id": "6db73418",
   "metadata": {},
   "outputs": [],
   "source": [
    "# Discard\n",
    "x={\"a\",\"b\",\"c\",\"d\"}\n",
    "x.discard(\"b\")\n",
    "x"
   ]
  },
  {
   "cell_type": "code",
   "execution_count": null,
   "id": "55c87ead",
   "metadata": {},
   "outputs": [],
   "source": [
    "# Pop\n",
    "x={\"a\",\"b\",\"c\",\"d\"}\n",
    "x.pop()\n",
    "x"
   ]
  },
  {
   "cell_type": "markdown",
   "id": "04e72230",
   "metadata": {},
   "source": [
    "# Union() : with the help of this function we can join two sets"
   ]
  },
  {
   "cell_type": "code",
   "execution_count": null,
   "id": "c0a1343f",
   "metadata": {},
   "outputs": [],
   "source": [
    "x={1,2,3,4}\n",
    "y={5,6,7}x.\n",
    "z=x.union(y)  # we need to create new variable to apply union function.\n",
    "print(z)"
   ]
  },
  {
   "cell_type": "code",
   "execution_count": null,
   "id": "89c0908f",
   "metadata": {},
   "outputs": [],
   "source": [
    "# Update vs Union\n",
    "\n",
    "x={1,2,3,4}\n",
    "y={5,6,7}\n",
    "x.update(y)   # No need to create new variable to apply update function.\n",
    "x"
   ]
  },
  {
   "cell_type": "code",
   "execution_count": null,
   "id": "1ddf4aab",
   "metadata": {},
   "outputs": [],
   "source": [
    "# Intersection_update() : it keeps the value that available in both sets in same variable\n",
    "\n",
    "x={\"apple\",\"banana\",\"lichi\", \"mango\"}\n",
    "y={\"banana\",\"mango\"}\n",
    "x.intersection_update(y)\n",
    "x"
   ]
  },
  {
   "cell_type": "code",
   "execution_count": null,
   "id": "043fa653",
   "metadata": {},
   "outputs": [],
   "source": [
    "# Intersection() : it give the value that available in both sets in new variable\n",
    "x={\"apple\",\"banana\",\"lichi\", \"mango\"}\n",
    "y={\"banana\",\"mango\"}\n",
    "z= x.intersection(y)\n",
    "z"
   ]
  },
  {
   "cell_type": "markdown",
   "id": "688db310",
   "metadata": {},
   "source": [
    "# Find out value which does not exit in both sets\n",
    "\n",
    "#Symmetrci_difference_update()\n"
   ]
  },
  {
   "cell_type": "code",
   "execution_count": null,
   "id": "643c4284",
   "metadata": {},
   "outputs": [],
   "source": [
    "#Symmetrci_difference_update() - it show the value which not exist in both sets.\n",
    "\n",
    "x={\"One\",\"Two\",\"Three\"}\n",
    "y={\"Four\",\"Five\",\"One\",\"Three\"}\n",
    "x.symmetric_difference_update(y)\n",
    "x\n"
   ]
  },
  {
   "cell_type": "code",
   "execution_count": null,
   "id": "68f70e32",
   "metadata": {},
   "outputs": [],
   "source": [
    "x={\"One\",\"Two\",\"Three\"}\n",
    "y={\"Four\",\"Five\",\"One\",\"Three\"}\n",
    "x.symmetric_difference(y)\n",
    "x"
   ]
  },
  {
   "cell_type": "markdown",
   "id": "35a8e1c7",
   "metadata": {},
   "source": [
    "# 10 Feb 2024"
   ]
  },
  {
   "cell_type": "code",
   "execution_count": null,
   "id": "fb859935",
   "metadata": {},
   "outputs": [],
   "source": [
    "\n",
    "\n",
    "# delete all the value who is less than 50\n",
    "\n",
    "# add 10 in all the elements in this list\n",
    "\n",
    "# find the average of the Number who is greater than or equal to 50"
   ]
  },
  {
   "cell_type": "code",
   "execution_count": null,
   "id": "e1487418",
   "metadata": {},
   "outputs": [],
   "source": [
    "x = [12,45,78,89,56,23,15,48,89,10]\n",
    "y=x.copy()\n",
    "y\n"
   ]
  },
  {
   "cell_type": "code",
   "execution_count": null,
   "id": "b361547f",
   "metadata": {},
   "outputs": [],
   "source": [
    "x.clear()\n",
    "x"
   ]
  },
  {
   "cell_type": "code",
   "execution_count": null,
   "id": "0506c750",
   "metadata": {},
   "outputs": [],
   "source": [
    "for i in y:\n",
    "    if i>=50:\n",
    "        x.append(i)\n",
    "x"
   ]
  },
  {
   "cell_type": "code",
   "execution_count": null,
   "id": "e355355d",
   "metadata": {},
   "outputs": [],
   "source": [
    "# add 10 in all the elements in this list\n",
    "x = [12,45,78,89,56,23,15,48,89,10]\n",
    "for i in x:\n",
    "    print(i+10)"
   ]
  },
  {
   "cell_type": "code",
   "execution_count": null,
   "id": "ad7c0916",
   "metadata": {},
   "outputs": [],
   "source": [
    "# find the average of the Number who is greater than or equal to 50\n",
    "x = [12,45,78,89,56,23,15,48,89,10]\n",
    "s=0\n",
    "c=0\n",
    "for i in x:\n",
    "    if i>50:\n",
    "        s+=i\n",
    "        c+=1\n",
    "avg = s/c\n",
    "print(\"Average :\", avg)"
   ]
  },
  {
   "cell_type": "markdown",
   "id": "761f0155",
   "metadata": {},
   "source": [
    "# Dictionary"
   ]
  },
  {
   "cell_type": "code",
   "execution_count": null,
   "id": "b9b23599",
   "metadata": {},
   "outputs": [],
   "source": [
    "# List [] : Ordered, indexed, , changable, Duplicated value allowed, multiple value add, \n",
    "# Tuple () : ordered, indexed, Unchangable, allow duplicate,  multiple value add, \n",
    "# Set {}: Unorderded, Unindexed, Unchangable, Don't allow duplicates\n",
    "# Dictionary {}:  Ordered, Changeable, Don't allow duplicates, Written in pair & Key "
   ]
  },
  {
   "cell_type": "markdown",
   "id": "b1ffb6f1",
   "metadata": {},
   "source": [
    "# Intruduction of Dictionary\n",
    "1. Dictionary are written in {} braket.\n",
    "2. It always written in pair of key and values\n",
    "3. Orderded\n",
    "4. Not allow duplicate value\n",
    "5. Changable"
   ]
  },
  {
   "cell_type": "code",
   "execution_count": null,
   "id": "a4be01ab",
   "metadata": {},
   "outputs": [],
   "source": []
  },
  {
   "cell_type": "code",
   "execution_count": null,
   "id": "dfe4527c",
   "metadata": {},
   "outputs": [],
   "source": [
    "x={1:\"One\", 2:\"Two\", 3:\"Three\", 4:\"Four\"}\n",
    "print(x)\n",
    "print(len(x))\n",
    "print(type(x))"
   ]
  },
  {
   "cell_type": "raw",
   "id": "8e52417c",
   "metadata": {},
   "source": []
  },
  {
   "cell_type": "code",
   "execution_count": null,
   "id": "620b8aa1",
   "metadata": {},
   "outputs": [],
   "source": [
    "car={\"Brand\":\"BMW\",\"Color\":\"Red\",\"Year\":2021,\"Model\":\"XE\"}\n",
    "print(car)"
   ]
  },
  {
   "cell_type": "code",
   "execution_count": null,
   "id": "77d1b447",
   "metadata": {},
   "outputs": [],
   "source": [
    "print(car[\"Brand\"])"
   ]
  },
  {
   "cell_type": "code",
   "execution_count": null,
   "id": "a53702d1",
   "metadata": {},
   "outputs": [],
   "source": [
    "print(car[\"Color\"])"
   ]
  },
  {
   "cell_type": "code",
   "execution_count": null,
   "id": "7ff32800",
   "metadata": {},
   "outputs": [],
   "source": [
    "print(car[\"Year\"])"
   ]
  },
  {
   "cell_type": "code",
   "execution_count": null,
   "id": "289b8e55",
   "metadata": {},
   "outputs": [],
   "source": [
    "print(car[\"Model\"])"
   ]
  },
  {
   "cell_type": "markdown",
   "id": "5b99e07c",
   "metadata": {},
   "source": [
    "#Formula's under Dictionary"
   ]
  },
  {
   "cell_type": "code",
   "execution_count": null,
   "id": "dc30af47",
   "metadata": {},
   "outputs": [],
   "source": [
    "x={\"Name\":\"Nitin\",\"Age\": 32,\"City\":\"Delhi\"}\n",
    "print(x)\n",
    "print(type(x))\n",
    "print(len(x))"
   ]
  },
  {
   "cell_type": "code",
   "execution_count": null,
   "id": "789c8fc3",
   "metadata": {},
   "outputs": [],
   "source": [
    "# How to check total key in dictionary\n",
    "# dic.key()   - It shows the total key\n",
    "x={\"Name\":\"Nitin\",\"Age\": 32,\"City\":\"Delhi\"}\n",
    "y=x.keys()\n",
    "print(y)"
   ]
  },
  {
   "cell_type": "code",
   "execution_count": null,
   "id": "da289753",
   "metadata": {},
   "outputs": [],
   "source": [
    "# how to check total values in dictionary\n",
    "# dic.values()\n",
    "x={\"Name\":\"Nitin\",\"Age\": 32,\"City\":\"Delhi\"}\n",
    "y=x.values()\n",
    "print(y)"
   ]
  },
  {
   "cell_type": "code",
   "execution_count": null,
   "id": "9c01ca81",
   "metadata": {},
   "outputs": [],
   "source": [
    "# How to show the key & value in tuple under list\n",
    "# items()\n",
    "x={\"Name\":\"Nitin\",\"Age\": 32,\"City\":\"Delhi\"}\n",
    "y=x.items()\n",
    "print(y)"
   ]
  },
  {
   "cell_type": "code",
   "execution_count": null,
   "id": "67757f81",
   "metadata": {},
   "outputs": [],
   "source": [
    "# How to show the value of the key\n",
    "x={\"Name\":\"Nitin\",\"Age\": 32,\"City\":\"Delhi\"}\n",
    "x[\"Name\"]"
   ]
  },
  {
   "cell_type": "code",
   "execution_count": null,
   "id": "d55c2bfe",
   "metadata": {},
   "outputs": [],
   "source": [
    "x[\"Age\"]"
   ]
  },
  {
   "cell_type": "code",
   "execution_count": null,
   "id": "5258bdf1",
   "metadata": {},
   "outputs": [],
   "source": [
    "x[\"City\"]"
   ]
  },
  {
   "cell_type": "code",
   "execution_count": null,
   "id": "9c920b5d",
   "metadata": {},
   "outputs": [],
   "source": [
    "y=str(input(\"Enter the Key\"))\n",
    "print(x[y])"
   ]
  },
  {
   "cell_type": "markdown",
   "id": "182a4515",
   "metadata": {},
   "source": [
    "# Add & Remove in Dictionary"
   ]
  },
  {
   "cell_type": "code",
   "execution_count": null,
   "id": "cc28728b",
   "metadata": {},
   "outputs": [],
   "source": [
    "# How to add a new key and values in the dictionary"
   ]
  },
  {
   "cell_type": "code",
   "execution_count": null,
   "id": "64a30ba3",
   "metadata": {},
   "outputs": [],
   "source": [
    "# Without Formula\n",
    "x={\"Name\":\"Nitin\",\"Age\": 36,\"City\":\"Delhi\"}\n",
    "x[\"Company\"]= \"BOA\"\n",
    "print(x)"
   ]
  },
  {
   "cell_type": "code",
   "execution_count": null,
   "id": "bdc16389",
   "metadata": {},
   "outputs": [],
   "source": [
    "# With Formula - Update\n",
    "x={'Name': 'Nitin', 'Age': 36, 'City': 'Delhi', 'Company': 'BOA'}\n",
    "x.update({\"Designation\":\"Manager\"})\n",
    "print(x)"
   ]
  },
  {
   "cell_type": "markdown",
   "id": "db1e47cf",
   "metadata": {},
   "source": [
    "# How to delete values from the Dictionary"
   ]
  },
  {
   "cell_type": "markdown",
   "id": "b8ac513a",
   "metadata": {},
   "source": [
    "1. Pop\n",
    "2. Popitems\n",
    "3. Clear\n",
    "4. del"
   ]
  },
  {
   "cell_type": "code",
   "execution_count": null,
   "id": "4ca4622e",
   "metadata": {},
   "outputs": [],
   "source": [
    "#Pop \n",
    "x={1:\"One\",2:\"Two\",3:\"Three\"}\n",
    "x.pop(2)\n",
    "print(x)"
   ]
  },
  {
   "cell_type": "code",
   "execution_count": null,
   "id": "0536b477",
   "metadata": {},
   "outputs": [],
   "source": [
    "#Popitem #  : It delete the last value\n",
    "x={1:\"One\",2:\"Two\",3:\"Three\"}\n",
    "x.popitem()  # By default last values\n",
    "x"
   ]
  },
  {
   "cell_type": "code",
   "execution_count": null,
   "id": "77ba31df",
   "metadata": {},
   "outputs": [],
   "source": [
    "# Clear : It delete the complete value\n",
    "x={1:\"One\",2:\"Two\",3:\"Three\"}\n",
    "x.clear()  \n",
    "x"
   ]
  },
  {
   "cell_type": "code",
   "execution_count": null,
   "id": "3dc95716",
   "metadata": {},
   "outputs": [],
   "source": [
    "# Del : "
   ]
  },
  {
   "cell_type": "markdown",
   "id": "c9a3c1b2",
   "metadata": {},
   "source": [
    "# 11 Feb 2024"
   ]
  },
  {
   "cell_type": "code",
   "execution_count": null,
   "id": "5e5ef84b",
   "metadata": {},
   "outputs": [],
   "source": [
    "# State and Capital\n",
    "x={\"Bihar\":\"Patna\",\"Assam\":\"Dispur\",\"Goa\":\"Panji\",\"Haryana\":\"Chandigarh\",\"Manipur\":\"Imphal\",\"Tamil Nadu\":\"Chennai\"}\n",
    "print(\"|\"*100)\n",
    "y=str(input(\"Enter the state name\"))\n",
    "z=x[y]\n",
    "print(\"The Capital of\",y,\"is\",z)\n",
    "print(\"|\"*100)"
   ]
  },
  {
   "cell_type": "code",
   "execution_count": null,
   "id": "89fffe85",
   "metadata": {},
   "outputs": [],
   "source": [
    "#Find out the Length of Dictionary\n",
    "x={\"Bihar\":\"Patna\",\"Assam\":\"Dispur\",\"Goa\":\"Panji\",\"Haryana\":\"Chandigarh\",\"Manipur\":\"Imphal\",\"Tamil Nadu\":\"Chennai\"}\n",
    "print(\"Total no. of State is :\",len(x))"
   ]
  },
  {
   "cell_type": "code",
   "execution_count": null,
   "id": "d872f1ba",
   "metadata": {},
   "outputs": [],
   "source": [
    "# keys() - It show the total keys of dictionary\n",
    "x={\"Bihar\":\"Patna\",\"Assam\":\"Dispur\",\"Goa\":\"Panji\",\"Haryana\":\"Chandigarh\",\"Manipur\":\"Imphal\",\"Tamil Nadu\":\"Chennai\"}\n",
    "x.keys()"
   ]
  },
  {
   "cell_type": "code",
   "execution_count": null,
   "id": "3c99fa50",
   "metadata": {},
   "outputs": [],
   "source": [
    "# values() - It show the total values of dictionary\n",
    "x={\"Bihar\":\"Patna\",\"Assam\":\"Dispur\",\"Goa\":\"Panji\",\"Haryana\":\"Chandigarh\",\"Manipur\":\"Imphal\",\"Tamil Nadu\":\"Chennai\"}\n",
    "x.values()"
   ]
  },
  {
   "cell_type": "code",
   "execution_count": null,
   "id": "6dcec205",
   "metadata": {},
   "outputs": [],
   "source": [
    "# items() - It show the total items of dictionary\n",
    "x={\"Bihar\":\"Patna\",\"Assam\":\"Dispur\",\"Goa\":\"Panji\",\"Haryana\":\"Chandigarh\",\"Manipur\":\"Imphal\",\"Tamil Nadu\":\"Chennai\"}\n",
    "x.items()"
   ]
  },
  {
   "cell_type": "code",
   "execution_count": null,
   "id": "d3ba9eab",
   "metadata": {},
   "outputs": [],
   "source": [
    "# How to add the new keys in this dictionary.\n",
    "x={\"Bihar\":\"Patna\",\"Assam\":\"Dispur\",\"Goa\":\"Panji\",\"Haryana\":\"Chandigarh\",\"Manipur\":\"Imphal\",\"Tamil Nadu\":\"Chennai\"}\n",
    "x.update({\"Delhi\":\"New Delhi\"})\n",
    "print(x)"
   ]
  },
  {
   "cell_type": "code",
   "execution_count": null,
   "id": "f7553d94",
   "metadata": {},
   "outputs": [],
   "source": [
    "# How to delete the new keys in this dictionary.\n",
    "x={\"Bihar\":\"Patna\",\"Assam\":\"Dispur\",\"Goa\":\"Panji\",\"Haryana\":\"Chandigarh\",\"Manipur\":\"Imphal\",\"Tamil Nadu\":\"Chennai\"}\n",
    "x.pop(\"Bihar\")\n",
    "print(x)"
   ]
  },
  {
   "cell_type": "code",
   "execution_count": null,
   "id": "9913e97c",
   "metadata": {},
   "outputs": [],
   "source": [
    "# how to sort the keys in dictionary\n",
    "x={\"Bihar\":\"Patna\",\"Assam\":\"Dispur\",\"Goa\":\"Panji\",\"Haryana\":\"Chandigarh\",\"Manipur\":\"Imphal\",\"Tamil Nadu\":\"Chennai\"}\n",
    "sorted(x.keys())"
   ]
  },
  {
   "cell_type": "code",
   "execution_count": null,
   "id": "f7fcf089",
   "metadata": {},
   "outputs": [],
   "source": [
    "# how to sort the values in dictionary\n",
    "x={\"Bihar\":\"Patna\",\"Assam\":\"Dispur\",\"Goa\":\"Panji\",\"Haryana\":\"Chandigarh\",\"Manipur\":\"Imphal\",\"Tamil Nadu\":\"Chennai\"}\n",
    "sorted(x.values())"
   ]
  },
  {
   "cell_type": "code",
   "execution_count": null,
   "id": "1edafa57",
   "metadata": {},
   "outputs": [],
   "source": [
    "# print all values\n",
    "x={\"Bihar\":\"Patna\",\"Assam\":\"Dispur\",\"Goa\":\"Panji\",\"Haryana\":\"Chandigarh\",\"Manipur\":\"Imphal\",\"Tamil Nadu\":\"Chennai\"}\n",
    "for i,j in x.items():\n",
    "    print(i,\" : \",j)"
   ]
  },
  {
   "cell_type": "code",
   "execution_count": null,
   "id": "bcb5909e",
   "metadata": {},
   "outputs": [],
   "source": [
    "# Show the all state and capital whose state name have letter \"i\"\n",
    "\n",
    "x={\"Bihar\":\"Patna\",\"Assam\":\"Dispur\",\"Goa\":\"Panji\",\"Haryana\":\"Chandigarh\",\"Manipur\":\"Imphal\",\"Tamil Nadu\":\"Chennai\"}\n",
    "for i,j in x.items():\n",
    "    if \"i\"in i:\n",
    "        print(i,\" : \",j)\n"
   ]
  },
  {
   "cell_type": "code",
   "execution_count": null,
   "id": "7129ffb2",
   "metadata": {},
   "outputs": [],
   "source": [
    "# Exchange all the key to values and values to key\n",
    "x={\"Bihar\":\"Patna\",\"Assam\":\"Dispur\",\"Goa\":\"Panji\",\"Haryana\":\"Chandigarh\",\"Manipur\":\"Imphal\",\"Tamil Nadu\":\"Chennai\"}\n",
    "y={}\n",
    "for i,j in x.items():\n",
    "    y[j]=i\n",
    "print(y)"
   ]
  },
  {
   "cell_type": "markdown",
   "id": "93b194dc",
   "metadata": {},
   "source": [
    "# Nested Dictionary"
   ]
  },
  {
   "cell_type": "markdown",
   "id": "c64ad72f",
   "metadata": {},
   "source": [
    "# 17 Feb 2024"
   ]
  },
  {
   "cell_type": "markdown",
   "id": "554f9026",
   "metadata": {},
   "source": [
    "#Nested Dictionary"
   ]
  },
  {
   "cell_type": "code",
   "execution_count": null,
   "id": "390d1fff",
   "metadata": {},
   "outputs": [],
   "source": [
    "dic={\"Name\":[\"Nitin\",\"Prince\",\"Ravi\"],\"Age\":[25,36,34]}\n",
    "dic[\"Name\"]"
   ]
  },
  {
   "cell_type": "code",
   "execution_count": null,
   "id": "d667ace5",
   "metadata": {},
   "outputs": [],
   "source": [
    "# Marksheet\n",
    "a={\"hnd\":45,\"eng\":59,\"maths\":75,\"sc\":80,\"sst\":65}\n",
    "b={\"hnd\":65,\"eng\":89,\"maths\":79,\"sc\":82,\"sst\":80}\n",
    "c={\"hnd\":55,\"eng\":79,\"maths\":80,\"sc\":75,\"sst\":74}\n",
    "d={\"hnd\":95,\"eng\":69,\"maths\":90,\"sc\":92,\"sst\":92}\n",
    "Marks={\"Nitin\":a,\"Prince\":b,\"Jatin\":c,\"Ravi\":d}\n",
    "len(Marks)"
   ]
  },
  {
   "cell_type": "code",
   "execution_count": null,
   "id": "fe45724e",
   "metadata": {},
   "outputs": [],
   "source": [
    "# Check all the keys\n",
    "Marks.keys()"
   ]
  },
  {
   "cell_type": "code",
   "execution_count": null,
   "id": "d00f0893",
   "metadata": {},
   "outputs": [],
   "source": [
    "# check all the items\n",
    "Marks.items()"
   ]
  },
  {
   "cell_type": "code",
   "execution_count": null,
   "id": "0338c0be",
   "metadata": {},
   "outputs": [],
   "source": [
    "# check all values\n",
    "Marks.values()"
   ]
  },
  {
   "cell_type": "code",
   "execution_count": null,
   "id": "dd5b9ee1",
   "metadata": {},
   "outputs": [],
   "source": [
    "# How to check Nitin's marks\n",
    "Marks[\"Nitin\"]"
   ]
  },
  {
   "cell_type": "code",
   "execution_count": null,
   "id": "1b12e949",
   "metadata": {},
   "outputs": [],
   "source": [
    "# How to check marks in one subject\n",
    "Marks[\"Nitin\"][\"eng\"]"
   ]
  },
  {
   "cell_type": "code",
   "execution_count": null,
   "id": "1ba03afe",
   "metadata": {},
   "outputs": [],
   "source": [
    "# how to check keys for particular student\n",
    "\n",
    "Marks[\"Nitin\"].keys()"
   ]
  },
  {
   "cell_type": "code",
   "execution_count": null,
   "id": "f09d91fa",
   "metadata": {},
   "outputs": [],
   "source": [
    "# how to check values for particular student\n",
    "\n",
    "Marks[\"Nitin\"].values()"
   ]
  },
  {
   "cell_type": "code",
   "execution_count": null,
   "id": "99647c40",
   "metadata": {},
   "outputs": [],
   "source": [
    "# Find the total marks of Nitin\n",
    "\n",
    "a={\"hnd\":45,\"eng\":59,\"maths\":75,\"sc\":80,\"sst\":65}\n",
    "b={\"hnd\":65,\"eng\":89,\"maths\":79,\"sc\":82,\"sst\":80}\n",
    "c={\"hnd\":55,\"eng\":79,\"maths\":80,\"sc\":75,\"sst\":74}\n",
    "d={\"hnd\":95,\"eng\":69,\"maths\":90,\"sc\":92,\"sst\":92}\n",
    "Marks={\"Nitin\":a,\"Prince\":b,\"Jatin\":c,\"Ravi\":d}\n",
    "\n",
    "x=Marks[\"Nitin\"].values()\n",
    "sum(x)"
   ]
  },
  {
   "cell_type": "code",
   "execution_count": null,
   "id": "64b15010",
   "metadata": {},
   "outputs": [],
   "source": [
    "# Find out Marks with input the user name\n",
    "\n",
    "user=str(input(\"enter the name :-\"))\n",
    "\n",
    "x=Marks[user].values()\n",
    "Total_Marks = sum(x)\n",
    "print(\"Total Marks of\",user,\"is\",Total_Marks)"
   ]
  },
  {
   "cell_type": "code",
   "execution_count": null,
   "id": "8f68232e",
   "metadata": {},
   "outputs": [],
   "source": [
    "# # Find out Marks with % input the user name\n",
    "\n",
    "user=str(input(\"enter the name :-\"))\n",
    "\n",
    "x=Marks[user].values()\n",
    "Total_Marks = sum(x)\n",
    "t = len(Marks[user].keys())\n",
    "per=Total_Marks/t\n",
    "print(\"Total number : 500\")\n",
    "print(\"Percentage :-\",per)\n",
    "print(\"Total number obtained is :-\",Total_Marks)"
   ]
  },
  {
   "cell_type": "code",
   "execution_count": null,
   "id": "50c07230",
   "metadata": {},
   "outputs": [],
   "source": [
    "# # Find out Division with % input the user name\n",
    "\n",
    "user=str(input(\"enter the name :-\"))\n",
    "\n",
    "x=Marks[user].values()\n",
    "Total_Marks = sum(x)\n",
    "t = len(Marks[user].keys())\n",
    "per=Total_Marks/t\n",
    "\n",
    "if per>=60:\n",
    "    div=\"First Division\"\n",
    "elif per>=45:\n",
    "    div=\"Second Division\"\n",
    "elif per>=33:\n",
    "    div=\"Third Division\"\n",
    "else:\n",
    "    div=\"Fail\"\n",
    "\n",
    "\n",
    "print(\"Total number : 500\")\n",
    "print(\"Percentage :-\",per)\n",
    "print(\"Total number obtained is :-\",Total_Marks)\n",
    "print(\"Division :-\",div)"
   ]
  },
  {
   "cell_type": "code",
   "execution_count": null,
   "id": "cac3f784",
   "metadata": {},
   "outputs": [],
   "source": [
    "# Roll no.\n",
    "a={\"hnd\":45,\"eng\":59,\"maths\":75,\"sc\":80,\"sst\":65}\n",
    "b={\"hnd\":65,\"eng\":89,\"maths\":79,\"sc\":82,\"sst\":80}\n",
    "c={\"hnd\":55,\"eng\":79,\"maths\":80,\"sc\":75,\"sst\":74}\n",
    "d={\"hnd\":95,\"eng\":69,\"maths\":90,\"sc\":92,\"sst\":92}\n",
    "Marks={\"Nitin\":a,\"Prince\":b,\"Jatin\":c,\"Ravi\":d}\n",
    "Roll_no={1:\"Nitin\",2:\"Prince\",3:\"Jatin\",4:\"Ravi\"}\n",
    "\n",
    "z=int(input(\"enter the Roll.no :-\"))\n",
    "name=Roll_no[z]\n",
    "x=Marks[name].values()\n",
    "Total_Marks = sum(x)\n",
    "t = len(Marks[user].keys())\n",
    "per=Total_Marks/t\n",
    "\n",
    "if per>=60:\n",
    "    div=\"First Division\"\n",
    "elif per>=45:\n",
    "    div=\"Second Division\"\n",
    "elif per>=33:\n",
    "    div=\"Third Division\"\n",
    "else:\n",
    "    div=\"Fail\"\n",
    "\n",
    "print(\"Student Name :-\",name)\n",
    "print(\"Total number : 500\")\n",
    "print(\"Percentage :-\",per)\n",
    "print(\"Total number obtained is :-\",Total_Marks)\n",
    "print(\"Division :-\",div)\n",
    "\n",
    "\n",
    "print(Roll_no)\n",
    "\n"
   ]
  },
  {
   "cell_type": "code",
   "execution_count": null,
   "id": "2590882c",
   "metadata": {},
   "outputs": [],
   "source": [
    "# Write a programe to create a dict with the help of user input\n",
    "#x={\"Name\":\"Prince sharma\",\"Age\":35,\"city\":\"Delhi\"}\n",
    "\n",
    "dic={}\n",
    "L=int(input(\"enter the length of dictionary :\"))\n",
    "for i in range(L):\n",
    "    key=(input(\"enter the key :-\"))\n",
    "    value=(input(\"enter the value :-\"))\n",
    "    dic[key] =value\n",
    "print(dic)\n"
   ]
  },
  {
   "cell_type": "code",
   "execution_count": null,
   "id": "1acb9fd0",
   "metadata": {},
   "outputs": [],
   "source": [
    "# convert the dictionary of values from key to values and values to key\n",
    "\n",
    "x={\"Name\":\"Prince sharma\",\"Age\":35,\"city\":\"Delhi\"}\n",
    "x1=x.copy()\n",
    "x.clear()\n",
    "for i,j in x1.items():\n",
    "    x[j]=i\n",
    "print(x)\n",
    "\n"
   ]
  },
  {
   "cell_type": "code",
   "execution_count": null,
   "id": "b0aa94d9",
   "metadata": {},
   "outputs": [],
   "source": [
    "# Write a programe to create a dict with the help of user input\n",
    "\n",
    "dic={}\n",
    "L=int(input(\"enter the Lengeth:\"))\n",
    "for i in range(L):\n",
    "    key=(input(\"Enter the key :\"))\n",
    "    value=(input(\"Enter the value :\"))\n",
    "    dic[key]=value\n",
    "print(dic)"
   ]
  },
  {
   "cell_type": "markdown",
   "id": "e5d36271",
   "metadata": {},
   "source": [
    "# 18th Feb 2024"
   ]
  },
  {
   "cell_type": "markdown",
   "id": "d282671b",
   "metadata": {},
   "source": [
    "## cheptor:- function in python \n",
    "\n",
    "\n",
    "1. What is function?\n",
    "  A function is a back of code which only runs when it is called.\n",
    "  You can pass data , known as perameter , into a function.\n",
    "  a functioncan return data a result.\n",
    "\n",
    "\n",
    " creating a  function \n",
    "  in pythoon  Function  is defined using the def keyboard:\n",
    "\n",
    "\n",
    "There are mainly two fuctions.\n",
    "\n",
    "1.  user defined function : the user  defined function user perform\n",
    "   the specific  task\n",
    "\n",
    "2.  Built in function :  the Built in function are those function that  are \n",
    "  predifinied in python"
   ]
  },
  {
   "cell_type": "markdown",
   "id": "5d071ca1",
   "metadata": {},
   "source": [
    "# Built in Funtion"
   ]
  },
  {
   "cell_type": "code",
   "execution_count": null,
   "id": "403d3864",
   "metadata": {},
   "outputs": [],
   "source": [
    "x=[15,30,45,75]\n",
    "sum(x)"
   ]
  },
  {
   "cell_type": "code",
   "execution_count": null,
   "id": "813f0e37",
   "metadata": {},
   "outputs": [],
   "source": [
    "x=[15,30,45,75]\n",
    "min(x)"
   ]
  },
  {
   "cell_type": "code",
   "execution_count": null,
   "id": "21e2ec56",
   "metadata": {},
   "outputs": [],
   "source": [
    "x=[15,30,45,75]\n",
    "max(x)"
   ]
  },
  {
   "cell_type": "markdown",
   "id": "0b954ead",
   "metadata": {},
   "source": [
    "# User Define Function"
   ]
  },
  {
   "cell_type": "code",
   "execution_count": null,
   "id": "19e99917",
   "metadata": {},
   "outputs": [],
   "source": [
    "# Creating the Function \n",
    "def table(x):\n",
    "    for i in range(1,11):\n",
    "        print(i*x)"
   ]
  },
  {
   "cell_type": "code",
   "execution_count": null,
   "id": "481698f2",
   "metadata": {},
   "outputs": [],
   "source": [
    "# Calling the Funtion \n",
    "table(5)"
   ]
  },
  {
   "cell_type": "code",
   "execution_count": null,
   "id": "04026ef2",
   "metadata": {},
   "outputs": [],
   "source": [
    "def nitin():     # Blank Parameter\n",
    "    print(\"Hello World\")"
   ]
  },
  {
   "cell_type": "code",
   "execution_count": null,
   "id": "ac25f7b6",
   "metadata": {},
   "outputs": [],
   "source": [
    "nitin()"
   ]
  },
  {
   "cell_type": "code",
   "execution_count": null,
   "id": "52709d01",
   "metadata": {},
   "outputs": [],
   "source": [
    "def nitin(x,y):     # with parameter\n",
    "    print(x+y)\n"
   ]
  },
  {
   "cell_type": "code",
   "execution_count": null,
   "id": "6b18020c",
   "metadata": {},
   "outputs": [],
   "source": [
    "nitin(12,13)"
   ]
  },
  {
   "cell_type": "code",
   "execution_count": null,
   "id": "f9764e51",
   "metadata": {},
   "outputs": [],
   "source": [
    "def nitin():\n",
    "    print(\"Ajmer is a clean city\")\n"
   ]
  },
  {
   "cell_type": "code",
   "execution_count": null,
   "id": "03ec1586",
   "metadata": {},
   "outputs": [],
   "source": [
    "nitin(\"My name is nitin\")   # cannot assign another parameter"
   ]
  },
  {
   "cell_type": "code",
   "execution_count": null,
   "id": "c467923c",
   "metadata": {},
   "outputs": [],
   "source": [
    "def nitin():\n",
    "    print(\"Ajmer is a clean city\")\n",
    "nitin()"
   ]
  },
  {
   "cell_type": "code",
   "execution_count": null,
   "id": "97b75a55",
   "metadata": {},
   "outputs": [],
   "source": [
    "def nitin(x=\"Hello World\"):    # Give parameter as x=\"Hello World\"\n",
    "    print(x)"
   ]
  },
  {
   "cell_type": "code",
   "execution_count": null,
   "id": "475bb0db",
   "metadata": {},
   "outputs": [],
   "source": [
    "nitin()"
   ]
  },
  {
   "cell_type": "code",
   "execution_count": null,
   "id": "44bf219d",
   "metadata": {},
   "outputs": [],
   "source": [
    "nitin(\"Ajmer is a clean city\")"
   ]
  },
  {
   "cell_type": "code",
   "execution_count": null,
   "id": "449c7a34",
   "metadata": {},
   "outputs": [],
   "source": [
    "def nitin(x,y,z):     # Function for addition\n",
    "    a = x + y + z\n",
    "    print(\"Addition :-\",a)\n",
    "nitin(45,75,25)"
   ]
  },
  {
   "cell_type": "code",
   "execution_count": null,
   "id": "37ebc2b4",
   "metadata": {},
   "outputs": [],
   "source": [
    "sum([45,75,25])     # 2nd Way for Addition"
   ]
  },
  {
   "cell_type": "code",
   "execution_count": null,
   "id": "4a285b03",
   "metadata": {},
   "outputs": [],
   "source": [
    "def nitin(x):\n",
    "    s=0\n",
    "    for i in x:\n",
    "        s+=i\n",
    "    print(s)\n"
   ]
  },
  {
   "cell_type": "code",
   "execution_count": null,
   "id": "e8383185",
   "metadata": {},
   "outputs": [],
   "source": [
    "x=[12,35,45,70]\n",
    "x"
   ]
  },
  {
   "cell_type": "code",
   "execution_count": null,
   "id": "543c8df2",
   "metadata": {},
   "outputs": [],
   "source": [
    "sum(x)  # Through Built in function"
   ]
  },
  {
   "cell_type": "code",
   "execution_count": null,
   "id": "b7dd2cae",
   "metadata": {},
   "outputs": [],
   "source": [
    "nitin(x)   # through user define function"
   ]
  },
  {
   "cell_type": "code",
   "execution_count": null,
   "id": "d660e377",
   "metadata": {},
   "outputs": [],
   "source": [
    "# Create a function to show the number is odd or even"
   ]
  },
  {
   "cell_type": "code",
   "execution_count": null,
   "id": "a8501eaf",
   "metadata": {},
   "outputs": [],
   "source": [
    "x=45    # Through Built in Function\n",
    "if x%2==0:\n",
    "    print(\"Even\")\n",
    "else:\n",
    "    print(\"odd\")"
   ]
  },
  {
   "cell_type": "code",
   "execution_count": null,
   "id": "8603eb07",
   "metadata": {},
   "outputs": [],
   "source": [
    "def check(x):  # Through user function\n",
    "    if x%2==0:\n",
    "        print(\"Even\")\n",
    "    else:\n",
    "        print(\"odd\")\n",
    "\n",
    "check(45)\n",
    "check(72)"
   ]
  },
  {
   "cell_type": "code",
   "execution_count": null,
   "id": "599b0c1d",
   "metadata": {},
   "outputs": [],
   "source": [
    "# Create a function to print to find out wheater text is odd or even\n",
    "\n",
    "def nitin(x):\n",
    "    L=(len(x))\n",
    "    if L%2==0:\n",
    "        print(\"even\")\n",
    "    else:\n",
    "        print(odd)\n",
    "\n",
    "\n",
    "nitin(\"Himachal\")"
   ]
  },
  {
   "cell_type": "code",
   "execution_count": null,
   "id": "409beb5a",
   "metadata": {},
   "outputs": [],
   "source": [
    "# Create a function to print the all even text from the string\n",
    "\n",
    "def even(x):\n",
    "    for i in range (len(x)):\n",
    "        if i%2==0:\n",
    "            print(x[i],end=\" \")\n",
    "x= \"Himanchal\"\n",
    "\n",
    "even(x)"
   ]
  },
  {
   "cell_type": "code",
   "execution_count": null,
   "id": "36fd7b8b",
   "metadata": {},
   "outputs": [],
   "source": [
    "# Create a function to count all the odd number\n",
    "\n",
    "\n",
    "def odd(x):\n",
    "    c=0\n",
    "    for i in x:\n",
    "        if i%2!=0:\n",
    "            c+=1\n",
    "    print(\"Total odd number :\", c)\n",
    "\n",
    "x=[1,4,5,7,8,9,6,5,4,2,1,5,98,7,5,6]\n",
    "odd(x)\n",
    "            \n",
    "    "
   ]
  },
  {
   "cell_type": "markdown",
   "id": "c187bc02",
   "metadata": {},
   "source": [
    "# 24 Feb 2024"
   ]
  },
  {
   "cell_type": "markdown",
   "id": "76a83aff",
   "metadata": {},
   "source": [
    "#default parameter"
   ]
  },
  {
   "cell_type": "code",
   "execution_count": null,
   "id": "1fe178fe",
   "metadata": {},
   "outputs": [],
   "source": [
    "def fun(a,b,c=0):     ### Create the function\n",
    "    d=a+b+c\n",
    "    print(\"addition :\",d)\n"
   ]
  },
  {
   "cell_type": "code",
   "execution_count": null,
   "id": "a4bdb8ad",
   "metadata": {},
   "outputs": [],
   "source": [
    "fun(45, 78)    ### Call the Function"
   ]
  },
  {
   "cell_type": "code",
   "execution_count": null,
   "id": "d699185d",
   "metadata": {},
   "outputs": [],
   "source": [
    "fun(45,55,65)"
   ]
  },
  {
   "cell_type": "code",
   "execution_count": null,
   "id": "cf552441",
   "metadata": {},
   "outputs": [],
   "source": [
    "# create a function to extract the first 3 alphabet from the text\n",
    "# and last three alphabet from the text\n",
    "\n",
    "def ex(a):\n",
    "    print(\"First 3 letter is :\", a[0:3])\n",
    "    print(\"Last 3 letter is :\", a[-3:])"
   ]
  },
  {
   "cell_type": "code",
   "execution_count": null,
   "id": "f269bcaa",
   "metadata": {},
   "outputs": [],
   "source": [
    "ex(\"India\")    ### call the function"
   ]
  },
  {
   "cell_type": "code",
   "execution_count": null,
   "id": "998efc8c",
   "metadata": {},
   "outputs": [],
   "source": [
    "# create a function to reverse the text\n",
    "\n",
    "def rev(a):\n",
    "    print(\"Reverse Text :\", a[-1: :-1])\n",
    "    \n",
    "    "
   ]
  },
  {
   "cell_type": "code",
   "execution_count": null,
   "id": "3575cf62",
   "metadata": {},
   "outputs": [],
   "source": [
    "rev(\"India\")"
   ]
  },
  {
   "cell_type": "code",
   "execution_count": null,
   "id": "76d0a4d7",
   "metadata": {},
   "outputs": [],
   "source": [
    "# Create a function to count the total number of alphabet \"i\" & \"l\"\n",
    "\n",
    "def co(x):\n",
    "    x = x.lower()\n",
    "    a=x.count(\"i\")\n",
    "    b=x.count(\"l\")\n",
    "    print(\"i :-\",a)\n",
    "    print(\"l :-\",b)"
   ]
  },
  {
   "cell_type": "code",
   "execution_count": null,
   "id": "b8cf0f97",
   "metadata": {},
   "outputs": [],
   "source": [
    "m=\"Hiiiiiimachall Pradesh\"\n",
    "n=\"arunachalllll Pradesh\"\n",
    "co(m)\n",
    "co(n)"
   ]
  },
  {
   "cell_type": "markdown",
   "id": "d7a0b9ef",
   "metadata": {},
   "source": [
    "# # Number of arguments\n",
    "\n",
    "By default , a function must be called with the correct number of arguments.\n",
    "Meaning that if your functione expects two argument, you have to call he function\n",
    "with argument,no more ,and not less\n"
   ]
  },
  {
   "cell_type": "markdown",
   "id": "20ad1026",
   "metadata": {},
   "source": [
    "# Arbitatry arguments, *args\n",
    "If you do not know how many arguments that will be passed into your function,\n",
    "add astrick * before the perameter name in the function definition.\n",
    "This way the function will receive a tuple of arguments, and can access the item in the index:\n"
   ]
  },
  {
   "cell_type": "code",
   "execution_count": null,
   "id": "1886a17f",
   "metadata": {},
   "outputs": [],
   "source": [
    "def abc(*x):\n",
    "    print(x[0])\n",
    "    print(x[1])\n",
    "    print(x[2])\n",
    "    print(x[3])\n",
    "    "
   ]
  },
  {
   "cell_type": "code",
   "execution_count": null,
   "id": "b26a39f7",
   "metadata": {},
   "outputs": [],
   "source": [
    "abc(45,55,32,\"Brillica\")"
   ]
  },
  {
   "cell_type": "code",
   "execution_count": null,
   "id": "945700ff",
   "metadata": {},
   "outputs": [],
   "source": [
    "def xy(*a):\n",
    "    print(a[0:])\n"
   ]
  },
  {
   "cell_type": "code",
   "execution_count": null,
   "id": "149facab",
   "metadata": {},
   "outputs": [],
   "source": [
    "xy(45,4564,454,321,)"
   ]
  },
  {
   "cell_type": "markdown",
   "id": "03dbdb62",
   "metadata": {},
   "source": [
    "# Keyword Arbitatry Arguments"
   ]
  },
  {
   "cell_type": "code",
   "execution_count": null,
   "id": "b34fc762",
   "metadata": {},
   "outputs": [],
   "source": [
    "# Keyword Argument\n",
    "# You can also send arguments with the key = value syntax\n",
    "# this way the order of the arguments does not matter"
   ]
  },
  {
   "cell_type": "code",
   "execution_count": null,
   "id": "6d9c35bf",
   "metadata": {},
   "outputs": [],
   "source": [
    "#without keyword parameter\n",
    "\n",
    "def x(Name,Age,Class):\n",
    "    print(\"My name is \", Name)\n",
    "    print(\"I am \", Class,\"with Maths honors\")\n",
    "    print(\"I am\", Age,\" year old\")\n",
    "x(Name=\"Nitin Singh\", Age=22, Class=\"Graduate\")"
   ]
  },
  {
   "cell_type": "code",
   "execution_count": null,
   "id": "0d77e6d0",
   "metadata": {},
   "outputs": [],
   "source": [
    "# with Keyword parameter\n",
    "def x(**a):\n",
    "    print(\"My name is \",a ['name'])\n",
    "    print(\"I am \", a['Class'],\"with Maths honors\")\n",
    "    print(\"I am\", a['Age'],\"year old\")"
   ]
  },
  {
   "cell_type": "code",
   "execution_count": null,
   "id": "73fb2c0b",
   "metadata": {},
   "outputs": [],
   "source": [
    "x(name=\"Nitin Singh\", Age=35, Class=\"Graduate\")"
   ]
  },
  {
   "cell_type": "code",
   "execution_count": null,
   "id": "d9d98d60",
   "metadata": {},
   "outputs": [],
   "source": [
    "# Create a function to extract the first alphabet from each text\n",
    "\n",
    "def ex(a):\n",
    "    for i in :\n",
    "        print(i[0])\n",
    "   "
   ]
  },
  {
   "cell_type": "code",
   "execution_count": null,
   "id": "969e56c7",
   "metadata": {},
   "outputs": [],
   "source": [
    "x=[\"apple\",\"banana\",\"grapes\", \"lichy\"]\n",
    "ex(x)\n"
   ]
  },
  {
   "cell_type": "markdown",
   "id": "1778239b",
   "metadata": {},
   "source": [
    "# Lambda Function :"
   ]
  },
  {
   "cell_type": "markdown",
   "id": "58ccbcc4",
   "metadata": {},
   "source": [
    "#* A Lambda function is a small anoynymous function\n",
    "\n",
    "#* A Lambda function ca take any number of arguments, but can only have one expression\n"
   ]
  },
  {
   "cell_type": "code",
   "execution_count": null,
   "id": "7c0b7a00",
   "metadata": {},
   "outputs": [],
   "source": [
    "x = lambda a,b:a+b"
   ]
  },
  {
   "cell_type": "code",
   "execution_count": null,
   "id": "c7ed150b",
   "metadata": {},
   "outputs": [],
   "source": [
    "x(45,45)"
   ]
  },
  {
   "cell_type": "code",
   "execution_count": null,
   "id": "2d61758a",
   "metadata": {},
   "outputs": [],
   "source": [
    "x=lambda a,b,c,d: a+b*c/d\n",
    "x(45,55,10,2)"
   ]
  },
  {
   "cell_type": "code",
   "execution_count": null,
   "id": "b58c78d8",
   "metadata": {},
   "outputs": [],
   "source": [
    "x=[12,45,89,78,89,56,23]\n",
    "y=lambda a : a%2==0\n",
    "list(filter(y,x))      # Filter Function - it pick value whenever value is True"
   ]
  },
  {
   "cell_type": "markdown",
   "id": "856d89ce",
   "metadata": {},
   "source": [
    "# 25th Feb 2024"
   ]
  },
  {
   "cell_type": "markdown",
   "id": "5e53c22c",
   "metadata": {},
   "source": [
    "# Exception Handlling"
   ]
  },
  {
   "cell_type": "markdown",
   "id": "aa91680c",
   "metadata": {},
   "source": [
    "* When an error occurs, or exception as we call it ,python will normally stop\n",
    "* and generate an error\n",
    "* message. these exceptions can be handled using the try statement:\n",
    "* the try block lets you test a block of code for errors.\n",
    "* the except block lets you handle the error.\n",
    "* the else block lets you execute code when there is no error.\n",
    "* the finally block lets  you execute code , regardless of the result of the \n",
    "* try -and except block."
   ]
  },
  {
   "cell_type": "markdown",
   "id": "7ae4e6c0",
   "metadata": {},
   "source": [
    "# TRY - the try block lets you test a block of code for errors. We create logic in Try.\n",
    "# EXCEPT - the except block lets you handle the error. Here, we write Threads or handle the Error.\n",
    "# ELSE - the else block lets you execute code when there is no error.\n",
    "# FINALLY - the finally block lets you execute code , regardless of the result of the try -and except block."
   ]
  },
  {
   "cell_type": "code",
   "execution_count": null,
   "id": "975dfe53",
   "metadata": {},
   "outputs": [],
   "source": [
    "try: \n",
    "    print(z) # we don't give any value but instead off error, system will print (\"enter the value\") \n",
    "except: \n",
    "    print(\"please enter value\")"
   ]
  },
  {
   "cell_type": "code",
   "execution_count": null,
   "id": "4c8b4228",
   "metadata": {},
   "outputs": [],
   "source": [
    "try: \n",
    "    z = 10\n",
    "    print(z) # when we enter value it will show the result\n",
    "except: \n",
    "    print(\"please enter value\")"
   ]
  },
  {
   "cell_type": "code",
   "execution_count": null,
   "id": "650d819e",
   "metadata": {},
   "outputs": [],
   "source": [
    "try:\n",
    "    print(x)     # when we don't enter value it will show error.\n",
    "    "
   ]
  },
  {
   "cell_type": "code",
   "execution_count": null,
   "id": "e982404c",
   "metadata": {},
   "outputs": [],
   "source": [
    "# Else :\n",
    "# when we don't place value.\n",
    "try:\n",
    "    print(a)\n",
    "except:\n",
    "    print(\"enter the value\")\n",
    "else:\n",
    "    (\"value is correct\")"
   ]
  },
  {
   "cell_type": "code",
   "execution_count": null,
   "id": "92cb375f",
   "metadata": {},
   "outputs": [],
   "source": [
    "# Else :\n",
    "# when we  place value.\n",
    "try:\n",
    "    a = 25\n",
    "    print(a+10)\n",
    "except:\n",
    "    print(\"enter the value\")\n",
    "else:\n",
    "    print(\"value is correct\")\n",
    "finally:     # It run try & except both\n",
    "    print(\"done\")"
   ]
  },
  {
   "cell_type": "code",
   "execution_count": null,
   "id": "07ee4cb3",
   "metadata": {},
   "outputs": [],
   "source": [
    "# Try & Except \n",
    "x=5000\n",
    "if x>3000\n",
    "print(\"True\")"
   ]
  },
  {
   "cell_type": "code",
   "execution_count": null,
   "id": "f3aae93a",
   "metadata": {},
   "outputs": [],
   "source": []
  },
  {
   "cell_type": "code",
   "execution_count": null,
   "id": "558549d5",
   "metadata": {},
   "outputs": [],
   "source": []
  },
  {
   "cell_type": "code",
   "execution_count": null,
   "id": "958bb66c",
   "metadata": {},
   "outputs": [],
   "source": []
  },
  {
   "cell_type": "code",
   "execution_count": null,
   "id": "436f6565",
   "metadata": {},
   "outputs": [],
   "source": []
  },
  {
   "cell_type": "code",
   "execution_count": null,
   "id": "49447798",
   "metadata": {},
   "outputs": [],
   "source": []
  },
  {
   "cell_type": "code",
   "execution_count": null,
   "id": "a95a7c6d",
   "metadata": {},
   "outputs": [],
   "source": []
  },
  {
   "cell_type": "code",
   "execution_count": null,
   "id": "d1d62103",
   "metadata": {},
   "outputs": [],
   "source": []
  },
  {
   "cell_type": "code",
   "execution_count": null,
   "id": "f542ae9d",
   "metadata": {},
   "outputs": [],
   "source": []
  },
  {
   "cell_type": "markdown",
   "id": "4990e7d6",
   "metadata": {},
   "source": [
    "# 02 March 2023"
   ]
  },
  {
   "cell_type": "code",
   "execution_count": null,
   "id": "0de02d84",
   "metadata": {},
   "outputs": [],
   "source": [
    "x =[1,2,3,4]\n",
    "y=[\"One\",\"Two\",\"Three\",\"Four\"]\n",
    "for i in (x,y):\n",
    "    for j in i:\n",
    "        print(j)\n"
   ]
  },
  {
   "cell_type": "markdown",
   "id": "75cf60a7",
   "metadata": {},
   "source": [
    "# Zip Function"
   ]
  },
  {
   "cell_type": "markdown",
   "id": "a58b4ad9",
   "metadata": {},
   "source": [
    "# Zip - it is use to join two or more than two container in list, tuple and dictionary. "
   ]
  },
  {
   "cell_type": "code",
   "execution_count": null,
   "id": "449d31ea",
   "metadata": {},
   "outputs": [],
   "source": [
    "# Print \"Four\" if we i = 4 from List\n",
    "x =[1,2,3,4]\n",
    "y=[\"One\",\"Two\",\"Three\",\"Four\"]\n",
    "z=zip(x,y)\n",
    "for i,j in z:\n",
    "    if i==4:\n",
    "        print(j)\n",
    "  "
   ]
  },
  {
   "cell_type": "code",
   "execution_count": null,
   "id": "f7c7d51e",
   "metadata": {},
   "outputs": [],
   "source": [
    "# Print \"Four\" if we i = 4 from dictionary \n",
    "\n",
    "dic={1:\"One\",2:\"Two\",3:\"Three\"}\n",
    "for i,j in dic.items():\n",
    "    if i==3:\n",
    "        print(j)\n",
    "    "
   ]
  },
  {
   "cell_type": "code",
   "execution_count": null,
   "id": "9556fda5",
   "metadata": {},
   "outputs": [],
   "source": [
    "# Convert List into Dictionary\n",
    "x =[1,2,3,4]\n",
    "y=[\"One\",\"Two\",\"Three\",\"Four\"]\n",
    "dict(zip(x,y))\n",
    "\n"
   ]
  },
  {
   "cell_type": "code",
   "execution_count": null,
   "id": "9faffdca",
   "metadata": {},
   "outputs": [],
   "source": [
    "# how to zip 3 lists.\n",
    "\n",
    "x =[1,2,3,4]\n",
    "y=[\"One\",\"Two\",\"Three\",\"Four\"]\n",
    "z=[\"i\",\"ii\",\"iii\",\"iv\"]\n",
    "a= list(zip(x,y,z))\n",
    "print(a)"
   ]
  },
  {
   "cell_type": "code",
   "execution_count": null,
   "id": "a8ce3bc6",
   "metadata": {},
   "outputs": [],
   "source": [
    "x =[1,2,3,4]\n",
    "y=[\"One\",\"Two\",\"Three\",\"Four\"]\n",
    "z=[\"i\",\"ii\",\"iii\",\"iv\"]\n",
    "a= list(zip(x,y,z))\n",
    "for i,*j in a:      # *j (it assign all remaining value in J and 1st value place under i )\n",
    "    print(i,j)"
   ]
  },
  {
   "cell_type": "markdown",
   "id": "d6f76de3",
   "metadata": {},
   "source": [
    "# Oops"
   ]
  },
  {
   "cell_type": "markdown",
   "id": "571e87b0",
   "metadata": {},
   "source": [
    "oops :- oops object oriented programings\n",
    "\n",
    " \n",
    "* A class is an objeective oriented programming , almost everything is python is an objective with its properties and methods.\n",
    "* A class like an objecte constroctor or a \"blue print\" for creating an object \n",
    "* objects are related to real wntities such as phone , mobile car extract\n",
    "* Major principeles of objects oriented prograamming\n",
    "\n",
    "\n",
    "1. Class\n",
    "2. objects\n",
    "3. methods\n",
    "4. inheritance\n",
    "5. polymorphism\n",
    "6. Data abstraction\n",
    "7. Encapsulation.m"
   ]
  },
  {
   "cell_type": "code",
   "execution_count": null,
   "id": "d5dfdc76",
   "metadata": {},
   "outputs": [],
   "source": [
    "class A():\n",
    "    print(\"Hello World\")"
   ]
  },
  {
   "cell_type": "code",
   "execution_count": null,
   "id": "d4c1ca4b",
   "metadata": {},
   "outputs": [],
   "source": [
    "class A():\n",
    "    x=10\n",
    "    y=20\n",
    "    z=x+y"
   ]
  },
  {
   "cell_type": "code",
   "execution_count": null,
   "id": "b07e81ba",
   "metadata": {},
   "outputs": [],
   "source": [
    "b=A()\n",
    "print(b.z)"
   ]
  },
  {
   "cell_type": "code",
   "execution_count": null,
   "id": "347f3086",
   "metadata": {},
   "outputs": [],
   "source": [
    "## Two Def function in one class function \n",
    "\n",
    "class B:\n",
    "    def fun(self,x,y):   # Always use self function for 2 def function.\n",
    "        self.x = x\n",
    "        self.y = y\n",
    "        self.z = x+y\n",
    "    def fun2(self,a,b):\n",
    "        self.a = a\n",
    "        self.b = b\n",
    "        self.c = a+b\n",
    "        "
   ]
  },
  {
   "cell_type": "code",
   "execution_count": null,
   "id": "4e4a8b28",
   "metadata": {},
   "outputs": [],
   "source": [
    "c = B()     # First call the class"
   ]
  },
  {
   "cell_type": "code",
   "execution_count": null,
   "id": "527b45a3",
   "metadata": {},
   "outputs": [],
   "source": [
    "c.fun(45,75)   # call the function with parameter\n",
    "print(c.z)    # print the value of function with class object"
   ]
  },
  {
   "cell_type": "code",
   "execution_count": null,
   "id": "ed844e8f",
   "metadata": {},
   "outputs": [],
   "source": [
    "# 3 Function in 1 class\n",
    "\n",
    "class parent():\n",
    "    def add (nitin,a,b):\n",
    "        nitin.a = a\n",
    "        nitin.b = b\n",
    "        nitin.c = a+b\n",
    "    def sub (nitin,d,e):\n",
    "        nitin.d = d\n",
    "        nitin.e = e\n",
    "        nitin.f = d-e\n",
    "    def exp (nitin,g,h):\n",
    "        nitin.g = g\n",
    "        nitin.h = h\n",
    "        nitin.i = g**h\n",
    "    "
   ]
  },
  {
   "cell_type": "code",
   "execution_count": null,
   "id": "f4d6e5d7",
   "metadata": {},
   "outputs": [],
   "source": [
    "p = parent()   # call the class"
   ]
  },
  {
   "cell_type": "code",
   "execution_count": null,
   "id": "8aa93a3e",
   "metadata": {},
   "outputs": [],
   "source": [
    "p.add(12,25)   # entring parameter\n",
    "p.sub(89,78)    # entring parameter\n",
    "p.exp(5,3)     # entring parameter"
   ]
  },
  {
   "cell_type": "code",
   "execution_count": null,
   "id": "0d76290d",
   "metadata": {},
   "outputs": [],
   "source": [
    "print(p.c)"
   ]
  },
  {
   "cell_type": "code",
   "execution_count": null,
   "id": "57c20d09",
   "metadata": {},
   "outputs": [],
   "source": [
    "print(p.i)"
   ]
  },
  {
   "cell_type": "code",
   "execution_count": null,
   "id": "d7317d2e",
   "metadata": {},
   "outputs": [],
   "source": [
    "print(p.f)"
   ]
  },
  {
   "cell_type": "markdown",
   "id": "f07b5db4",
   "metadata": {},
   "source": [
    "# 03 March 2024"
   ]
  },
  {
   "cell_type": "markdown",
   "id": "64d8b7b0",
   "metadata": {},
   "source": [
    "# OOPS - Object Oriented Programing"
   ]
  },
  {
   "cell_type": "markdown",
   "id": "6080f66a",
   "metadata": {},
   "source": [
    "# Inheritance\n",
    "1. Single Inheritance\n",
    "2. Multiple Inheritance\n",
    "3. Hybrid Inheritance\n",
    "4. Multilevel Inheritance"
   ]
  },
  {
   "cell_type": "code",
   "execution_count": null,
   "id": "f7b7fc72",
   "metadata": {},
   "outputs": [],
   "source": [
    "# 1 class with multiple function\n",
    "class A():       # Program\n",
    "    def rev(self,x):\n",
    "        self.x = x\n",
    "        self.y = x[-1::-1]\n",
    "    \n",
    "    def cap(self,z):\n",
    "        self.z = z\n",
    "        self.m = z.upper()\n",
    "        "
   ]
  },
  {
   "cell_type": "code",
   "execution_count": null,
   "id": "3f4038b1",
   "metadata": {},
   "outputs": [],
   "source": [
    "c = A()      # call the class\n",
    "c.rev(\"akansha\")  # enter the parameter\n",
    "c.cap(\"nitin\")    # enter the parameter"
   ]
  },
  {
   "cell_type": "code",
   "execution_count": null,
   "id": "be9e2c5c",
   "metadata": {},
   "outputs": [],
   "source": [
    "print(\"Reverse the text :\",c.y)\n",
    "print(\"Capital letter text :\", c.m)"
   ]
  },
  {
   "cell_type": "code",
   "execution_count": null,
   "id": "ab4e1c6f",
   "metadata": {},
   "outputs": [],
   "source": [
    "# Single Inheritance - one class inherited in 2nd class\n",
    "\n",
    "class A():\n",
    "    def table(self,x):\n",
    "        self.x = x\n",
    "        for i in range(1,11):\n",
    "            print(f\"{i} X {x} = {i*x}\")    # f \"\" - This function use jf need to type multiple \"\".\n",
    "\n",
    "class B(A):\n",
    "    def even(self,y):\n",
    "        self.y = y\n",
    "        for i in range(y):\n",
    "            if i%2==0:\n",
    "                print(\"Even Number :\",i)"
   ]
  },
  {
   "cell_type": "code",
   "execution_count": null,
   "id": "2ebb1bfa",
   "metadata": {},
   "outputs": [],
   "source": [
    "c= B()    # call the 2nd class"
   ]
  },
  {
   "cell_type": "code",
   "execution_count": null,
   "id": "511646fd",
   "metadata": {},
   "outputs": [],
   "source": [
    "c.table(5)\n",
    "c.even(20)"
   ]
  },
  {
   "cell_type": "markdown",
   "id": "e0405116",
   "metadata": {},
   "source": [
    "  __init__ Function : its call the function without the function name. "
   ]
  },
  {
   "cell_type": "code",
   "execution_count": null,
   "id": "04f99b68",
   "metadata": {},
   "outputs": [],
   "source": [
    "# __init__ Function:\n",
    "\n",
    "class A():\n",
    "    def __init__(self,x,y):\n",
    "        self.x = x\n",
    "        self.y = y\n",
    "        self.z = x % y"
   ]
  },
  {
   "cell_type": "code",
   "execution_count": null,
   "id": "26b07d4e",
   "metadata": {},
   "outputs": [],
   "source": [
    "c = A(89,15)\n",
    "print (\"Modules : \",c.z)"
   ]
  },
  {
   "cell_type": "code",
   "execution_count": null,
   "id": "a7a06075",
   "metadata": {},
   "outputs": [],
   "source": [
    "# Single Inheritance with multiple function\n",
    "\n",
    "class A():\n",
    "    def __init__(self,name):\n",
    "        self.name = name\n",
    "\n",
    "class B():\n",
    "    def __init__(self,name,age):\n",
    "        A.__init__(self,name)\n",
    "        self.name = name\n",
    "        self.age = age\n",
    "        \n",
    "        print(\"My name is :\", name)\n",
    "        print(\"I am\", age, \"years old\")"
   ]
  },
  {
   "cell_type": "code",
   "execution_count": null,
   "id": "3405fb19",
   "metadata": {},
   "outputs": [],
   "source": [
    "c = B(\"Nitin Singh\", 24)"
   ]
  },
  {
   "cell_type": "markdown",
   "id": "de39380c",
   "metadata": {},
   "source": [
    "# Multiple Inheritance"
   ]
  },
  {
   "cell_type": "markdown",
   "id": "f7539736",
   "metadata": {},
   "source": [
    "1st class inheritant in 2nd class then 2nd class inheritant in 3rd class."
   ]
  },
  {
   "cell_type": "code",
   "execution_count": null,
   "id": "724e9bb0",
   "metadata": {},
   "outputs": [],
   "source": [
    "class A():\n",
    "    def first(self,x):\n",
    "        self.x = x\n",
    "        print(\"Name : \",x)\n",
    "    \n",
    "class B(A):\n",
    "    def second(self,y):\n",
    "        self.y = y\n",
    "        print(\"Age  : \",y)\n",
    "    \n",
    "class C(B):\n",
    "    def third(self,z):\n",
    "        self.z = z\n",
    "        print(\"City : \",z)"
   ]
  },
  {
   "cell_type": "code",
   "execution_count": null,
   "id": "da8a2b1f",
   "metadata": {},
   "outputs": [],
   "source": [
    "c = C()\n",
    "c.first(\"Viart kohli\")\n",
    "c.second(35)\n",
    "c.third(\"Delhi\")"
   ]
  },
  {
   "cell_type": "markdown",
   "id": "36c5d3bd",
   "metadata": {},
   "source": [
    "# Hybrid Inheritance"
   ]
  },
  {
   "cell_type": "markdown",
   "id": "26fa75cb",
   "metadata": {},
   "source": [
    "  1st & 2nd class put in class 3rd"
   ]
  },
  {
   "cell_type": "code",
   "execution_count": null,
   "id": "6de03863",
   "metadata": {},
   "outputs": [],
   "source": [
    "class A():\n",
    "    def first(self,x):\n",
    "        self.x = x\n",
    "        print(\"Name : \",x)\n",
    "    \n",
    "class B():\n",
    "    def second(self,y):\n",
    "        self.y = y\n",
    "        print(\"Age  : \",y)\n",
    "    \n",
    "class C(A,B):\n",
    "    def third(self,z):\n",
    "        self.z = z\n",
    "        print(\"City : \",z)"
   ]
  },
  {
   "cell_type": "code",
   "execution_count": null,
   "id": "d2d1e17b",
   "metadata": {},
   "outputs": [],
   "source": [
    "c = C()\n",
    "c.first(\"Viart kohli\")\n",
    "c.second(35)\n",
    "c.third(\"Delhi\")"
   ]
  },
  {
   "cell_type": "code",
   "execution_count": null,
   "id": "da3067c9",
   "metadata": {},
   "outputs": [],
   "source": [
    "#  Hybrid Inheritance with __init__ Function :\n",
    "\n",
    "class First():\n",
    "    def __init__(self,a):\n",
    "        self.a = a\n",
    "\n",
    "class Second():\n",
    "    def __init__(self,b):\n",
    "        self.b = b\n",
    "        \n",
    "class third(First,Second):\n",
    "    def __init__(self,a,b,c):\n",
    "        First.__init__(self,a)\n",
    "        Second.__init__(self,b)\n",
    "        self.c = c\n",
    "        \n",
    "        print(\"name :\",a)\n",
    "        print(\"age :\",b)\n",
    "        print(\"City :\",c)\n",
    "        "
   ]
  },
  {
   "cell_type": "code",
   "execution_count": null,
   "id": "657df47b",
   "metadata": {},
   "outputs": [],
   "source": [
    "k = third(\"Rohit sharma\",38,\"Mumbai\")"
   ]
  },
  {
   "cell_type": "markdown",
   "id": "bc81e624",
   "metadata": {},
   "source": [
    "# 09 March 2023"
   ]
  },
  {
   "cell_type": "markdown",
   "id": "f4c90191",
   "metadata": {},
   "source": [
    "# Numpy - Numerical Python"
   ]
  },
  {
   "cell_type": "markdown",
   "id": "6d1d7f9a",
   "metadata": {},
   "source": [
    "what is numpy?\n",
    "\n",
    "* Numpy stand for numerical python. Numpy is python library used for working with array.\n",
    "1. NumPy is a Python library.\n",
    "2. NumPy is used for working with arrays.\n",
    "3. NumPy is short for \"Numerical Python\"."
   ]
  },
  {
   "cell_type": "code",
   "execution_count": null,
   "id": "1a16ce00",
   "metadata": {},
   "outputs": [],
   "source": [
    "# How to install Python Library numpy\n",
    "\n",
    "#  !pip install numpy"
   ]
  },
  {
   "cell_type": "code",
   "execution_count": null,
   "id": "4bf54ffb",
   "metadata": {},
   "outputs": [],
   "source": [
    "import numpy\n",
    "x = numpy.array([15,23,40])\n",
    "x"
   ]
  },
  {
   "cell_type": "code",
   "execution_count": null,
   "id": "2a290c90",
   "metadata": {},
   "outputs": [],
   "source": [
    "# what is the key difference between list and array\n",
    "\n",
    "# 1. array is faster than List\n",
    "# 2. Here is 100+ formula for mathematics\n",
    "# 3. Here i can add or change the dimention of the array\n",
    "# 4. In array we can create matrix easly"
   ]
  },
  {
   "cell_type": "code",
   "execution_count": null,
   "id": "f9915f7d",
   "metadata": {},
   "outputs": [],
   "source": [
    "# Creating a numpy array\n",
    "# In numpy most powerful data type is string.\n",
    "\n",
    "x = numpy.array([\"data\",45.56,50,True])  # \n",
    "print(x)"
   ]
  },
  {
   "cell_type": "code",
   "execution_count": null,
   "id": "8b046bf5",
   "metadata": {},
   "outputs": [],
   "source": [
    "x = numpy.array([[\"data\",45.56,50,True]])  # \n",
    "print(x)\n",
    "print(x.dtype)\n",
    "print(type(x))\n",
    "print(x.ndim)"
   ]
  },
  {
   "cell_type": "code",
   "execution_count": null,
   "id": "82ba467f",
   "metadata": {},
   "outputs": [],
   "source": [
    "#nd = Number of Dimention"
   ]
  },
  {
   "cell_type": "code",
   "execution_count": null,
   "id": "a362f879",
   "metadata": {},
   "outputs": [],
   "source": [
    "# Dimentions :- Dimention is the total NUmber of List in a Array\n",
    "# Dimention :- it is a combination of row and column\n",
    "# dtype   :- its show the data type of array\n",
    "# shape  :- is show the shape total number of row and column\n",
    "# len :- its show the length of the array\n",
    "# ndim :- its show the number of Dimention of the array\n",
    "# type :- its show the type of the array"
   ]
  },
  {
   "cell_type": "code",
   "execution_count": null,
   "id": "68746804",
   "metadata": {},
   "outputs": [],
   "source": [
    "# 2nd most powerful data type is Complex\n",
    "x = numpy.array([45.56,50,True, 21j])\n",
    "x\n",
    "x.dtype"
   ]
  },
  {
   "cell_type": "code",
   "execution_count": null,
   "id": "d3d1deb6",
   "metadata": {},
   "outputs": [],
   "source": [
    "# 3rd most powerful data type is float\n",
    "import numpy as np\n",
    "x = np.array([45.56,50,True])\n",
    "print(x)\n",
    "x.dtype"
   ]
  },
  {
   "cell_type": "code",
   "execution_count": null,
   "id": "609721b5",
   "metadata": {},
   "outputs": [],
   "source": [
    "# 1. Strings : U64 or U32\n",
    "# 2. Complex\n",
    "# 3. Float\n",
    "# 4. Integar : - int32 or int64\n",
    "# 5. Boolen\n"
   ]
  },
  {
   "cell_type": "code",
   "execution_count": null,
   "id": "03329451",
   "metadata": {},
   "outputs": [],
   "source": [
    "import numpy as np\n",
    "x = np.array([[[4,5,6],[7,8,4],[1,2,3]]])\n",
    "print(x)\n",
    "print(\"Total number of Row & Column :- \", x.shape)\n",
    "print(x.ndim)     # its show the total number of list"
   ]
  },
  {
   "cell_type": "code",
   "execution_count": null,
   "id": "764aeb3a",
   "metadata": {},
   "outputs": [],
   "source": [
    "x.dtype"
   ]
  },
  {
   "cell_type": "code",
   "execution_count": null,
   "id": "ecda2255",
   "metadata": {},
   "outputs": [],
   "source": [
    "# arrange Function : its create a array with range of sequence number"
   ]
  },
  {
   "cell_type": "code",
   "execution_count": null,
   "id": "6c5ff937",
   "metadata": {},
   "outputs": [],
   "source": [
    "# create a array from 1 to 20\n",
    "\n",
    "x= np.arange(1,21)\n",
    "x"
   ]
  },
  {
   "cell_type": "code",
   "execution_count": null,
   "id": "322b057f",
   "metadata": {},
   "outputs": [],
   "source": [
    "# range(starting point, ending point, step size)\n",
    "# arange(starting point, ending point, step size)\n"
   ]
  },
  {
   "cell_type": "code",
   "execution_count": null,
   "id": "b2c093d1",
   "metadata": {},
   "outputs": [],
   "source": [
    "x = np.arange(1,21,2)\n",
    "print(x)"
   ]
  },
  {
   "cell_type": "code",
   "execution_count": null,
   "id": "446bc676",
   "metadata": {},
   "outputs": [],
   "source": [
    "# How to create a metrix\n",
    "\n",
    "# 3 x 3\n"
   ]
  },
  {
   "cell_type": "code",
   "execution_count": null,
   "id": "cc9daab9",
   "metadata": {},
   "outputs": [],
   "source": [
    "x = np.array([[1,2,3],[4,5,6],[7,8,9]])\n",
    "print(x)"
   ]
  },
  {
   "cell_type": "code",
   "execution_count": null,
   "id": "259893c1",
   "metadata": {},
   "outputs": [],
   "source": [
    "x = np.array([[1,2,3],[4,5,6],[7,8,9]])\n",
    "x.shape   # Shape - provide rows & col. count\n"
   ]
  },
  {
   "cell_type": "code",
   "execution_count": null,
   "id": "c068083c",
   "metadata": {},
   "outputs": [],
   "source": [
    "x.ndim"
   ]
  },
  {
   "cell_type": "code",
   "execution_count": null,
   "id": "7d463514",
   "metadata": {},
   "outputs": [],
   "source": [
    "type(x)"
   ]
  },
  {
   "cell_type": "code",
   "execution_count": null,
   "id": "a9b74043",
   "metadata": {},
   "outputs": [],
   "source": [
    "len(x)"
   ]
  },
  {
   "cell_type": "code",
   "execution_count": null,
   "id": "1179015c",
   "metadata": {},
   "outputs": [],
   "source": [
    "x.size"
   ]
  },
  {
   "cell_type": "code",
   "execution_count": null,
   "id": "40217709",
   "metadata": {},
   "outputs": [],
   "source": [
    "x = [[1,2,3],[4,5,6],[7,8,9]]\n",
    "print(x)\n",
    "len(x)"
   ]
  },
  {
   "cell_type": "code",
   "execution_count": null,
   "id": "fa4ffee6",
   "metadata": {},
   "outputs": [],
   "source": [
    "# create a dimention of 10 array\n",
    "\n",
    "x = np.array([1,2,3],ndmin = 10)\n",
    "print(x)"
   ]
  },
  {
   "cell_type": "code",
   "execution_count": null,
   "id": "344a02ac",
   "metadata": {},
   "outputs": [],
   "source": [
    "# create a dimention of 20 array\n",
    "\n",
    "x = np.array([1,2,3],ndmin = 20)\n",
    "print(x)"
   ]
  },
  {
   "cell_type": "code",
   "execution_count": null,
   "id": "c6af130f",
   "metadata": {},
   "outputs": [],
   "source": [
    "# ndmin : - parameter of array\n",
    "# its create dimention is array according to user\n"
   ]
  },
  {
   "cell_type": "code",
   "execution_count": null,
   "id": "04ff9dc4",
   "metadata": {},
   "outputs": [],
   "source": [
    "x = np.arange(10)\n",
    "print(x)"
   ]
  },
  {
   "cell_type": "code",
   "execution_count": null,
   "id": "ccd3302a",
   "metadata": {},
   "outputs": [],
   "source": [
    "# reshape function : its provide the shape of any array in matrix"
   ]
  },
  {
   "cell_type": "code",
   "execution_count": null,
   "id": "973c57fc",
   "metadata": {},
   "outputs": [],
   "source": [
    "# 10\n",
    "\n",
    "# 2x 5\n",
    "# 5 x 2\n",
    "# 1 x 10\n",
    "# 10 x 1"
   ]
  },
  {
   "cell_type": "code",
   "execution_count": null,
   "id": "7d220856",
   "metadata": {},
   "outputs": [],
   "source": [
    "x = np.arange(10)\n",
    "x"
   ]
  },
  {
   "cell_type": "code",
   "execution_count": null,
   "id": "75d31b62",
   "metadata": {},
   "outputs": [],
   "source": [
    "x.reshape(5,2)"
   ]
  },
  {
   "cell_type": "code",
   "execution_count": null,
   "id": "9742b0b8",
   "metadata": {},
   "outputs": [],
   "source": [
    "x.reshape(2,5)"
   ]
  },
  {
   "cell_type": "code",
   "execution_count": null,
   "id": "26987765",
   "metadata": {},
   "outputs": [],
   "source": [
    "x.reshape(1,10)"
   ]
  },
  {
   "cell_type": "code",
   "execution_count": null,
   "id": "f763f296",
   "metadata": {},
   "outputs": [],
   "source": [
    "x.reshape(10,1)"
   ]
  },
  {
   "cell_type": "code",
   "execution_count": null,
   "id": "c149b6cb",
   "metadata": {},
   "outputs": [],
   "source": [
    "x = np.arange(20,60)\n",
    "x"
   ]
  },
  {
   "cell_type": "code",
   "execution_count": null,
   "id": "ad08632d",
   "metadata": {},
   "outputs": [],
   "source": [
    "x.size"
   ]
  },
  {
   "cell_type": "code",
   "execution_count": null,
   "id": "d331bc16",
   "metadata": {},
   "outputs": [],
   "source": [
    "    # 4 x 5\n",
    "    # 5 x 4"
   ]
  },
  {
   "cell_type": "code",
   "execution_count": null,
   "id": "d49d6f82",
   "metadata": {},
   "outputs": [],
   "source": [
    "x.reshape(2,4,5)  # reshape (no_metrics,rows,columns)\n"
   ]
  },
  {
   "cell_type": "markdown",
   "id": "018b9e2f",
   "metadata": {},
   "source": [
    "# 10 March 2024"
   ]
  },
  {
   "cell_type": "markdown",
   "id": "369df32e",
   "metadata": {},
   "source": [
    "#numpy\n",
    "\n",
    "* array\n",
    "* size\n",
    "* len\n",
    "* dtype\n",
    "* ndim\n",
    "* arange\n",
    "* reshape\n",
    "* ndmin"
   ]
  },
  {
   "cell_type": "code",
   "execution_count": null,
   "id": "1be90222",
   "metadata": {},
   "outputs": [],
   "source": [
    "# Create 3D array\n",
    "# 2D array"
   ]
  },
  {
   "cell_type": "code",
   "execution_count": null,
   "id": "1ff862e3",
   "metadata": {},
   "outputs": [],
   "source": [
    "import numpy as np\n",
    "x = np.array([[12,45,78,89,56]])\n",
    "print(x)"
   ]
  },
  {
   "cell_type": "code",
   "execution_count": null,
   "id": "25469e38",
   "metadata": {},
   "outputs": [],
   "source": [
    "x.ndim"
   ]
  },
  {
   "cell_type": "code",
   "execution_count": null,
   "id": "e2cb350b",
   "metadata": {},
   "outputs": [],
   "source": [
    "x.size"
   ]
  },
  {
   "cell_type": "code",
   "execution_count": null,
   "id": "4849b410",
   "metadata": {},
   "outputs": [],
   "source": [
    "len(x)"
   ]
  },
  {
   "cell_type": "code",
   "execution_count": null,
   "id": "df005bc6",
   "metadata": {},
   "outputs": [],
   "source": [
    "# Arange\n",
    "x=np.arange(1,11)\n",
    "x"
   ]
  },
  {
   "cell_type": "code",
   "execution_count": null,
   "id": "d7f76e49",
   "metadata": {},
   "outputs": [],
   "source": [
    "# Indexing & Slicing in array\n",
    "\n",
    "# Indexing - extract the one text or number at a time.\n",
    "# Slicing - extract the range of caracter or number at a time. \n",
    "\n"
   ]
  },
  {
   "cell_type": "code",
   "execution_count": null,
   "id": "41448687",
   "metadata": {},
   "outputs": [],
   "source": [
    "# Indxing\n",
    "x = np.array([1,4,7,8,5,2])\n",
    "x[1]"
   ]
  },
  {
   "cell_type": "code",
   "execution_count": null,
   "id": "4d2e4ea4",
   "metadata": {},
   "outputs": [],
   "source": [
    "x = np.array([[[[45,78,89]]]])\n",
    "x"
   ]
  },
  {
   "cell_type": "code",
   "execution_count": null,
   "id": "97662d18",
   "metadata": {},
   "outputs": [],
   "source": [
    "# extract 45 from this array  - 1st Methord\n",
    "x = np.array([[[[45,78,89]]]])\n",
    "x[0][0][0][0]"
   ]
  },
  {
   "cell_type": "code",
   "execution_count": null,
   "id": "f34683d0",
   "metadata": {},
   "outputs": [],
   "source": [
    "# extract 78 from this array  - 2nd Methord\n",
    "x = np.array([[[[45,78,89]]]])\n",
    "x[0,0,0,1]"
   ]
  },
  {
   "cell_type": "code",
   "execution_count": null,
   "id": "6b9fde61",
   "metadata": {},
   "outputs": [],
   "source": [
    "# extract 45,78 from this array\n",
    "x = np.array([[[45,78,89,56,23]]])\n",
    "x[0,0,0:2]"
   ]
  },
  {
   "cell_type": "code",
   "execution_count": null,
   "id": "94b8c9ee",
   "metadata": {},
   "outputs": [],
   "source": [
    "# Extract 45,89,23 with setp size 2\n",
    "x = np.array([[[45,78,89,56,23]]])   \n",
    "x[0,0,0:5:2]       # step size 2"
   ]
  },
  {
   "cell_type": "code",
   "execution_count": null,
   "id": "5ca07eb2",
   "metadata": {},
   "outputs": [],
   "source": [
    "# Extract the these Number\n",
    "# 45\n",
    "# 12\n",
    "# 56\n",
    "# [45,89]\n",
    "# [56,89]"
   ]
  },
  {
   "cell_type": "code",
   "execution_count": null,
   "id": "87081309",
   "metadata": {},
   "outputs": [],
   "source": [
    "x = np.array([[[[12,45,89,56]]]])\n",
    "x[0,0,0,1]"
   ]
  },
  {
   "cell_type": "code",
   "execution_count": null,
   "id": "d8c0aa4d",
   "metadata": {},
   "outputs": [],
   "source": [
    "x = np.array([[[[12,45,89,56]]]])\n",
    "x[0,0,0,0]"
   ]
  },
  {
   "cell_type": "code",
   "execution_count": null,
   "id": "9408e490",
   "metadata": {},
   "outputs": [],
   "source": [
    "x = np.array([[[[12,45,89,56]]]])\n",
    "x[0,0,0,3]"
   ]
  },
  {
   "cell_type": "code",
   "execution_count": null,
   "id": "d944bd9e",
   "metadata": {},
   "outputs": [],
   "source": [
    "# [45,89]\n",
    "x = np.array([[[[12,45,89,56]]]])\n",
    "x[0,0,0,1:3]"
   ]
  },
  {
   "cell_type": "code",
   "execution_count": null,
   "id": "8933fa2f",
   "metadata": {
    "scrolled": true
   },
   "outputs": [],
   "source": [
    "#[56,89]\n",
    "x[0,0,0,-1:-3:-1]"
   ]
  },
  {
   "cell_type": "code",
   "execution_count": null,
   "id": "daf50710",
   "metadata": {},
   "outputs": [],
   "source": [
    "# np.ones((no_of_matrix,no_of_rows,No_of_Col))\n",
    "# np.zeros((no_of_matrix,no_of_rows,No_of_Col))\n",
    "# np.full((no_of_matrix,no_of_rows,No_of_Col),matrix_num)"
   ]
  },
  {
   "cell_type": "code",
   "execution_count": null,
   "id": "50b439d6",
   "metadata": {},
   "outputs": [],
   "source": [
    "x = np.ones((3,4,5))  #3 = no of matrics\n",
    "                    #4 = no of rows\n",
    "                    #5 = no of columns\n",
    "x"
   ]
  },
  {
   "cell_type": "code",
   "execution_count": null,
   "id": "cc1ff430",
   "metadata": {},
   "outputs": [],
   "source": [
    "# Ones : - it create a metrix with combination of row & col. with value as 1.\n",
    "# zeros : - it create a metrix with combination of row & col. with value as 0.\n",
    "# full : -  it create a metrix with combination of row & col. with user provided value. "
   ]
  },
  {
   "cell_type": "code",
   "execution_count": null,
   "id": "93256f9d",
   "metadata": {},
   "outputs": [],
   "source": [
    "# Ones :\n",
    "\n",
    "x = np.ones((4,5), dtype = int)\n",
    "x"
   ]
  },
  {
   "cell_type": "code",
   "execution_count": null,
   "id": "41331acb",
   "metadata": {},
   "outputs": [],
   "source": [
    "# zeros\n",
    "x = np.zeros((5,10))\n",
    "x"
   ]
  },
  {
   "cell_type": "code",
   "execution_count": null,
   "id": "6f9cc371",
   "metadata": {},
   "outputs": [],
   "source": [
    "# full\n",
    "\n",
    "x = np.full((3,4,5),200)   # 3 = no. of metrix\n",
    "                            #4 = no of rows\n",
    "                            #5 = no of columns\n",
    "                            # 200 - user metrix number\n",
    "x"
   ]
  },
  {
   "cell_type": "code",
   "execution_count": null,
   "id": "203e9760",
   "metadata": {},
   "outputs": [],
   "source": [
    "# change data type\n",
    "\n",
    "x = np.full((4,5),200, dtype=str)\n",
    "x"
   ]
  },
  {
   "cell_type": "code",
   "execution_count": null,
   "id": "6bab98d9",
   "metadata": {},
   "outputs": [],
   "source": [
    "# linspace : its distribute between the two number in same length by user\n",
    "\n",
    "x = np.linspace(1,10,20)\n",
    "x"
   ]
  },
  {
   "cell_type": "code",
   "execution_count": null,
   "id": "3e6d0f3d",
   "metadata": {},
   "outputs": [],
   "source": [
    "x.size"
   ]
  },
  {
   "cell_type": "code",
   "execution_count": null,
   "id": "f179d5c5",
   "metadata": {},
   "outputs": [],
   "source": [
    "x = np.linspace(1,2,10)\n",
    "x"
   ]
  },
  {
   "cell_type": "code",
   "execution_count": null,
   "id": "af7f9840",
   "metadata": {},
   "outputs": [],
   "source": [
    "# Flattern : It convert multiple dimention metrix in single dimentionn array .  \n",
    "\n",
    "x = np.array([[[1,2],[7,8],[9,6]]])\n",
    "x = x.flatten()\n",
    "print(x)"
   ]
  },
  {
   "cell_type": "code",
   "execution_count": null,
   "id": "e853b4e7",
   "metadata": {},
   "outputs": [],
   "source": [
    "x = [[1,2,3],[2,3,4],[9,8,6]]\n",
    "print(x)"
   ]
  },
  {
   "cell_type": "code",
   "execution_count": null,
   "id": "33e7aa76",
   "metadata": {},
   "outputs": [],
   "source": [
    "y = np.array(x)\n",
    "z = list(y.flatten())\n",
    "print(z)"
   ]
  },
  {
   "cell_type": "code",
   "execution_count": null,
   "id": "8308edeb",
   "metadata": {},
   "outputs": [],
   "source": [
    "# joins : its combine the two or more than two array\n",
    "\n",
    "# concatenate - its combine the two or more than two array \n"
   ]
  },
  {
   "cell_type": "code",
   "execution_count": null,
   "id": "00425836",
   "metadata": {},
   "outputs": [],
   "source": [
    "x = np.arange(1,10)\n",
    "y = np.linspace(20,30,10)\n",
    "x"
   ]
  },
  {
   "cell_type": "code",
   "execution_count": null,
   "id": "0ee9e768",
   "metadata": {},
   "outputs": [],
   "source": [
    "x.size"
   ]
  },
  {
   "cell_type": "code",
   "execution_count": null,
   "id": "27693df5",
   "metadata": {},
   "outputs": [],
   "source": [
    "y"
   ]
  },
  {
   "cell_type": "code",
   "execution_count": null,
   "id": "113901d0",
   "metadata": {},
   "outputs": [],
   "source": [
    "y.size"
   ]
  },
  {
   "cell_type": "code",
   "execution_count": null,
   "id": "981b657c",
   "metadata": {},
   "outputs": [],
   "source": [
    "x = np.array([[45,56,89]])\n",
    "y = np.array([[78,89,56]])\n",
    "x,y"
   ]
  },
  {
   "cell_type": "code",
   "execution_count": null,
   "id": "0e5129a9",
   "metadata": {},
   "outputs": [],
   "source": [
    "np.concatenate((x,y))"
   ]
  },
  {
   "cell_type": "code",
   "execution_count": null,
   "id": "e76a478e",
   "metadata": {},
   "outputs": [],
   "source": [
    "np.concatenate((x,y),axis = 1)"
   ]
  },
  {
   "cell_type": "code",
   "execution_count": null,
   "id": "6064a690",
   "metadata": {},
   "outputs": [],
   "source": [
    "np.concatenate((x,y),axis = 0)"
   ]
  },
  {
   "cell_type": "code",
   "execution_count": null,
   "id": "60bfccc6",
   "metadata": {},
   "outputs": [],
   "source": [
    "# transpose : it convert the metrics from row to col. and col to row\n",
    "\n",
    "x = np.array([[1,2,3,4,5],[6,7,8,9,10]])\n",
    "x"
   ]
  },
  {
   "cell_type": "code",
   "execution_count": null,
   "id": "1797b927",
   "metadata": {},
   "outputs": [],
   "source": [
    "x.shape"
   ]
  },
  {
   "cell_type": "code",
   "execution_count": null,
   "id": "1fcc1fd4",
   "metadata": {
    "scrolled": true
   },
   "outputs": [],
   "source": [
    "x = x.transpose()\n",
    "x.T"
   ]
  },
  {
   "cell_type": "code",
   "execution_count": null,
   "id": "2fa716d0",
   "metadata": {},
   "outputs": [],
   "source": []
  },
  {
   "cell_type": "markdown",
   "id": "5d5f3cef",
   "metadata": {},
   "source": [
    "# 16 March 2024"
   ]
  },
  {
   "cell_type": "code",
   "execution_count": null,
   "id": "3c48db75",
   "metadata": {},
   "outputs": [],
   "source": [
    "# mean :- It show the average value of the array\n",
    "# median :- its show the mid value of the array.\n",
    "# std : - Its show the standard deviation of the array\n",
    "# var :- it show the variance of the array\n",
    "# sqrt :- its show the base value of any number\n",
    "# axis = provide sum of rows & column\n",
    "# diag :- its extract diagonal value from the metrics\n",
    "# diagflat : \n",
    "# argmax : - it show the index of the maxium value\n",
    "# argmin : - it show the index of the min value\n",
    "# max : - it show the maximum value\n",
    "# min : it show the minimum value\n",
    "# fliplr() : - it reverse the value of each array"
   ]
  },
  {
   "cell_type": "code",
   "execution_count": null,
   "id": "a93d353b",
   "metadata": {},
   "outputs": [],
   "source": [
    "x = [23,45,56,64,45,67,65]\n",
    "l = len(x)\n",
    "v = 0\n",
    "for i in x():\n",
    "    v+=1\n",
    "avg = v/l\n",
    "print(avg)\n"
   ]
  },
  {
   "cell_type": "code",
   "execution_count": null,
   "id": "17c8a765",
   "metadata": {},
   "outputs": [],
   "source": [
    "# Mean : It show the average value of the array.\n",
    "# Find out avg through mean function\n",
    "import numpy as np\n",
    "x = np.array([12,45,78,89,56,23])\n",
    "avg = np.mean(x)\n",
    "print(avg)"
   ]
  },
  {
   "cell_type": "code",
   "execution_count": null,
   "id": "2965b237",
   "metadata": {},
   "outputs": [],
   "source": [
    "# Median : its show the mid value of the array.\n",
    "\n",
    "import numpy as np\n",
    "x = np.array([12,45,78,89,56,23])\n",
    "mid = np.median(x)\n",
    "mid"
   ]
  },
  {
   "cell_type": "code",
   "execution_count": null,
   "id": "ef35cbdd",
   "metadata": {},
   "outputs": [],
   "source": [
    "# mean & median with different value\n",
    "\n",
    "x = np.array([4,7,5,10,25,200])\n",
    "mid = np.median(x)\n",
    "mid"
   ]
  },
  {
   "cell_type": "code",
   "execution_count": null,
   "id": "047e9fb5",
   "metadata": {},
   "outputs": [],
   "source": [
    "avg = np.mean(x)\n",
    "avg"
   ]
  },
  {
   "cell_type": "code",
   "execution_count": null,
   "id": "6300808a",
   "metadata": {},
   "outputs": [],
   "source": [
    "# std :- Its show the standard deviation of the array\n",
    "np.std(x)"
   ]
  },
  {
   "cell_type": "code",
   "execution_count": null,
   "id": "9fd6e1e2",
   "metadata": {},
   "outputs": [],
   "source": [
    "# var :- it show the variance of the array\n",
    "\n",
    "np.var(x)"
   ]
  },
  {
   "cell_type": "code",
   "execution_count": null,
   "id": "47d47d50",
   "metadata": {},
   "outputs": [],
   "source": []
  },
  {
   "cell_type": "code",
   "execution_count": null,
   "id": "f632f0c2",
   "metadata": {},
   "outputs": [],
   "source": []
  },
  {
   "cell_type": "code",
   "execution_count": null,
   "id": "c08b86dc",
   "metadata": {},
   "outputs": [],
   "source": []
  },
  {
   "cell_type": "code",
   "execution_count": null,
   "id": "7968ec42",
   "metadata": {},
   "outputs": [],
   "source": [
    "# create a numpy array with the help of user input\n",
    "\n",
    "x = []\n",
    "l = int(input(\"please enter the length of array :\"))\n",
    "for i in range(l):\n",
    "    a = int(input(\"enter values :-\"))\n",
    "    x.append(a)\n",
    "    \n",
    "ar = np.array(x)\n",
    "print(ar)"
   ]
  },
  {
   "cell_type": "code",
   "execution_count": null,
   "id": "d0b8348e",
   "metadata": {},
   "outputs": [],
   "source": [
    "# linspace() : it give user defined numbers between two provided number\n",
    "\n",
    "x = np.linspace(10,20,5)   # 2 no. are 10 & 20 . 5 is how many numbers we want between 10 to 20.\n",
    "print(x)"
   ]
  },
  {
   "cell_type": "code",
   "execution_count": null,
   "id": "d0c60804",
   "metadata": {},
   "outputs": [],
   "source": [
    "# np.random.randint - its give random number between any range\n",
    "\n",
    "x = np.random.randint(45,90,10)\n",
    "x"
   ]
  },
  {
   "cell_type": "code",
   "execution_count": null,
   "id": "06686b77",
   "metadata": {},
   "outputs": [],
   "source": [
    "# # sqrt :- its show the base value of any number\n",
    "x = np.array([49,169,144,100])\n",
    "np.sqrt(x)"
   ]
  },
  {
   "cell_type": "code",
   "execution_count": null,
   "id": "22c336a2",
   "metadata": {},
   "outputs": [],
   "source": [
    "x = 7**2\n",
    "x"
   ]
  },
  {
   "cell_type": "code",
   "execution_count": null,
   "id": "342c7445",
   "metadata": {},
   "outputs": [],
   "source": [
    "# create matrix of 5 x 6 with the help of arrange and reshape function\n",
    "\n",
    "x = np.arange(1,31)\n",
    "y = x.reshape(5,6)\n",
    "y"
   ]
  },
  {
   "cell_type": "code",
   "execution_count": null,
   "id": "ca7e110b",
   "metadata": {},
   "outputs": [],
   "source": [
    "x = np.full((5,6),10)\n",
    "x"
   ]
  },
  {
   "cell_type": "code",
   "execution_count": null,
   "id": "268d15a5",
   "metadata": {},
   "outputs": [],
   "source": [
    "x = np.random.randint(1,20,20)\n",
    "x = x.reshape(5,4)\n",
    "x"
   ]
  },
  {
   "cell_type": "code",
   "execution_count": null,
   "id": "92b7f225",
   "metadata": {},
   "outputs": [],
   "source": [
    "x.sum()"
   ]
  },
  {
   "cell_type": "code",
   "execution_count": null,
   "id": "1b67428f",
   "metadata": {},
   "outputs": [],
   "source": [
    "np.sum(x)"
   ]
  },
  {
   "cell_type": "code",
   "execution_count": null,
   "id": "6eef5e53",
   "metadata": {},
   "outputs": [],
   "source": [
    "# axis = provide sum of rows\n",
    "\n",
    "x = np.random.randint(1,20,20)\n",
    "x = x.reshape(5,4)\n",
    "print(x)\n",
    "np.sum(x,axis = 1)    # # it add value by rows"
   ]
  },
  {
   "cell_type": "code",
   "execution_count": null,
   "id": "5f88dfef",
   "metadata": {},
   "outputs": [],
   "source": [
    "np.sum(x,axis = 0)   # it add value by column"
   ]
  },
  {
   "cell_type": "code",
   "execution_count": null,
   "id": "9b52b031",
   "metadata": {},
   "outputs": [],
   "source": [
    "np.diag(x) # its convert the diagonal value from the metrix"
   ]
  },
  {
   "cell_type": "code",
   "execution_count": null,
   "id": "340347bf",
   "metadata": {},
   "outputs": [],
   "source": [
    "# diagflat  - \n",
    "\n",
    "x = np.array([[12,45,78],[86,56,23],[25,36,14]])\n",
    "x"
   ]
  },
  {
   "cell_type": "code",
   "execution_count": null,
   "id": "20f77f24",
   "metadata": {},
   "outputs": [],
   "source": [
    "x.size"
   ]
  },
  {
   "cell_type": "code",
   "execution_count": null,
   "id": "dde1a09c",
   "metadata": {},
   "outputs": [],
   "source": [
    "y = np.diagflat(x)"
   ]
  },
  {
   "cell_type": "code",
   "execution_count": null,
   "id": "694512e6",
   "metadata": {},
   "outputs": [],
   "source": [
    "y\n"
   ]
  },
  {
   "cell_type": "code",
   "execution_count": null,
   "id": "0934b29e",
   "metadata": {},
   "outputs": [],
   "source": [
    "y.shape"
   ]
  },
  {
   "cell_type": "code",
   "execution_count": null,
   "id": "926e0c57",
   "metadata": {},
   "outputs": [],
   "source": [
    "# argmax : - it show the index of the maxium value\n",
    "\n",
    "x = np.array([45,78,89,56,23,12,45,56])\n",
    "np.argmax(x)"
   ]
  },
  {
   "cell_type": "code",
   "execution_count": null,
   "id": "a8dfe4e4",
   "metadata": {},
   "outputs": [],
   "source": [
    "# argmin : - it show the index of the min value\n",
    "np.argmin(x)"
   ]
  },
  {
   "cell_type": "code",
   "execution_count": null,
   "id": "210d3bdc",
   "metadata": {},
   "outputs": [],
   "source": [
    "# max : - it show the maximum value\n",
    "np.max(x)"
   ]
  },
  {
   "cell_type": "code",
   "execution_count": null,
   "id": "1cab1c85",
   "metadata": {},
   "outputs": [],
   "source": [
    "# min : it show the minimum value\n",
    "np.min(x)"
   ]
  },
  {
   "cell_type": "code",
   "execution_count": null,
   "id": "47de7e38",
   "metadata": {},
   "outputs": [],
   "source": [
    "# cumsum - it will provide running total of value"
   ]
  },
  {
   "cell_type": "code",
   "execution_count": null,
   "id": "07de4fd1",
   "metadata": {},
   "outputs": [],
   "source": [
    "# 1\n",
    "# 1+2\n",
    "# 1+2+3\n",
    "# 1+2+3+4\n",
    "# 1+2+3+4+5\n",
    "# 1+2+3+4+5+6\n"
   ]
  },
  {
   "cell_type": "code",
   "execution_count": null,
   "id": "bff39b3c",
   "metadata": {},
   "outputs": [],
   "source": [
    "x = np.array([1,2,3,4,5,6])\n",
    "np.cumsum(x)"
   ]
  },
  {
   "cell_type": "code",
   "execution_count": null,
   "id": "a5920007",
   "metadata": {},
   "outputs": [],
   "source": [
    "# Comperision Operator\n",
    "\n",
    "x = np.array ([45,78,89,56,23,20])\n",
    "x [x>50]   # compare & extracting the value"
   ]
  },
  {
   "cell_type": "code",
   "execution_count": null,
   "id": "aec78c5d",
   "metadata": {},
   "outputs": [],
   "source": [
    "x [x<50] "
   ]
  },
  {
   "cell_type": "code",
   "execution_count": null,
   "id": "fe7cdbd2",
   "metadata": {},
   "outputs": [],
   "source": [
    "# fliplr() : - it reverse the value of each array\n",
    "\n",
    "x = np.array([[12,45,78],[12,15,42]])\n",
    "np.fliplr(x)"
   ]
  },
  {
   "cell_type": "code",
   "execution_count": null,
   "id": "0b0b9cd0",
   "metadata": {},
   "outputs": [],
   "source": []
  },
  {
   "cell_type": "markdown",
   "id": "4b2a6271",
   "metadata": {},
   "source": [
    "# 17 March 2024"
   ]
  },
  {
   "cell_type": "markdown",
   "id": "99f15586",
   "metadata": {},
   "source": [
    "# Pandas"
   ]
  },
  {
   "cell_type": "markdown",
   "id": "f832e75d",
   "metadata": {},
   "source": [
    "1. what is pandas?\n",
    "* Pandas is python library use for working with data sets.\n",
    "* pandas instruction\n",
    "* pandas is a python library used for working with data sets.\n",
    "* it has fuctions for analyzing, cleaning,cleaning exploring,and manuplating data.\n",
    "\n",
    "* the name pandas has a reference to both \"panel data\", and \"python data analysis\"and it was created by wes Mckinney in 2008.\n",
    "\n",
    "2. why use pandas?\n",
    "* pandas allow us to anayze big data and make conclusion based on statistical theoies.\n",
    "\n",
    "####pandas series?\n",
    "\n",
    "3. what is a series?\n",
    "* A pandas series like a column in a table.\n",
    "* it is a one -dimentional array holding off any type .\n",
    "* series is  a one dimentional labled array capable of holding any data type"
   ]
  },
  {
   "cell_type": "code",
   "execution_count": null,
   "id": "4027d2f6",
   "metadata": {},
   "outputs": [],
   "source": [
    "# How to install Pandas in Python\n",
    "\n",
    "!pip install pandas"
   ]
  },
  {
   "cell_type": "code",
   "execution_count": null,
   "id": "c9ae3aa3",
   "metadata": {},
   "outputs": [],
   "source": [
    "import pandas as pd\n",
    "import numpy as np"
   ]
  },
  {
   "cell_type": "code",
   "execution_count": null,
   "id": "1d094e52",
   "metadata": {},
   "outputs": [],
   "source": [
    "# creating a Series\n",
    "\n",
    "x = pd.Series([12,45,78,89,56,23,56,89,45])\n",
    "print(x)\n",
    "print(len(x))\n",
    "print(type(x))\n",
    "print(x.shape)    # shape - show the column & ros\n",
    "print(x.ndim)    # ndim - no. of demension "
   ]
  },
  {
   "cell_type": "code",
   "execution_count": null,
   "id": "fb35d71c",
   "metadata": {},
   "outputs": [],
   "source": [
    "# string data type refer as object under Pandas\n",
    "x = pd.Series([\"Nitin\",\"Jatin\",\"Prince\"], index=[1,2,3])\n",
    "x"
   ]
  },
  {
   "cell_type": "code",
   "execution_count": null,
   "id": "fdd7eb89",
   "metadata": {},
   "outputs": [],
   "source": [
    "x[1]\n"
   ]
  },
  {
   "cell_type": "code",
   "execution_count": null,
   "id": "a8207bd8",
   "metadata": {},
   "outputs": [],
   "source": [
    "x[2]"
   ]
  },
  {
   "cell_type": "markdown",
   "id": "accc050f",
   "metadata": {},
   "source": [
    "# Pandas Data Frame"
   ]
  },
  {
   "cell_type": "markdown",
   "id": "03dc1f58",
   "metadata": {},
   "source": [
    "* A Data Frame is a 2 dimentional labled data structure, like a 2 dimention array\n",
    "* or pandas with Row & Column"
   ]
  },
  {
   "cell_type": "code",
   "execution_count": null,
   "id": "0f873ea7",
   "metadata": {},
   "outputs": [],
   "source": [
    "# Create table through Dictionary\n",
    "x = {\n",
    "    \"Name\":[\"Nitin\",\"Jatin\",\"Prince\",\"Ravi\",\"Kunal\"],\n",
    "    \"Age\":[35,26,30,32,34],\n",
    "    \"City\":[\"Ajmer\",\"Delhi\",\"Jaipur\",\"Kota\",\"Jodhpur\"],\n",
    "    \"Pincode\" :np.random.randint(5000,8000,5)\n",
    "    }\n",
    "x"
   ]
  },
  {
   "cell_type": "code",
   "execution_count": null,
   "id": "d7bc6d32",
   "metadata": {},
   "outputs": [],
   "source": [
    "# Create table through Data Frame\n",
    "df = pd.DataFrame(x)\n",
    "df"
   ]
  },
  {
   "cell_type": "code",
   "execution_count": null,
   "id": "378de89c",
   "metadata": {},
   "outputs": [],
   "source": [
    "df.shape"
   ]
  },
  {
   "cell_type": "code",
   "execution_count": null,
   "id": "edfba4d3",
   "metadata": {},
   "outputs": [],
   "source": [
    "print(f\"Total number of rows is: {df.shape[0]} and total no of rows is:{df.shape[1]}\")"
   ]
  },
  {
   "cell_type": "code",
   "execution_count": null,
   "id": "ae472694",
   "metadata": {},
   "outputs": [],
   "source": [
    "df.shape"
   ]
  },
  {
   "cell_type": "code",
   "execution_count": null,
   "id": "382a362e",
   "metadata": {},
   "outputs": [],
   "source": [
    "df.columns"
   ]
  },
  {
   "cell_type": "code",
   "execution_count": null,
   "id": "ad991ccc",
   "metadata": {},
   "outputs": [],
   "source": [
    "df.info()"
   ]
  },
  {
   "cell_type": "code",
   "execution_count": null,
   "id": "0726db17",
   "metadata": {},
   "outputs": [],
   "source": [
    "# Create table direct under DataFrame\n",
    "\n",
    "df = pd.DataFrame({\"Name\":[\"A\",\"B\",\"C\",\"D\",\"E\",\"F\",\"G\",\"H\",\"I\",\"J\"],\n",
    "                    \"Sales1\": np.random.randint(500,1000,10),\n",
    "                   \"Sales2\" : np.random.randint(500,1000,10),\n",
    "                   \"Sales3\" : np.random.randint(500,1000,10)},\n",
    "                 index = [1,2,3,4,5,6,7,8,9,10]\n",
    "                 )\n",
    "print(df)"
   ]
  },
  {
   "cell_type": "code",
   "execution_count": null,
   "id": "25246a15",
   "metadata": {},
   "outputs": [],
   "source": [
    "df.info()"
   ]
  },
  {
   "cell_type": "code",
   "execution_count": null,
   "id": "afab7c79",
   "metadata": {},
   "outputs": [],
   "source": [
    "df.columns"
   ]
  },
  {
   "cell_type": "code",
   "execution_count": null,
   "id": "d703f529",
   "metadata": {},
   "outputs": [],
   "source": [
    "type(df)"
   ]
  },
  {
   "cell_type": "code",
   "execution_count": null,
   "id": "96cd03e4",
   "metadata": {},
   "outputs": [],
   "source": [
    "df.ndim"
   ]
  },
  {
   "cell_type": "code",
   "execution_count": null,
   "id": "962b8a2e",
   "metadata": {},
   "outputs": [],
   "source": [
    "# with None value (nan)\n",
    "df = pd.DataFrame({\"Name\":[np.nan,\"B\",\"C\",\"D\",\"E\",\"F\",\"G\",\"H\",\"I\",\"J\"],\n",
    "                    \"Sales1\": np.random.randint(500,1000,10),\n",
    "                   \"Sales2\" : np.random.randint(500,1000,10),\n",
    "                   \"Sales3\" : np.random.randint(500,1000,10)},\n",
    "                 index = [1,2,3,4,5,6,7,8,9,10]\n",
    "                 )\n",
    "print(df)"
   ]
  },
  {
   "cell_type": "code",
   "execution_count": null,
   "id": "477a5503",
   "metadata": {},
   "outputs": [],
   "source": [
    "# duplicated() - To check the duplicate value from the table.\n",
    "\n",
    "df.duplicated().sum()"
   ]
  },
  {
   "cell_type": "code",
   "execution_count": null,
   "id": "e6c8f1b0",
   "metadata": {},
   "outputs": [],
   "source": [
    "df.info()"
   ]
  },
  {
   "cell_type": "code",
   "execution_count": null,
   "id": "d1168122",
   "metadata": {},
   "outputs": [],
   "source": [
    "# How to chech  Null value in dataset\n",
    "df.isnull().sum()"
   ]
  },
  {
   "cell_type": "code",
   "execution_count": null,
   "id": "59082ce1",
   "metadata": {},
   "outputs": [],
   "source": [
    "df.isna().sum()"
   ]
  },
  {
   "cell_type": "code",
   "execution_count": null,
   "id": "6a3c64a6",
   "metadata": {},
   "outputs": [],
   "source": [
    "df"
   ]
  },
  {
   "cell_type": "code",
   "execution_count": null,
   "id": "8368e8aa",
   "metadata": {},
   "outputs": [],
   "source": [
    "# head()  :- its show 1st five rows by default\n",
    "# tail() :-  its show last five rows by default"
   ]
  },
  {
   "cell_type": "code",
   "execution_count": null,
   "id": "0d18f400",
   "metadata": {},
   "outputs": [],
   "source": [
    "df.head()   # its show 1st five rows by default"
   ]
  },
  {
   "cell_type": "code",
   "execution_count": null,
   "id": "a9e93918",
   "metadata": {},
   "outputs": [],
   "source": [
    "df.tail()  # its show last five rows by default"
   ]
  },
  {
   "cell_type": "markdown",
   "id": "1c9ced53",
   "metadata": {},
   "source": []
  },
  {
   "cell_type": "markdown",
   "id": "74a3a68a",
   "metadata": {},
   "source": [
    "# 23 March 2024"
   ]
  },
  {
   "cell_type": "markdown",
   "id": "9a37a811",
   "metadata": {},
   "source": [
    "# Pandas"
   ]
  },
  {
   "cell_type": "code",
   "execution_count": null,
   "id": "0416187b",
   "metadata": {},
   "outputs": [],
   "source": [
    "# What is Pandas ?"
   ]
  },
  {
   "cell_type": "code",
   "execution_count": null,
   "id": "124ffbb1",
   "metadata": {},
   "outputs": [],
   "source": [
    "# what is pandas?\n",
    "# pandas instruction\n",
    "\n",
    "# pandas is a python library used for working with data sets.\n",
    "\n",
    "# it has fuctions for analyzing, cleaning,cleaning exploring,and manuplating data.\n",
    "\n",
    "# the name pandas has a reference to both \"panel data\", and \"python data analysis\"and it was created by wes Mckinney in 2008.\n",
    "\n",
    "# why use pandas?\n",
    "# pandas allow us to anayze big data and make conclusion based on statistical theoies.\n",
    "# pandas series?\n",
    "# what is a series?\n",
    "# A pandas series like a column in a table.\n",
    "\n",
    "# it is a one -dimentional array holding off any type .\n",
    "\n",
    "# series is a one dimentional labled array capable of holding any data type"
   ]
  },
  {
   "cell_type": "code",
   "execution_count": null,
   "id": "d696cd29",
   "metadata": {},
   "outputs": [],
   "source": []
  },
  {
   "cell_type": "code",
   "execution_count": null,
   "id": "b8e6a823",
   "metadata": {},
   "outputs": [],
   "source": [
    "import pandas as pd"
   ]
  },
  {
   "cell_type": "code",
   "execution_count": null,
   "id": "60318df1",
   "metadata": {},
   "outputs": [],
   "source": [
    "# How to import data of excel & csv format in python"
   ]
  },
  {
   "cell_type": "code",
   "execution_count": null,
   "id": "6b458f9e",
   "metadata": {},
   "outputs": [],
   "source": [
    "link = \"E:\\\\Nitin\\\\Python\\\\Mobile_Data.csv\"\n",
    "df = pd.read_csv(link)\n",
    "df.head()   # To make Heading in bold"
   ]
  },
  {
   "cell_type": "code",
   "execution_count": null,
   "id": "4ff65f08",
   "metadata": {},
   "outputs": [],
   "source": [
    "# Starting Five Rows\n",
    "# head : -   # its show 1st five rows by default\n",
    "df.head()  "
   ]
  },
  {
   "cell_type": "code",
   "execution_count": null,
   "id": "85ccb5b0",
   "metadata": {},
   "outputs": [],
   "source": [
    "# starting 10 rows\n",
    "\n",
    "df.head(10)"
   ]
  },
  {
   "cell_type": "code",
   "execution_count": null,
   "id": "326b98c4",
   "metadata": {},
   "outputs": [],
   "source": [
    "# tail : -  # its show last five rows by default\n",
    "df.tail() "
   ]
  },
  {
   "cell_type": "code",
   "execution_count": null,
   "id": "7c073123",
   "metadata": {},
   "outputs": [],
   "source": [
    "#Last 10 records\n",
    "df.tail(10)"
   ]
  },
  {
   "cell_type": "code",
   "execution_count": null,
   "id": "e775679f",
   "metadata": {},
   "outputs": [],
   "source": [
    "# check total no. of Rows & Column\n",
    "\n",
    "df.shape"
   ]
  },
  {
   "cell_type": "code",
   "execution_count": null,
   "id": "c2d58a4d",
   "metadata": {},
   "outputs": [],
   "source": [
    "# How to check the name of the colum.\n",
    "\n",
    "# 1st Methord\n",
    "\n",
    "df.columns"
   ]
  },
  {
   "cell_type": "code",
   "execution_count": null,
   "id": "85932b8a",
   "metadata": {},
   "outputs": [],
   "source": [
    "# How to check the name of the colum.\n",
    "\n",
    "#  2nd Methord\n",
    "\n",
    "for i in df:\n",
    "    print(i)"
   ]
  },
  {
   "cell_type": "code",
   "execution_count": null,
   "id": "55a9bcbb",
   "metadata": {},
   "outputs": [],
   "source": [
    "# How to check total no. of Null value in complete data sets.\n",
    "\n",
    "df.isnull()"
   ]
  },
  {
   "cell_type": "code",
   "execution_count": null,
   "id": "af56a63d",
   "metadata": {},
   "outputs": [],
   "source": [
    "# How to check total no. of Null value in complete data sets.\n",
    "# isnull() or we can use isna()\n",
    "df.isnull().sum()"
   ]
  },
  {
   "cell_type": "code",
   "execution_count": null,
   "id": "c1a4ff64",
   "metadata": {},
   "outputs": [],
   "source": [
    "# to check complete info of data sets\n",
    "\n",
    "df.info()"
   ]
  },
  {
   "cell_type": "code",
   "execution_count": null,
   "id": "837e9327",
   "metadata": {},
   "outputs": [],
   "source": [
    "# To check only datatype.\n",
    "\n",
    "df.dtypes"
   ]
  },
  {
   "cell_type": "code",
   "execution_count": null,
   "id": "7f9d544d",
   "metadata": {},
   "outputs": [],
   "source": [
    "# How to select the columns\n",
    "\n",
    "df.columns"
   ]
  },
  {
   "cell_type": "code",
   "execution_count": null,
   "id": "4b4f001d",
   "metadata": {},
   "outputs": [],
   "source": [
    "# How to find selected multiple columns\n",
    "c =[\"brand\",\"model\",\"sales_price\"]\n",
    "\n",
    "x = df[c]\n",
    "print(x)"
   ]
  },
  {
   "cell_type": "code",
   "execution_count": null,
   "id": "8f0860f0",
   "metadata": {},
   "outputs": [],
   "source": [
    "# How to rename the columns.\n",
    "# Rename sales column into quantity\n",
    "\n",
    "df.head(2)\n",
    "\n"
   ]
  },
  {
   "cell_type": "code",
   "execution_count": null,
   "id": "07b80424",
   "metadata": {},
   "outputs": [],
   "source": [
    "df.rename(columns={\"sales\":\"Quantity\"},inplace=True)   # It rename desired column name\n",
    "df.columns"
   ]
  },
  {
   "cell_type": "code",
   "execution_count": null,
   "id": "a4090222",
   "metadata": {},
   "outputs": [],
   "source": [
    "df.head(2)"
   ]
  },
  {
   "cell_type": "code",
   "execution_count": null,
   "id": "91ac98b0",
   "metadata": {},
   "outputs": [],
   "source": []
  },
  {
   "cell_type": "code",
   "execution_count": null,
   "id": "bd17c057",
   "metadata": {},
   "outputs": [],
   "source": []
  },
  {
   "cell_type": "code",
   "execution_count": null,
   "id": "04a1c47a",
   "metadata": {},
   "outputs": [],
   "source": []
  },
  {
   "cell_type": "code",
   "execution_count": null,
   "id": "05649ba3",
   "metadata": {},
   "outputs": [],
   "source": []
  },
  {
   "cell_type": "markdown",
   "id": "9fceb651",
   "metadata": {},
   "source": [
    "# 30 March 2024"
   ]
  },
  {
   "cell_type": "code",
   "execution_count": null,
   "id": "5b9e084b",
   "metadata": {},
   "outputs": [],
   "source": [
    "# 1. Count total number of processor in processor column\n",
    "# 2. count all values in base color\n",
    "# 3. count most of time repeated top 5 model in pandas\n",
    "# 4. show the total unique number in base_color\n",
    "# 5. show the total unique processor\n",
    "# 6. show the number of unique model\n",
    "# 7. extract seven columns {brand,model,processor,ram,rom,sales price} from these dataset\n",
    "# 8. convert all the text of screen size in small letter\n",
    "# 9. replace \"Blue\" at the place of other in Base color column\n",
    "# 10. show the length of the model in a new column"
   ]
  },
  {
   "cell_type": "code",
   "execution_count": null,
   "id": "af2e2aed",
   "metadata": {},
   "outputs": [],
   "source": [
    "# 1. Count total number of processor in processor column\n",
    "\n",
    "df[\"processor\"].nunique()"
   ]
  },
  {
   "cell_type": "code",
   "execution_count": null,
   "id": "f5da554c",
   "metadata": {},
   "outputs": [],
   "source": [
    "df.processor.nunique()"
   ]
  },
  {
   "cell_type": "code",
   "execution_count": null,
   "id": "8de85353",
   "metadata": {},
   "outputs": [],
   "source": [
    "# 2. count all values in base color\n",
    "\n",
    "df.base_color.nunique()"
   ]
  },
  {
   "cell_type": "code",
   "execution_count": null,
   "id": "9583ba4f",
   "metadata": {},
   "outputs": [],
   "source": [
    "# 3. count most of time repeated top 5 model in pandas\n",
    "df.head(2)"
   ]
  },
  {
   "cell_type": "code",
   "execution_count": null,
   "id": "e3e931bc",
   "metadata": {},
   "outputs": [],
   "source": [
    "# value_counts()  : it counts the values\n",
    "\n",
    "x = df[\"model\"].value_counts().reset_index() #.rename(columns = {\"index\":\"Model\",\"model\":\"counts\"})\n",
    "x.head()"
   ]
  },
  {
   "cell_type": "code",
   "execution_count": null,
   "id": "35edcc33",
   "metadata": {},
   "outputs": [],
   "source": [
    "# 4. show the total unique number in base_color\n",
    "\n",
    "# 6. show the number of unique model\n",
    "# 7. extract seven columns {brand,model,processor,ram,rom,sales price} from these dataset\n"
   ]
  },
  {
   "cell_type": "code",
   "execution_count": null,
   "id": "869732d6",
   "metadata": {},
   "outputs": [],
   "source": [
    "# 6. show the number of unique model\n",
    "df.model.nunique()"
   ]
  },
  {
   "cell_type": "code",
   "execution_count": null,
   "id": "858e5ce2",
   "metadata": {},
   "outputs": [],
   "source": [
    "# 7. extract seven columns {brand,model,processor,ram,rom,sales price} from these dataset\n",
    "\n",
    "a = [\"brand\",\"model\",\"processor\",\"RAM\",\"ROM\",\"sales_price\"]\n",
    "x = df[a]\n",
    "print(x)"
   ]
  },
  {
   "cell_type": "code",
   "execution_count": null,
   "id": "06f69e74",
   "metadata": {},
   "outputs": [],
   "source": [
    "# 8. convert all the text of screen size in small letter\n",
    "\n",
    "df[\"screen_size\"] = df [\"screen_size\"].str.lower()\n",
    "df.head()\n"
   ]
  },
  {
   "cell_type": "code",
   "execution_count": null,
   "id": "5c79b34b",
   "metadata": {},
   "outputs": [],
   "source": [
    "# 9. replace \"Blue\" at the place of other in Base color column\n",
    "\n",
    "df[\"base_color\"] = df[\"base_color\"].str.replace(\"Others\",\"blue\")\n",
    "df[\"base_color\"].unique()"
   ]
  },
  {
   "cell_type": "code",
   "execution_count": null,
   "id": "b6e6e330",
   "metadata": {},
   "outputs": [],
   "source": [
    "# 10. show the length of the model in a new column\n",
    "\n",
    "l = []\n",
    "for i in df.model:\n",
    "    x = len(i)\n",
    "    l.append(x)\n",
    "df[\"length\"] = 1\n",
    "df.head()"
   ]
  },
  {
   "cell_type": "code",
   "execution_count": null,
   "id": "2616a053",
   "metadata": {},
   "outputs": [],
   "source": []
  }
 ],
 "metadata": {
  "kernelspec": {
   "display_name": "Python 3 (ipykernel)",
   "language": "python",
   "name": "python3"
  },
  "language_info": {
   "codemirror_mode": {
    "name": "ipython",
    "version": 3
   },
   "file_extension": ".py",
   "mimetype": "text/x-python",
   "name": "python",
   "nbconvert_exporter": "python",
   "pygments_lexer": "ipython3",
   "version": "3.11.5"
  }
 },
 "nbformat": 4,
 "nbformat_minor": 5
}
