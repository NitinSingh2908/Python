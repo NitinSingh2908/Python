{
 "cells": [
  {
   "cell_type": "markdown",
   "id": "774d9dfc",
   "metadata": {},
   "source": [
    "# Matplotlib & SEaborn Library"
   ]
  },
  {
   "cell_type": "markdown",
   "id": "c3894c93",
   "metadata": {},
   "source": [
    "# 06 April 2024"
   ]
  },
  {
   "cell_type": "code",
   "execution_count": 1,
   "id": "4cd8496f",
   "metadata": {},
   "outputs": [],
   "source": [
    "# Matplotlib :- it is a python Library that is used to visulize the data\n",
    "# seaborn :- it is a python Library that is used to visulize the data"
   ]
  },
  {
   "cell_type": "code",
   "execution_count": 2,
   "id": "dff81d08",
   "metadata": {},
   "outputs": [
    {
     "name": "stdout",
     "output_type": "stream",
     "text": [
      "Defaulting to user installation because normal site-packages is not writeable\n",
      "Requirement already satisfied: matplotlib in c:\\programdata\\anaconda3\\lib\\site-packages (3.7.2)\n",
      "Requirement already satisfied: contourpy>=1.0.1 in c:\\programdata\\anaconda3\\lib\\site-packages (from matplotlib) (1.0.5)\n",
      "Requirement already satisfied: cycler>=0.10 in c:\\programdata\\anaconda3\\lib\\site-packages (from matplotlib) (0.11.0)\n",
      "Requirement already satisfied: fonttools>=4.22.0 in c:\\programdata\\anaconda3\\lib\\site-packages (from matplotlib) (4.25.0)\n",
      "Requirement already satisfied: kiwisolver>=1.0.1 in c:\\programdata\\anaconda3\\lib\\site-packages (from matplotlib) (1.4.4)\n",
      "Requirement already satisfied: numpy>=1.20 in c:\\programdata\\anaconda3\\lib\\site-packages (from matplotlib) (1.24.3)\n",
      "Requirement already satisfied: packaging>=20.0 in c:\\programdata\\anaconda3\\lib\\site-packages (from matplotlib) (23.1)\n",
      "Requirement already satisfied: pillow>=6.2.0 in c:\\programdata\\anaconda3\\lib\\site-packages (from matplotlib) (9.4.0)\n",
      "Requirement already satisfied: pyparsing<3.1,>=2.3.1 in c:\\programdata\\anaconda3\\lib\\site-packages (from matplotlib) (3.0.9)\n",
      "Requirement already satisfied: python-dateutil>=2.7 in c:\\programdata\\anaconda3\\lib\\site-packages (from matplotlib) (2.8.2)\n",
      "Requirement already satisfied: six>=1.5 in c:\\programdata\\anaconda3\\lib\\site-packages (from python-dateutil>=2.7->matplotlib) (1.16.0)\n"
     ]
    }
   ],
   "source": [
    "!pip install matplotlib"
   ]
  },
  {
   "cell_type": "code",
   "execution_count": 3,
   "id": "23ab6148",
   "metadata": {},
   "outputs": [
    {
     "name": "stdout",
     "output_type": "stream",
     "text": [
      "Defaulting to user installation because normal site-packages is not writeable\n",
      "Requirement already satisfied: seaborn in c:\\programdata\\anaconda3\\lib\\site-packages (0.12.2)\n",
      "Requirement already satisfied: numpy!=1.24.0,>=1.17 in c:\\programdata\\anaconda3\\lib\\site-packages (from seaborn) (1.24.3)\n",
      "Requirement already satisfied: pandas>=0.25 in c:\\programdata\\anaconda3\\lib\\site-packages (from seaborn) (2.0.3)\n",
      "Requirement already satisfied: matplotlib!=3.6.1,>=3.1 in c:\\programdata\\anaconda3\\lib\\site-packages (from seaborn) (3.7.2)\n",
      "Requirement already satisfied: contourpy>=1.0.1 in c:\\programdata\\anaconda3\\lib\\site-packages (from matplotlib!=3.6.1,>=3.1->seaborn) (1.0.5)\n",
      "Requirement already satisfied: cycler>=0.10 in c:\\programdata\\anaconda3\\lib\\site-packages (from matplotlib!=3.6.1,>=3.1->seaborn) (0.11.0)\n",
      "Requirement already satisfied: fonttools>=4.22.0 in c:\\programdata\\anaconda3\\lib\\site-packages (from matplotlib!=3.6.1,>=3.1->seaborn) (4.25.0)\n",
      "Requirement already satisfied: kiwisolver>=1.0.1 in c:\\programdata\\anaconda3\\lib\\site-packages (from matplotlib!=3.6.1,>=3.1->seaborn) (1.4.4)\n",
      "Requirement already satisfied: packaging>=20.0 in c:\\programdata\\anaconda3\\lib\\site-packages (from matplotlib!=3.6.1,>=3.1->seaborn) (23.1)\n",
      "Requirement already satisfied: pillow>=6.2.0 in c:\\programdata\\anaconda3\\lib\\site-packages (from matplotlib!=3.6.1,>=3.1->seaborn) (9.4.0)\n",
      "Requirement already satisfied: pyparsing<3.1,>=2.3.1 in c:\\programdata\\anaconda3\\lib\\site-packages (from matplotlib!=3.6.1,>=3.1->seaborn) (3.0.9)\n",
      "Requirement already satisfied: python-dateutil>=2.7 in c:\\programdata\\anaconda3\\lib\\site-packages (from matplotlib!=3.6.1,>=3.1->seaborn) (2.8.2)\n",
      "Requirement already satisfied: pytz>=2020.1 in c:\\programdata\\anaconda3\\lib\\site-packages (from pandas>=0.25->seaborn) (2023.3.post1)\n",
      "Requirement already satisfied: tzdata>=2022.1 in c:\\programdata\\anaconda3\\lib\\site-packages (from pandas>=0.25->seaborn) (2023.3)\n",
      "Requirement already satisfied: six>=1.5 in c:\\programdata\\anaconda3\\lib\\site-packages (from python-dateutil>=2.7->matplotlib!=3.6.1,>=3.1->seaborn) (1.16.0)\n"
     ]
    }
   ],
   "source": [
    "!pip install seaborn"
   ]
  },
  {
   "cell_type": "code",
   "execution_count": 4,
   "id": "383c5be8",
   "metadata": {},
   "outputs": [],
   "source": [
    " # we need to import all the library first before start work."
   ]
  },
  {
   "cell_type": "code",
   "execution_count": 5,
   "id": "5fb63c54",
   "metadata": {},
   "outputs": [],
   "source": [
    "import numpy as np\n",
    "import pandas as pd\n",
    "import matplotlib.pyplot as plt\n",
    "import seaborn as sns"
   ]
  },
  {
   "cell_type": "markdown",
   "id": "ccc96251",
   "metadata": {},
   "source": [
    "# 07 April 2024"
   ]
  },
  {
   "cell_type": "code",
   "execution_count": 6,
   "id": "0262329c",
   "metadata": {},
   "outputs": [],
   "source": [
    "import matplotlib.pyplot as plt"
   ]
  },
  {
   "cell_type": "code",
   "execution_count": 7,
   "id": "66d59ccf",
   "metadata": {},
   "outputs": [],
   "source": [
    "x =[\"Nitin\",\"Prince\",\"jatin\",\"Rohit\"]\n",
    "y = [35,25,30,45]"
   ]
  },
  {
   "cell_type": "code",
   "execution_count": 8,
   "id": "faa471e9",
   "metadata": {},
   "outputs": [
    {
     "data": {
      "image/png": "[encoded data removed]",
      "text/plain": [
       "<Figure size 640x480 with 1 Axes>"
      ]
     },
     "metadata": {},
     "output_type": "display_data"
    }
   ],
   "source": [
    "# how to create bar chart.\n",
    "plt.bar(x,y)\n",
    "plt.show()"
   ]
  },
  {
   "cell_type": "code",
   "execution_count": 9,
   "id": "fd91b6ff",
   "metadata": {},
   "outputs": [
    {
     "data": {
      "image/png": "[encoded data removed]",
      "text/plain": [
       "<Figure size 640x480 with 1 Axes>"
      ]
     },
     "metadata": {},
     "output_type": "display_data"
    }
   ],
   "source": [
    "plt.bar(x,y,color=\"red\")                 # color =\"red\" - it change the color of the bar\n",
    "plt.xlabel(\"Name\")                       # it create lable for y axis\n",
    "plt.ylabel(\"Age of Person\")              # it create lable for y axis\n",
    "plt.title(\"Name of person with Age\")     # It create title of Graph\n",
    "plt.show()"
   ]
  },
  {
   "cell_type": "code",
   "execution_count": 10,
   "id": "9ce45020",
   "metadata": {},
   "outputs": [
    {
     "data": {
      "image/png": "[encoded data removed]",
      "text/plain": [
       "<Figure size 640x480 with 1 Axes>"
      ]
     },
     "metadata": {},
     "output_type": "display_data"
    }
   ],
   "source": [
    "# How to create Line Chart\n",
    "\n",
    "plt.plot(x,y,marker=\"*\")       # marker =\"*\" - it add marker at high or low points.\n",
    "plt.show()"
   ]
  },
  {
   "cell_type": "code",
   "execution_count": 11,
   "id": "fb3968b1",
   "metadata": {},
   "outputs": [],
   "source": [
    "# How to create random graph with numpy formula\n",
    "\n",
    "import numpy as np\n",
    "import pandas as pd"
   ]
  },
  {
   "cell_type": "code",
   "execution_count": 12,
   "id": "1bb03aae",
   "metadata": {},
   "outputs": [
    {
     "data": {
      "text/plain": [
       "array([698, 614, 650, 618, 644, 633, 783, 611, 758, 653, 759, 676, 603,\n",
       "       760, 745, 792, 752, 610, 755, 698, 690, 666, 603, 790, 723, 768,\n",
       "       727, 634, 730, 670, 736, 758, 755, 740, 714, 667, 665, 725, 706,\n",
       "       718, 659, 673, 717, 715, 727, 657, 639, 601, 641, 728, 691, 675,\n",
       "       694, 659, 618, 754, 639, 773, 646, 602, 664, 661, 730, 739, 686,\n",
       "       631, 667, 648, 693, 710, 707, 799, 617, 692, 679, 647, 714, 633,\n",
       "       649, 618, 649, 730, 784, 679, 682, 672, 730, 600, 727, 709, 705,\n",
       "       712, 618, 663, 648, 621, 652, 712, 721, 675, 691, 636, 711, 603,\n",
       "       755, 694, 741, 668, 709, 699, 753, 717, 652, 775, 744, 610, 623,\n",
       "       675, 674, 650, 655, 661, 742, 730, 780, 723, 662, 636, 605, 743,\n",
       "       685, 697, 647, 655, 607, 681, 794, 789, 674, 606, 782, 640, 635,\n",
       "       709, 746, 777, 648, 640, 730, 601, 759, 673, 733, 703, 606, 646,\n",
       "       646, 606, 719, 772, 780, 621, 707, 600, 739, 764, 681, 683, 770,\n",
       "       635, 611, 675, 706, 601, 620, 660, 786, 725, 661, 773, 699, 628,\n",
       "       652, 749, 681, 670, 665, 604, 768, 745, 788, 747, 738, 749, 699,\n",
       "       739, 768, 605, 618, 673, 614, 626, 640, 740, 631, 605, 799, 704,\n",
       "       719, 656, 798, 758, 659, 627, 661, 659, 704, 763, 682, 690, 728,\n",
       "       789, 769, 782, 669, 619, 659, 628, 724, 618, 637, 709, 703, 783,\n",
       "       770, 728, 719, 747, 671, 603, 753, 612, 757, 645, 752, 754, 767,\n",
       "       633, 624, 700, 610, 652, 703, 687, 744, 740, 696, 676, 618, 770,\n",
       "       727, 632, 630, 709, 786, 618, 685, 646, 643, 729, 732, 773, 630,\n",
       "       740, 607, 667, 683, 658, 780, 619, 792, 607, 769, 680, 762, 641,\n",
       "       777, 661, 702, 605, 688, 746, 660, 698, 754, 771, 724, 639, 621,\n",
       "       617])"
      ]
     },
     "execution_count": 12,
     "metadata": {},
     "output_type": "execute_result"
    }
   ],
   "source": [
    "#Syntax of random formula = variable = np.random.randint(1st value, 2nd value, how much value you need between these 2 values)\n",
    "\n",
    "x=np.random.randint(200,400,300)\n",
    "y=np.random.randint(600,800,300)\n",
    "y"
   ]
  },
  {
   "cell_type": "code",
   "execution_count": 13,
   "id": "55613a28",
   "metadata": {},
   "outputs": [],
   "source": [
    "# scatter plot"
   ]
  },
  {
   "cell_type": "code",
   "execution_count": 14,
   "id": "9efeb58c",
   "metadata": {},
   "outputs": [
    {
     "data": {
      "image/png": "[encoded data removed]",
      "text/plain": [
       "<Figure size 640x480 with 1 Axes>"
      ]
     },
     "metadata": {},
     "output_type": "display_data"
    }
   ],
   "source": [
    "plt.scatter(x,y)\n",
    "plt.show()"
   ]
  },
  {
   "cell_type": "code",
   "execution_count": 15,
   "id": "49e243bc",
   "metadata": {},
   "outputs": [],
   "source": [
    "# Histogram : It is use to the count the value"
   ]
  },
  {
   "cell_type": "code",
   "execution_count": 16,
   "id": "842ef04c",
   "metadata": {},
   "outputs": [
    {
     "data": {
      "text/plain": [
       "<function matplotlib.pyplot.show(close=None, block=None)>"
      ]
     },
     "execution_count": 16,
     "metadata": {},
     "output_type": "execute_result"
    },
    {
     "data": {
      "image/png": "[encoded data removed]",
      "text/plain": [
       "<Figure size 640x480 with 1 Axes>"
      ]
     },
     "metadata": {},
     "output_type": "display_data"
    }
   ],
   "source": [
    "plt.hist(x)\n",
    "plt.show"
   ]
  },
  {
   "cell_type": "code",
   "execution_count": 17,
   "id": "4a58d00a",
   "metadata": {},
   "outputs": [],
   "source": [
    "import pandas as pd"
   ]
  },
  {
   "cell_type": "code",
   "execution_count": 18,
   "id": "9f5df69f",
   "metadata": {},
   "outputs": [],
   "source": [
    "# Import Mobile data file from folder.\n",
    "\n",
    "\n",
    "link=\"E:\\\\Nitin\\\\Python\\\\Python Data\\\\Mobile_Data.csv\""
   ]
  },
  {
   "cell_type": "code",
   "execution_count": 19,
   "id": "4d088285",
   "metadata": {},
   "outputs": [],
   "source": [
    "df=pd.read_csv(link)"
   ]
  },
  {
   "cell_type": "code",
   "execution_count": 20,
   "id": "7cb360c8",
   "metadata": {},
   "outputs": [
    {
     "data": {
      "text/html": [
       "<div>\n",
       "<style scoped>\n",
       "    .dataframe tbody tr th:only-of-type {\n",
       "        vertical-align: middle;\n",
       "    }\n",
       "\n",
       "    .dataframe tbody tr th {\n",
       "        vertical-align: top;\n",
       "    }\n",
       "\n",
       "    .dataframe thead th {\n",
       "        text-align: right;\n",
       "    }\n",
       "</style>\n",
       "<table border=\"1\" class=\"dataframe\">\n",
       "  <thead>\n",
       "    <tr style=\"text-align: right;\">\n",
       "      <th></th>\n",
       "      <th>brand</th>\n",
       "      <th>model</th>\n",
       "      <th>base_color</th>\n",
       "      <th>processor</th>\n",
       "      <th>screen_size</th>\n",
       "      <th>ROM</th>\n",
       "      <th>RAM</th>\n",
       "      <th>display_size</th>\n",
       "      <th>num_rear_camera</th>\n",
       "      <th>num_front_camera</th>\n",
       "      <th>battery_capacity</th>\n",
       "      <th>ratings</th>\n",
       "      <th>num_of_ratings</th>\n",
       "      <th>sales_price</th>\n",
       "      <th>discount_percent</th>\n",
       "      <th>sales</th>\n",
       "    </tr>\n",
       "  </thead>\n",
       "  <tbody>\n",
       "    <tr>\n",
       "      <th>0</th>\n",
       "      <td>Apple</td>\n",
       "      <td>iPhone SE</td>\n",
       "      <td>Black</td>\n",
       "      <td>Water</td>\n",
       "      <td>Very Small</td>\n",
       "      <td>64</td>\n",
       "      <td>2</td>\n",
       "      <td>4.7</td>\n",
       "      <td>1</td>\n",
       "      <td>1</td>\n",
       "      <td>1800</td>\n",
       "      <td>4.5</td>\n",
       "      <td>38645</td>\n",
       "      <td>32999</td>\n",
       "      <td>0.17</td>\n",
       "      <td>127.52</td>\n",
       "    </tr>\n",
       "    <tr>\n",
       "      <th>1</th>\n",
       "      <td>Apple</td>\n",
       "      <td>iPhone 12 Mini</td>\n",
       "      <td>Red</td>\n",
       "      <td>Ceramic</td>\n",
       "      <td>Small</td>\n",
       "      <td>64</td>\n",
       "      <td>4</td>\n",
       "      <td>5.4</td>\n",
       "      <td>2</td>\n",
       "      <td>1</td>\n",
       "      <td>2815</td>\n",
       "      <td>4.5</td>\n",
       "      <td>244</td>\n",
       "      <td>57149</td>\n",
       "      <td>0.04</td>\n",
       "      <td>1.39</td>\n",
       "    </tr>\n",
       "    <tr>\n",
       "      <th>2</th>\n",
       "      <td>Apple</td>\n",
       "      <td>iPhone SE</td>\n",
       "      <td>Red</td>\n",
       "      <td>Water</td>\n",
       "      <td>Very Small</td>\n",
       "      <td>64</td>\n",
       "      <td>2</td>\n",
       "      <td>4.7</td>\n",
       "      <td>1</td>\n",
       "      <td>1</td>\n",
       "      <td>1800</td>\n",
       "      <td>4.5</td>\n",
       "      <td>38645</td>\n",
       "      <td>32999</td>\n",
       "      <td>0.17</td>\n",
       "      <td>127.52</td>\n",
       "    </tr>\n",
       "    <tr>\n",
       "      <th>3</th>\n",
       "      <td>Apple</td>\n",
       "      <td>iPhone XR</td>\n",
       "      <td>Others</td>\n",
       "      <td>iOS</td>\n",
       "      <td>Medium</td>\n",
       "      <td>64</td>\n",
       "      <td>3</td>\n",
       "      <td>6.1</td>\n",
       "      <td>1</td>\n",
       "      <td>1</td>\n",
       "      <td>2942</td>\n",
       "      <td>4.6</td>\n",
       "      <td>5366</td>\n",
       "      <td>42999</td>\n",
       "      <td>0.10</td>\n",
       "      <td>23.07</td>\n",
       "    </tr>\n",
       "    <tr>\n",
       "      <th>4</th>\n",
       "      <td>Apple</td>\n",
       "      <td>iPhone 12</td>\n",
       "      <td>Red</td>\n",
       "      <td>Ceramic</td>\n",
       "      <td>Medium</td>\n",
       "      <td>128</td>\n",
       "      <td>4</td>\n",
       "      <td>6.1</td>\n",
       "      <td>2</td>\n",
       "      <td>1</td>\n",
       "      <td>2815</td>\n",
       "      <td>4.6</td>\n",
       "      <td>745</td>\n",
       "      <td>69149</td>\n",
       "      <td>0.02</td>\n",
       "      <td>5.15</td>\n",
       "    </tr>\n",
       "  </tbody>\n",
       "</table>\n",
       "</div>"
      ],
      "text/plain": [
       "   brand           model base_color processor screen_size  ROM  RAM  \\\n",
       "0  Apple       iPhone SE      Black     Water  Very Small   64    2   \n",
       "1  Apple  iPhone 12 Mini        Red   Ceramic       Small   64    4   \n",
       "2  Apple       iPhone SE        Red     Water  Very Small   64    2   \n",
       "3  Apple       iPhone XR     Others       iOS      Medium   64    3   \n",
       "4  Apple       iPhone 12        Red   Ceramic      Medium  128    4   \n",
       "\n",
       "   display_size  num_rear_camera  num_front_camera  battery_capacity  ratings  \\\n",
       "0           4.7                1                 1              1800      4.5   \n",
       "1           5.4                2                 1              2815      4.5   \n",
       "2           4.7                1                 1              1800      4.5   \n",
       "3           6.1                1                 1              2942      4.6   \n",
       "4           6.1                2                 1              2815      4.6   \n",
       "\n",
       "   num_of_ratings  sales_price  discount_percent   sales  \n",
       "0           38645        32999              0.17  127.52  \n",
       "1             244        57149              0.04    1.39  \n",
       "2           38645        32999              0.17  127.52  \n",
       "3            5366        42999              0.10   23.07  \n",
       "4             745        69149              0.02    5.15  "
      ]
     },
     "execution_count": 20,
     "metadata": {},
     "output_type": "execute_result"
    }
   ],
   "source": [
    "df.head()"
   ]
  },
  {
   "cell_type": "code",
   "execution_count": 21,
   "id": "88041ae0",
   "metadata": {},
   "outputs": [
    {
     "data": {
      "text/plain": [
       "(430, 16)"
      ]
     },
     "execution_count": 21,
     "metadata": {},
     "output_type": "execute_result"
    }
   ],
   "source": [
    "# check total of row & col.\n",
    "df.shape"
   ]
  },
  {
   "cell_type": "code",
   "execution_count": 22,
   "id": "4c27190d",
   "metadata": {},
   "outputs": [
    {
     "data": {
      "text/plain": [
       "brand               0\n",
       "model               0\n",
       "base_color          0\n",
       "processor           0\n",
       "screen_size         0\n",
       "ROM                 0\n",
       "RAM                 0\n",
       "display_size        0\n",
       "num_rear_camera     0\n",
       "num_front_camera    0\n",
       "battery_capacity    0\n",
       "ratings             0\n",
       "num_of_ratings      0\n",
       "sales_price         0\n",
       "discount_percent    0\n",
       "sales               0\n",
       "dtype: int64"
      ]
     },
     "execution_count": 22,
     "metadata": {},
     "output_type": "execute_result"
    }
   ],
   "source": [
    "# check null value in whole mobile data\n",
    "\n",
    "df.isna().sum()"
   ]
  },
  {
   "cell_type": "code",
   "execution_count": 23,
   "id": "bab1ab9f",
   "metadata": {},
   "outputs": [
    {
     "name": "stdout",
     "output_type": "stream",
     "text": [
      "<class 'pandas.core.frame.DataFrame'>\n",
      "RangeIndex: 430 entries, 0 to 429\n",
      "Data columns (total 16 columns):\n",
      " #   Column            Non-Null Count  Dtype  \n",
      "---  ------            --------------  -----  \n",
      " 0   brand             430 non-null    object \n",
      " 1   model             430 non-null    object \n",
      " 2   base_color        430 non-null    object \n",
      " 3   processor         430 non-null    object \n",
      " 4   screen_size       430 non-null    object \n",
      " 5   ROM               430 non-null    int64  \n",
      " 6   RAM               430 non-null    int64  \n",
      " 7   display_size      430 non-null    float64\n",
      " 8   num_rear_camera   430 non-null    int64  \n",
      " 9   num_front_camera  430 non-null    int64  \n",
      " 10  battery_capacity  430 non-null    int64  \n",
      " 11  ratings           430 non-null    float64\n",
      " 12  num_of_ratings    430 non-null    int64  \n",
      " 13  sales_price       430 non-null    int64  \n",
      " 14  discount_percent  430 non-null    float64\n",
      " 15  sales             430 non-null    float64\n",
      "dtypes: float64(4), int64(7), object(5)\n",
      "memory usage: 53.9+ KB\n"
     ]
    }
   ],
   "source": [
    "# check complete information.\n",
    "\n",
    "df.info()"
   ]
  },
  {
   "cell_type": "code",
   "execution_count": 24,
   "id": "9ca52870",
   "metadata": {},
   "outputs": [
    {
     "data": {
      "text/plain": [
       "Index(['brand', 'model', 'base_color', 'processor', 'screen_size', 'ROM',\n",
       "       'RAM', 'display_size', 'num_rear_camera', 'num_front_camera',\n",
       "       'battery_capacity', 'ratings', 'num_of_ratings', 'sales_price',\n",
       "       'discount_percent', 'sales'],\n",
       "      dtype='object')"
      ]
     },
     "execution_count": 24,
     "metadata": {},
     "output_type": "execute_result"
    }
   ],
   "source": [
    "df.columns"
   ]
  },
  {
   "cell_type": "code",
   "execution_count": 25,
   "id": "40f962ff",
   "metadata": {},
   "outputs": [
    {
     "data": {
      "text/html": [
       "<div>\n",
       "<style scoped>\n",
       "    .dataframe tbody tr th:only-of-type {\n",
       "        vertical-align: middle;\n",
       "    }\n",
       "\n",
       "    .dataframe tbody tr th {\n",
       "        vertical-align: top;\n",
       "    }\n",
       "\n",
       "    .dataframe thead th {\n",
       "        text-align: right;\n",
       "    }\n",
       "</style>\n",
       "<table border=\"1\" class=\"dataframe\">\n",
       "  <thead>\n",
       "    <tr style=\"text-align: right;\">\n",
       "      <th></th>\n",
       "      <th>brand</th>\n",
       "      <th>model</th>\n",
       "      <th>base_color</th>\n",
       "      <th>processor</th>\n",
       "      <th>screen_size</th>\n",
       "      <th>ROM</th>\n",
       "      <th>RAM</th>\n",
       "      <th>display_size</th>\n",
       "      <th>num_rear_camera</th>\n",
       "      <th>num_front_camera</th>\n",
       "      <th>battery_capacity</th>\n",
       "      <th>ratings</th>\n",
       "      <th>num_of_ratings</th>\n",
       "      <th>sales_price</th>\n",
       "      <th>discount_percent</th>\n",
       "      <th>sales</th>\n",
       "    </tr>\n",
       "  </thead>\n",
       "  <tbody>\n",
       "    <tr>\n",
       "      <th>0</th>\n",
       "      <td>Apple</td>\n",
       "      <td>iPhone SE</td>\n",
       "      <td>Black</td>\n",
       "      <td>Water</td>\n",
       "      <td>Very Small</td>\n",
       "      <td>64</td>\n",
       "      <td>2</td>\n",
       "      <td>4.7</td>\n",
       "      <td>1</td>\n",
       "      <td>1</td>\n",
       "      <td>1800</td>\n",
       "      <td>4.5</td>\n",
       "      <td>38645</td>\n",
       "      <td>32999</td>\n",
       "      <td>0.17</td>\n",
       "      <td>127.52</td>\n",
       "    </tr>\n",
       "    <tr>\n",
       "      <th>1</th>\n",
       "      <td>Apple</td>\n",
       "      <td>iPhone 12 Mini</td>\n",
       "      <td>Red</td>\n",
       "      <td>Ceramic</td>\n",
       "      <td>Small</td>\n",
       "      <td>64</td>\n",
       "      <td>4</td>\n",
       "      <td>5.4</td>\n",
       "      <td>2</td>\n",
       "      <td>1</td>\n",
       "      <td>2815</td>\n",
       "      <td>4.5</td>\n",
       "      <td>244</td>\n",
       "      <td>57149</td>\n",
       "      <td>0.04</td>\n",
       "      <td>1.39</td>\n",
       "    </tr>\n",
       "    <tr>\n",
       "      <th>2</th>\n",
       "      <td>Apple</td>\n",
       "      <td>iPhone SE</td>\n",
       "      <td>Red</td>\n",
       "      <td>Water</td>\n",
       "      <td>Very Small</td>\n",
       "      <td>64</td>\n",
       "      <td>2</td>\n",
       "      <td>4.7</td>\n",
       "      <td>1</td>\n",
       "      <td>1</td>\n",
       "      <td>1800</td>\n",
       "      <td>4.5</td>\n",
       "      <td>38645</td>\n",
       "      <td>32999</td>\n",
       "      <td>0.17</td>\n",
       "      <td>127.52</td>\n",
       "    </tr>\n",
       "    <tr>\n",
       "      <th>3</th>\n",
       "      <td>Apple</td>\n",
       "      <td>iPhone XR</td>\n",
       "      <td>Others</td>\n",
       "      <td>iOS</td>\n",
       "      <td>Medium</td>\n",
       "      <td>64</td>\n",
       "      <td>3</td>\n",
       "      <td>6.1</td>\n",
       "      <td>1</td>\n",
       "      <td>1</td>\n",
       "      <td>2942</td>\n",
       "      <td>4.6</td>\n",
       "      <td>5366</td>\n",
       "      <td>42999</td>\n",
       "      <td>0.10</td>\n",
       "      <td>23.07</td>\n",
       "    </tr>\n",
       "    <tr>\n",
       "      <th>4</th>\n",
       "      <td>Apple</td>\n",
       "      <td>iPhone 12</td>\n",
       "      <td>Red</td>\n",
       "      <td>Ceramic</td>\n",
       "      <td>Medium</td>\n",
       "      <td>128</td>\n",
       "      <td>4</td>\n",
       "      <td>6.1</td>\n",
       "      <td>2</td>\n",
       "      <td>1</td>\n",
       "      <td>2815</td>\n",
       "      <td>4.6</td>\n",
       "      <td>745</td>\n",
       "      <td>69149</td>\n",
       "      <td>0.02</td>\n",
       "      <td>5.15</td>\n",
       "    </tr>\n",
       "    <tr>\n",
       "      <th>...</th>\n",
       "      <td>...</td>\n",
       "      <td>...</td>\n",
       "      <td>...</td>\n",
       "      <td>...</td>\n",
       "      <td>...</td>\n",
       "      <td>...</td>\n",
       "      <td>...</td>\n",
       "      <td>...</td>\n",
       "      <td>...</td>\n",
       "      <td>...</td>\n",
       "      <td>...</td>\n",
       "      <td>...</td>\n",
       "      <td>...</td>\n",
       "      <td>...</td>\n",
       "      <td>...</td>\n",
       "      <td>...</td>\n",
       "    </tr>\n",
       "    <tr>\n",
       "      <th>425</th>\n",
       "      <td>Xiaomi</td>\n",
       "      <td>Redmi 6 Pro</td>\n",
       "      <td>Black</td>\n",
       "      <td>Qualcomm</td>\n",
       "      <td>Small</td>\n",
       "      <td>32</td>\n",
       "      <td>3</td>\n",
       "      <td>5.8</td>\n",
       "      <td>2</td>\n",
       "      <td>1</td>\n",
       "      <td>4000</td>\n",
       "      <td>4.3</td>\n",
       "      <td>1870</td>\n",
       "      <td>7999</td>\n",
       "      <td>0.30</td>\n",
       "      <td>1.50</td>\n",
       "    </tr>\n",
       "    <tr>\n",
       "      <th>426</th>\n",
       "      <td>Xiaomi</td>\n",
       "      <td>Redmi 6 Pro</td>\n",
       "      <td>Red</td>\n",
       "      <td>Qualcomm</td>\n",
       "      <td>Small</td>\n",
       "      <td>64</td>\n",
       "      <td>4</td>\n",
       "      <td>5.8</td>\n",
       "      <td>2</td>\n",
       "      <td>1</td>\n",
       "      <td>4000</td>\n",
       "      <td>4.3</td>\n",
       "      <td>1783</td>\n",
       "      <td>9699</td>\n",
       "      <td>0.28</td>\n",
       "      <td>1.73</td>\n",
       "    </tr>\n",
       "    <tr>\n",
       "      <th>427</th>\n",
       "      <td>Xiaomi</td>\n",
       "      <td>Mi 11 Lite</td>\n",
       "      <td>Others</td>\n",
       "      <td>Qualcomm</td>\n",
       "      <td>Large</td>\n",
       "      <td>128</td>\n",
       "      <td>6</td>\n",
       "      <td>6.5</td>\n",
       "      <td>3</td>\n",
       "      <td>1</td>\n",
       "      <td>4250</td>\n",
       "      <td>4.2</td>\n",
       "      <td>1554</td>\n",
       "      <td>21999</td>\n",
       "      <td>0.12</td>\n",
       "      <td>3.42</td>\n",
       "    </tr>\n",
       "    <tr>\n",
       "      <th>428</th>\n",
       "      <td>Xiaomi</td>\n",
       "      <td>Redmi 8A Dual</td>\n",
       "      <td>Blue</td>\n",
       "      <td>Qualcomm</td>\n",
       "      <td>Medium</td>\n",
       "      <td>32</td>\n",
       "      <td>3</td>\n",
       "      <td>6.2</td>\n",
       "      <td>2</td>\n",
       "      <td>1</td>\n",
       "      <td>5000</td>\n",
       "      <td>4.2</td>\n",
       "      <td>8161</td>\n",
       "      <td>8299</td>\n",
       "      <td>0.07</td>\n",
       "      <td>6.77</td>\n",
       "    </tr>\n",
       "    <tr>\n",
       "      <th>429</th>\n",
       "      <td>Xiaomi</td>\n",
       "      <td>Redmi 6 Pro</td>\n",
       "      <td>Blue</td>\n",
       "      <td>Qualcomm</td>\n",
       "      <td>Small</td>\n",
       "      <td>32</td>\n",
       "      <td>3</td>\n",
       "      <td>5.8</td>\n",
       "      <td>2</td>\n",
       "      <td>1</td>\n",
       "      <td>4000</td>\n",
       "      <td>4.3</td>\n",
       "      <td>1870</td>\n",
       "      <td>8190</td>\n",
       "      <td>0.36</td>\n",
       "      <td>1.53</td>\n",
       "    </tr>\n",
       "  </tbody>\n",
       "</table>\n",
       "<p>430 rows × 16 columns</p>\n",
       "</div>"
      ],
      "text/plain": [
       "      brand           model base_color processor screen_size  ROM  RAM  \\\n",
       "0     Apple       iPhone SE      Black     Water  Very Small   64    2   \n",
       "1     Apple  iPhone 12 Mini        Red   Ceramic       Small   64    4   \n",
       "2     Apple       iPhone SE        Red     Water  Very Small   64    2   \n",
       "3     Apple       iPhone XR     Others       iOS      Medium   64    3   \n",
       "4     Apple       iPhone 12        Red   Ceramic      Medium  128    4   \n",
       "..      ...             ...        ...       ...         ...  ...  ...   \n",
       "425  Xiaomi     Redmi 6 Pro      Black  Qualcomm       Small   32    3   \n",
       "426  Xiaomi     Redmi 6 Pro        Red  Qualcomm       Small   64    4   \n",
       "427  Xiaomi      Mi 11 Lite     Others  Qualcomm       Large  128    6   \n",
       "428  Xiaomi   Redmi 8A Dual       Blue  Qualcomm      Medium   32    3   \n",
       "429  Xiaomi     Redmi 6 Pro       Blue  Qualcomm       Small   32    3   \n",
       "\n",
       "     display_size  num_rear_camera  num_front_camera  battery_capacity  \\\n",
       "0             4.7                1                 1              1800   \n",
       "1             5.4                2                 1              2815   \n",
       "2             4.7                1                 1              1800   \n",
       "3             6.1                1                 1              2942   \n",
       "4             6.1                2                 1              2815   \n",
       "..            ...              ...               ...               ...   \n",
       "425           5.8                2                 1              4000   \n",
       "426           5.8                2                 1              4000   \n",
       "427           6.5                3                 1              4250   \n",
       "428           6.2                2                 1              5000   \n",
       "429           5.8                2                 1              4000   \n",
       "\n",
       "     ratings  num_of_ratings  sales_price  discount_percent   sales  \n",
       "0        4.5           38645        32999              0.17  127.52  \n",
       "1        4.5             244        57149              0.04    1.39  \n",
       "2        4.5           38645        32999              0.17  127.52  \n",
       "3        4.6            5366        42999              0.10   23.07  \n",
       "4        4.6             745        69149              0.02    5.15  \n",
       "..       ...             ...          ...               ...     ...  \n",
       "425      4.3            1870         7999              0.30    1.50  \n",
       "426      4.3            1783         9699              0.28    1.73  \n",
       "427      4.2            1554        21999              0.12    3.42  \n",
       "428      4.2            8161         8299              0.07    6.77  \n",
       "429      4.3            1870         8190              0.36    1.53  \n",
       "\n",
       "[430 rows x 16 columns]"
      ]
     },
     "execution_count": 25,
     "metadata": {},
     "output_type": "execute_result"
    }
   ],
   "source": [
    "df"
   ]
  },
  {
   "cell_type": "code",
   "execution_count": 26,
   "id": "06416f17",
   "metadata": {},
   "outputs": [
    {
     "data": {
      "text/plain": [
       "brand\n",
       "Realme     138\n",
       "Samsung    119\n",
       "Xiaomi      61\n",
       "Apple       56\n",
       "Poco        56\n",
       "Name: count, dtype: int64"
      ]
     },
     "execution_count": 26,
     "metadata": {},
     "output_type": "execute_result"
    }
   ],
   "source": [
    "# To count all brand no.\n",
    "\n",
    "df[\"brand\"].value_counts()"
   ]
  },
  {
   "cell_type": "code",
   "execution_count": 27,
   "id": "c658adde",
   "metadata": {},
   "outputs": [
    {
     "data": {
      "text/plain": [
       "{'Realme': 138, 'Samsung': 119, 'Xiaomi': 61, 'Apple': 56, 'Poco': 56}"
      ]
     },
     "execution_count": 27,
     "metadata": {},
     "output_type": "execute_result"
    }
   ],
   "source": [
    "# convert into dictionary \n",
    "\n",
    "vc = df[\"brand\"].value_counts()\n",
    "vc = dict(vc)      # it convert complete value into dictionary\n",
    "vc"
   ]
  },
  {
   "cell_type": "code",
   "execution_count": 28,
   "id": "9b9c62f3",
   "metadata": {},
   "outputs": [
    {
     "data": {
      "text/plain": [
       "dict_keys(['Realme', 'Samsung', 'Xiaomi', 'Apple', 'Poco'])"
      ]
     },
     "execution_count": 28,
     "metadata": {},
     "output_type": "execute_result"
    }
   ],
   "source": [
    "lab = vc.keys()   \n",
    "lab"
   ]
  },
  {
   "cell_type": "code",
   "execution_count": 29,
   "id": "ced6cc8a",
   "metadata": {},
   "outputs": [
    {
     "data": {
      "text/plain": [
       "dict_values([138, 119, 61, 56, 56])"
      ]
     },
     "execution_count": 29,
     "metadata": {},
     "output_type": "execute_result"
    }
   ],
   "source": [
    "val = vc.values()   # convert into value\n",
    "val"
   ]
  },
  {
   "cell_type": "code",
   "execution_count": 30,
   "id": "5fcbdad8",
   "metadata": {},
   "outputs": [],
   "source": [
    "# how to create a pie chart."
   ]
  },
  {
   "cell_type": "code",
   "execution_count": 34,
   "id": "9727c4a0",
   "metadata": {},
   "outputs": [
    {
     "ename": "TypeError",
     "evalue": "pie() got an unexpected keyword argument 'lables'",
     "output_type": "error",
     "traceback": [
      "\u001b[1;31m---------------------------------------------------------------------------\u001b[0m",
      "\u001b[1;31mTypeError\u001b[0m                                 Traceback (most recent call last)",
      "Cell \u001b[1;32mIn[34], line 2\u001b[0m\n\u001b[0;32m      1\u001b[0m \u001b[38;5;28;01mimport\u001b[39;00m \u001b[38;5;21;01mmatplotlib\u001b[39;00m\u001b[38;5;21;01m.\u001b[39;00m\u001b[38;5;21;01mpyplot\u001b[39;00m \u001b[38;5;28;01mas\u001b[39;00m \u001b[38;5;21;01mplt\u001b[39;00m\n\u001b[1;32m----> 2\u001b[0m plt\u001b[38;5;241m.\u001b[39mpie(val,lables \u001b[38;5;241m=\u001b[39mlab)\n\u001b[0;32m      3\u001b[0m plt\u001b[38;5;241m.\u001b[39mshow()\n",
      "\u001b[1;31mTypeError\u001b[0m: pie() got an unexpected keyword argument 'lables'"
     ]
    }
   ],
   "source": [
    "import matplotlib.pyplot as plt\n",
    "plt.pie(val,lables =lab)\n",
    "plt.show()"
   ]
  },
  {
   "cell_type": "code",
   "execution_count": null,
   "id": "37890dc2",
   "metadata": {},
   "outputs": [],
   "source": []
  },
  {
   "cell_type": "code",
   "execution_count": null,
   "id": "344a3294",
   "metadata": {},
   "outputs": [],
   "source": []
  }
 ],
 "metadata": {
  "kernelspec": {
   "display_name": "Python 3 (ipykernel)",
   "language": "python",
   "name": "python3"
  },
  "language_info": {
   "codemirror_mode": {
    "name": "ipython",
    "version": 3
   },
   "file_extension": ".py",
   "mimetype": "text/x-python",
   "name": "python",
   "nbconvert_exporter": "python",
   "pygments_lexer": "ipython3",
   "version": "3.11.5"
  }
 },
 "nbformat": 4,
 "nbformat_minor": 5
}
